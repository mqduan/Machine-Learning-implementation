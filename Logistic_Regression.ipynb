{
  "nbformat": 4,
  "nbformat_minor": 0,
  "metadata": {
    "colab": {
      "name": "Logistic Regression.ipynb",
      "provenance": [],
      "authorship_tag": "ABX9TyM2yEZi6XPBeLIWmkCwdjgW",
      "include_colab_link": true
    },
    "kernelspec": {
      "name": "python3",
      "display_name": "Python 3"
    },
    "language_info": {
      "name": "python"
    }
  },
  "cells": [
    {
      "cell_type": "markdown",
      "metadata": {
        "id": "view-in-github",
        "colab_type": "text"
      },
      "source": [
        "<a href=\"https://colab.research.google.com/github/mqduan/Machine-Learning-implementation/blob/main/Logistic_Regression.ipynb\" target=\"_parent\"><img src=\"https://colab.research.google.com/assets/colab-badge.svg\" alt=\"Open In Colab\"/></a>"
      ]
    },
    {
      "cell_type": "markdown",
      "source": [
        "## Brief Introduction\n",
        "Logistic regression is a type of generalized linear models. It is used to model count or proportion data or binary classification data. The model is fit as\n",
        "\\begin{equation}\n",
        " \\log {\\frac{p}{1-p}} = βx,    \n",
        "\\end{equation}or\n",
        "\\begin{equation}\n",
        "p = \\frac{1}{1 + e^{-\\beta x}}\n",
        " \\end{equation}\n",
        "\n",
        "## Loss function\n",
        "Since the model assumes that the samples are independent and their labels/classes follow a sequence of bernoulli distributions, maximum likelihood estimators are usually used to fit the model, where we maximize the conditional probability of observing the data given a specific parameter $\\beta$ . The log likelihood is \n",
        "\\begin{equation}\n",
        "l(\\beta) = \\sum_{i=1}^{N} {\\log {P(y_i  |X=x_i;\\beta)}}\n",
        "\\end{equation}  \n",
        "\n",
        "If we denote \n",
        "$ P(Y=1|X=x)=p(x;\\beta) $ and $ P(Y=0 |X=x) = 1-p(x; \\beta) $ , then\n",
        "\n",
        "\n",
        "\\begin{eqnarray*}\n",
        "l(\\beta)&=&\\sum { [y_i \\log {p(x_i;\\beta)}+(1-y_i)}\\log {(1-p(x_i;\\beta)]}\\\\\n",
        "&=&\\sum(y_i\\beta^T x_i-\\log (1+e^{\\beta^T x_i}))\n",
        "\\end{eqnarray*}\n",
        "\n",
        "The negative of the binomial log likelihood is also half of the deviance between an observed probability $y_i$ (in this case, 0/1)and its estimate $p(x_i, \\beta)$, where the deviance (which is twice the 'Kullback-Leibler distance') is given as :\n",
        "\\begin{equation}\n",
        "D=2\\sum[y_i\\log(\\frac{y_i}{p(x_i, \\beta)})+(1-y_i)\\log(\\frac{1-y_i}{1-p(x_i, \\beta)})]\n",
        "\\end{equation}\n",
        "To maximize the log likelihood is then equavalent to minimising the deviance as a measure just like the quared error in regression.\n",
        "\n",
        "## Regularizations\n",
        "A modified version of negative log likelihood function is called the log loss and with regularization term, it is given as:\n",
        "\\begin{equation}\n",
        "f(\\beta)=\\frac{1}{N}\\sum_{i=1}^N {[-y_i \\beta^T x_i +\\log(1+e^{\\beta^T x_i})]}+\\frac{\\lambda}{2} ||\\beta||^2\n",
        "\\end{equation}\n",
        "and its gradient is given as:\n",
        "\\begin{equation}\n",
        "\\frac{\\partial f(\\beta)}{\\partial \\beta_i}=\\frac{1}{N}\\sum_{i=1}^N (-y_ix_i+p(x_i;\\beta)x_i)+\\lambda \\beta\n",
        "\\end{equation}\n",
        "Through iterations of gradient descent, the log loss should decrease. As a way of sanity check, the log loss should be smaller than $-\\log(0.5)=0.693$ to beat the random toss of a coin to assign classes.\n",
        "\n",
        "Alternatively, one could also consider an L1 penalty as the regularization term.\n",
        "\\begin{equation}\n",
        "f(\\beta)=\\frac{1}{N}\\sum_{i=1}^N {[-y_i \\log \\hat p_i -(1-y_i) \\log(1-\\hat p_i))]}+\\lambda ||\\beta||_1\n",
        "\\end{equation} where\n",
        "\\begin{equation}\n",
        "\\hat p_i= \\frac{1}{1+e^{-\\beta^Tx_i}}\n",
        "\\end{equation}\n",
        "The subgradient of this loss function is\n",
        "\\begin{equation}\n",
        "\\frac{1}{N}\\langle x_i,(y-\\hat p)\\rangle-\\lambda s_i\n",
        "\\end{equation} where \n",
        "\\begin{equation}\n",
        "s_i \\in sign(\\beta_i)\n",
        "\\end{equation}\n",
        "\n"
      ],
      "metadata": {
        "id": "S4pbp_zjg6UG"
      }
    },
    {
      "cell_type": "markdown",
      "source": [
        "## An analysis of the loan prediction.\n",
        "The data is from [here](https://www.kaggle.com/itssuru/loan-data?select=loan_data.csv) which is \"publicly available data from LendingClub\".com. The columns in this data file include the following.\n",
        "\n",
        "credit.policy: 1 if the customer meets the credit underwriting criteria of LendingClub.com, and 0 otherwise.\n",
        "\n",
        "purpose: The purpose of the loan (values \"creditcard\", \"debtconsolidation\", \"educational\", \"majorpurchase\", \"smallbusiness\", and \"all_other\").\n",
        "\n",
        "int.rate: The interest rate of the loan, as a proportion (a rate of 11% would be stored as 0.11). Borrowers judged to be more risky are assigned higher interest rates.\n",
        "\n",
        "installment: The monthly installments owed by the borrower if the loan is funded.\n",
        "\n",
        "log.annual.inc: The natural log of the self-reported annual income of the borrower.\n",
        "\n",
        "dti: The debt-to-income ratio of the borrower (amount of debt divided by annual income).\n",
        "\n",
        "fico: The FICO credit score of the borrower.\n",
        "\n",
        "days.with.cr.line: The number of days the borrower has had a credit line.\n",
        "\n",
        "revol.bal: The borrower's revolving balance (amount unpaid at the end of the credit card billing cycle).\n",
        "\n",
        "revol.util: The borrower's revolving line utilization rate (the amount of the credit line used relative to total credit available).\n",
        "\n",
        "inq.last.6mths: The borrower's number of inquiries by creditors in the last 6 months.\n",
        "\n",
        "delinq.2yrs: The number of times the borrower had been 30+ days past due on a payment in the past 2 years.\n",
        "\n",
        "pub.rec: The borrower's number of derogatory public records (bankruptcy filings, tax liens, or judgments).\n",
        "\n"
      ],
      "metadata": {
        "id": "2dG2W-FljO-7"
      }
    },
    {
      "cell_type": "code",
      "execution_count": null,
      "metadata": {
        "id": "1h3jl4DRgZsp"
      },
      "outputs": [],
      "source": [
        "import numpy as np\n",
        "import pandas as pd\n",
        "import seaborn as sns\n",
        "import matplotlib.pyplot as plt"
      ]
    },
    {
      "cell_type": "code",
      "source": [
        "df=pd.read_csv('loan_data.csv')"
      ],
      "metadata": {
        "id": "bEVKeB0ImJ-w"
      },
      "execution_count": null,
      "outputs": []
    },
    {
      "cell_type": "code",
      "source": [
        "print(f'This dataset contains {df.shape[0]} data points with {df.shape[1]} features.')"
      ],
      "metadata": {
        "colab": {
          "base_uri": "https://localhost:8080/"
        },
        "id": "xQj0h6-yoQyI",
        "outputId": "04b812d3-126e-42c4-fcd9-d6b7e31ec023"
      },
      "execution_count": null,
      "outputs": [
        {
          "output_type": "stream",
          "name": "stdout",
          "text": [
            "This dataset contains 9578 data points with 14 features.\n"
          ]
        }
      ]
    },
    {
      "cell_type": "code",
      "source": [
        "response=df['not.fully.paid']\n",
        "print(f'There are {response.value_counts()[0]} who paid off loan in full,')\n",
        "print(f'and {response.value_counts()[1]} defaulted.')"
      ],
      "metadata": {
        "colab": {
          "base_uri": "https://localhost:8080/"
        },
        "id": "OAX27GMBoZ38",
        "outputId": "127b1b2e-dbb7-44e9-ae66-17132470ea32"
      },
      "execution_count": null,
      "outputs": [
        {
          "output_type": "stream",
          "name": "stdout",
          "text": [
            "There are 8045 who paid off loan in full,\n",
            "and 1533 defaulted.\n"
          ]
        }
      ]
    },
    {
      "cell_type": "code",
      "source": [
        "print(f'There is missing values: \\n {df.isnull().sum()!=0}') "
      ],
      "metadata": {
        "colab": {
          "base_uri": "https://localhost:8080/"
        },
        "id": "SmBabY4kohWG",
        "outputId": "1c340d0d-8473-4b4e-a02f-0baad4e661c2"
      },
      "execution_count": null,
      "outputs": [
        {
          "output_type": "stream",
          "name": "stdout",
          "text": [
            "There is missing values: \n",
            " credit.policy        False\n",
            "purpose              False\n",
            "int.rate             False\n",
            "installment          False\n",
            "log.annual.inc       False\n",
            "dti                  False\n",
            "fico                 False\n",
            "days.with.cr.line    False\n",
            "revol.bal            False\n",
            "revol.util           False\n",
            "inq.last.6mths       False\n",
            "delinq.2yrs          False\n",
            "pub.rec              False\n",
            "not.fully.paid       False\n",
            "dtype: bool\n"
          ]
        }
      ]
    },
    {
      "cell_type": "code",
      "source": [
        "df.info()"
      ],
      "metadata": {
        "colab": {
          "base_uri": "https://localhost:8080/"
        },
        "id": "C7aCSDVErm_-",
        "outputId": "09057e7f-a75b-4a85-a1f6-e9e996b03ced"
      },
      "execution_count": null,
      "outputs": [
        {
          "output_type": "stream",
          "name": "stdout",
          "text": [
            "<class 'pandas.core.frame.DataFrame'>\n",
            "RangeIndex: 9578 entries, 0 to 9577\n",
            "Data columns (total 14 columns):\n",
            " #   Column             Non-Null Count  Dtype  \n",
            "---  ------             --------------  -----  \n",
            " 0   credit.policy      9578 non-null   int64  \n",
            " 1   purpose            9578 non-null   object \n",
            " 2   int.rate           9578 non-null   float64\n",
            " 3   installment        9578 non-null   float64\n",
            " 4   log.annual.inc     9578 non-null   float64\n",
            " 5   dti                9578 non-null   float64\n",
            " 6   fico               9578 non-null   int64  \n",
            " 7   days.with.cr.line  9578 non-null   float64\n",
            " 8   revol.bal          9578 non-null   int64  \n",
            " 9   revol.util         9578 non-null   float64\n",
            " 10  inq.last.6mths     9578 non-null   int64  \n",
            " 11  delinq.2yrs        9578 non-null   int64  \n",
            " 12  pub.rec            9578 non-null   int64  \n",
            " 13  not.fully.paid     9578 non-null   int64  \n",
            "dtypes: float64(6), int64(7), object(1)\n",
            "memory usage: 1.0+ MB\n"
          ]
        }
      ]
    },
    {
      "cell_type": "code",
      "source": [
        "df.columns[:-1]"
      ],
      "metadata": {
        "colab": {
          "base_uri": "https://localhost:8080/"
        },
        "id": "I80_kWjauN95",
        "outputId": "9b60a1fb-0425-4a9e-92bf-e7a96fb0e5e3"
      },
      "execution_count": null,
      "outputs": [
        {
          "output_type": "execute_result",
          "data": {
            "text/plain": [
              "Index(['credit.policy', 'purpose', 'int.rate', 'installment', 'log.annual.inc',\n",
              "       'dti', 'fico', 'days.with.cr.line', 'revol.bal', 'revol.util',\n",
              "       'inq.last.6mths', 'delinq.2yrs', 'pub.rec'],\n",
              "      dtype='object')"
            ]
          },
          "metadata": {},
          "execution_count": 33
        }
      ]
    },
    {
      "cell_type": "code",
      "source": [
        "#numerical_feat = df.dtypes[df.dtypes != 'object'].index\n",
        "# plot all predictor columns color coded by the response.\n",
        "for f in df.columns[:-1]:\n",
        "    sns.histplot(data=df, x=f,hue='not.fully.paid')\n",
        "    plt.show()\n"
      ],
      "metadata": {
        "colab": {
          "base_uri": "https://localhost:8080/",
          "height": 1000
        },
        "id": "CjHuzBBAonP8",
        "outputId": "bd48861e-398e-4d79-d0ff-f12836bca7ca"
      },
      "execution_count": null,
      "outputs": [
        {
          "output_type": "display_data",
          "data": {
            "image/png": "[encoded data removed]",
            "text/plain": [
              "<Figure size 432x288 with 1 Axes>"
            ]
          },
          "metadata": {
            "needs_background": "light"
          }
        },
        {
          "output_type": "display_data",
          "data": {
            "image/png": "[encoded data removed]",
            "text/plain": [
              "<Figure size 432x288 with 1 Axes>"
            ]
          },
          "metadata": {
            "needs_background": "light"
          }
        },
        {
          "output_type": "display_data",
          "data": {
            "image/png": "[encoded data removed]",
            "text/plain": [
              "<Figure size 432x288 with 1 Axes>"
            ]
          },
          "metadata": {
            "needs_background": "light"
          }
        },
        {
          "output_type": "display_data",
          "data": {
            "image/png": "[encoded data removed]",
            "text/plain": [
              "<Figure size 432x288 with 1 Axes>"
            ]
          },
          "metadata": {
            "needs_background": "light"
          }
        },
        {
          "output_type": "display_data",
          "data": {
            "image/png": "[encoded data removed]",
            "text/plain": [
              "<Figure size 432x288 with 1 Axes>"
            ]
          },
          "metadata": {
            "needs_background": "light"
          }
        },
        {
          "output_type": "display_data",
          "data": {
            "image/png": "[encoded data removed]",
            "text/plain": [
              "<Figure size 432x288 with 1 Axes>"
            ]
          },
          "metadata": {
            "needs_background": "light"
          }
        },
        {
          "output_type": "display_data",
          "data": {
            "image/png": "[encoded data removed]",
            "text/plain": [
              "<Figure size 432x288 with 1 Axes>"
            ]
          },
          "metadata": {
            "needs_background": "light"
          }
        },
        {
          "output_type": "display_data",
          "data": {
            "image/png": "[encoded data removed]",
            "text/plain": [
              "<Figure size 432x288 with 1 Axes>"
            ]
          },
          "metadata": {
            "needs_background": "light"
          }
        },
        {
          "output_type": "display_data",
          "data": {
            "image/png": "[encoded data removed]",
            "text/plain": [
              "<Figure size 432x288 with 1 Axes>"
            ]
          },
          "metadata": {
            "needs_background": "light"
          }
        },
        {
          "output_type": "display_data",
          "data": {
            "image/png": "[encoded data removed]",
            "text/plain": [
              "<Figure size 432x288 with 1 Axes>"
            ]
          },
          "metadata": {
            "needs_background": "light"
          }
        },
        {
          "output_type": "display_data",
          "data": {
            "image/png": "[encoded data removed]",
            "text/plain": [
              "<Figure size 432x288 with 1 Axes>"
            ]
          },
          "metadata": {
            "needs_background": "light"
          }
        },
        {
          "output_type": "display_data",
          "data": {
            "image/png": "[encoded data removed]",
            "text/plain": [
              "<Figure size 432x288 with 1 Axes>"
            ]
          },
          "metadata": {
            "needs_background": "light"
          }
        },
        {
          "output_type": "display_data",
          "data": {
            "image/png": "[encoded data removed]",
            "text/plain": [
              "<Figure size 432x288 with 1 Axes>"
            ]
          },
          "metadata": {
            "needs_background": "light"
          }
        }
      ]
    },
    {
      "cell_type": "code",
      "source": [
        "df['purpose']=df['purpose'].astype('category').cat.codes\n",
        "categorical_feat=['credit.policy', 'purpose', 'inq.last.6mths', 'delinq.2yrs', 'pub.rec']\n",
        "for f in categorical_feat:\n",
        "    sns.countplot(data=df, x=f,hue='not.fully.paid')\n",
        "    plt.show()"
      ],
      "metadata": {
        "colab": {
          "base_uri": "https://localhost:8080/",
          "height": 1000
        },
        "id": "ASm8Nl3BoreI",
        "outputId": "10f75b8a-e468-4a8b-95a2-c9dba3ac11f1"
      },
      "execution_count": null,
      "outputs": [
        {
          "output_type": "display_data",
          "data": {
            "image/png": "[encoded data removed]",
            "text/plain": [
              "<Figure size 432x288 with 1 Axes>"
            ]
          },
          "metadata": {
            "needs_background": "light"
          }
        },
        {
          "output_type": "display_data",
          "data": {
            "image/png": "[encoded data removed]",
            "text/plain": [
              "<Figure size 432x288 with 1 Axes>"
            ]
          },
          "metadata": {
            "needs_background": "light"
          }
        },
        {
          "output_type": "display_data",
          "data": {
            "image/png": "[encoded data removed]",
            "text/plain": [
              "<Figure size 432x288 with 1 Axes>"
            ]
          },
          "metadata": {
            "needs_background": "light"
          }
        },
        {
          "output_type": "display_data",
          "data": {
            "image/png": "[encoded data removed]",
            "text/plain": [
              "<Figure size 432x288 with 1 Axes>"
            ]
          },
          "metadata": {
            "needs_background": "light"
          }
        },
        {
          "output_type": "display_data",
          "data": {
            "image/png": "[encoded data removed]",
            "text/plain": [
              "<Figure size 432x288 with 1 Axes>"
            ]
          },
          "metadata": {
            "needs_background": "light"
          }
        }
      ]
    },
    {
      "cell_type": "code",
      "source": [
        "from sklearn.model_selection import train_test_split\n",
        "from sklearn.ensemble import RandomForestClassifier\n",
        "X,y=df.drop('not.fully.paid',axis=1),df['not.fully.paid']\n",
        "X=pd.get_dummies(X,drop_first=True)\n",
        "X_train,X_test,y_train,y_test=train_test_split(X,y,test_size=0.1,random_state=49)\n",
        "#X_train,X_val,y_train,y_val=train_test_split(X_train,y_train,test_size=0.2,random_state=49)"
      ],
      "metadata": {
        "id": "-yjIyqaEoslG"
      },
      "execution_count": null,
      "outputs": []
    },
    {
      "cell_type": "code",
      "source": [
        "from sklearn.preprocessing import StandardScaler\n",
        "scale=StandardScaler()\n",
        "X_train = scale.fit_transform(X_train)\n",
        "#X_val = scale.transform(X_val)\n",
        "X_test = scale.transform(X_test)"
      ],
      "metadata": {
        "id": "Wa3PTBgUov2I"
      },
      "execution_count": null,
      "outputs": []
    },
    {
      "cell_type": "code",
      "source": [
        "from sklearn.linear_model import LogisticRegression\n",
        "from sklearn.metrics import accuracy_score,confusion_matrix,roc_curve,classification_report,log_loss\n",
        "from sklearn.model_selection import GridSearchCV, StratifiedKFold\n",
        "C_list=np.geomspace(1e-5,1e5,20) # Return numbers spaced evenly on a log scale\n",
        "weight_list = np.linspace (0, 0.5, 10)\n",
        "print(C_list, weight_list)\n",
        "\n",
        "gridsearch = GridSearchCV(\n",
        "    LogisticRegression(penalty='l1',solver='saga'), #Tried l1 penalty with considerably longer run time with not much difference\n",
        "    #LogisticRegression(),\n",
        "    param_grid ={'C': C_list, 'class_weight': [{0:x,1:1.0-x} for x in weight_list]},\n",
        "    cv=StratifiedKFold(),\n",
        "    scoring='f1',\n",
        "    verbose=2).fit(X_train,y_train)\n"
      ],
      "metadata": {
        "colab": {
          "base_uri": "https://localhost:8080/"
        },
        "id": "88h62JVwpEve",
        "outputId": "76f03cc7-8b36-487f-816b-d032df5aea49"
      },
      "execution_count": null,
      "outputs": [
        {
          "output_type": "stream",
          "name": "stdout",
          "text": [
            "[1.00000000e-05 3.35981829e-05 1.12883789e-04 3.79269019e-04\n",
            " 1.27427499e-03 4.28133240e-03 1.43844989e-02 4.83293024e-02\n",
            " 1.62377674e-01 5.45559478e-01 1.83298071e+00 6.15848211e+00\n",
            " 2.06913808e+01 6.95192796e+01 2.33572147e+02 7.84759970e+02\n",
            " 2.63665090e+03 8.85866790e+03 2.97635144e+04 1.00000000e+05] [0.         0.05555556 0.11111111 0.16666667 0.22222222 0.27777778\n",
            " 0.33333333 0.38888889 0.44444444 0.5       ]\n",
            "Fitting 5 folds for each of 200 candidates, totalling 1000 fits\n",
            "[CV] END .............C=1e-05, class_weight={0: 0.0, 1: 1.0}; total time=   0.0s\n",
            "[CV] END .............C=1e-05, class_weight={0: 0.0, 1: 1.0}; total time=   0.0s\n",
            "[CV] END .............C=1e-05, class_weight={0: 0.0, 1: 1.0}; total time=   0.0s\n",
            "[CV] END .............C=1e-05, class_weight={0: 0.0, 1: 1.0}; total time=   0.0s\n",
            "[CV] END .............C=1e-05, class_weight={0: 0.0, 1: 1.0}; total time=   0.0s\n",
            "[CV] END C=1e-05, class_weight={0: 0.05555555555555555, 1: 0.9444444444444444}; total time=   0.0s\n",
            "[CV] END C=1e-05, class_weight={0: 0.05555555555555555, 1: 0.9444444444444444}; total time=   0.0s\n",
            "[CV] END C=1e-05, class_weight={0: 0.05555555555555555, 1: 0.9444444444444444}; total time=   0.0s\n",
            "[CV] END C=1e-05, class_weight={0: 0.05555555555555555, 1: 0.9444444444444444}; total time=   0.0s\n",
            "[CV] END C=1e-05, class_weight={0: 0.05555555555555555, 1: 0.9444444444444444}; total time=   0.0s\n",
            "[CV] END C=1e-05, class_weight={0: 0.1111111111111111, 1: 0.8888888888888888}; total time=   0.0s\n",
            "[CV] END C=1e-05, class_weight={0: 0.1111111111111111, 1: 0.8888888888888888}; total time=   0.0s\n",
            "[CV] END C=1e-05, class_weight={0: 0.1111111111111111, 1: 0.8888888888888888}; total time=   0.0s\n",
            "[CV] END C=1e-05, class_weight={0: 0.1111111111111111, 1: 0.8888888888888888}; total time=   0.0s\n",
            "[CV] END C=1e-05, class_weight={0: 0.1111111111111111, 1: 0.8888888888888888}; total time=   0.0s\n",
            "[CV] END C=1e-05, class_weight={0: 0.16666666666666666, 1: 0.8333333333333334}; total time=   0.0s\n",
            "[CV] END C=1e-05, class_weight={0: 0.16666666666666666, 1: 0.8333333333333334}; total time=   0.0s\n",
            "[CV] END C=1e-05, class_weight={0: 0.16666666666666666, 1: 0.8333333333333334}; total time=   0.0s\n",
            "[CV] END C=1e-05, class_weight={0: 0.16666666666666666, 1: 0.8333333333333334}; total time=   0.0s\n",
            "[CV] END C=1e-05, class_weight={0: 0.16666666666666666, 1: 0.8333333333333334}; total time=   0.0s\n",
            "[CV] END C=1e-05, class_weight={0: 0.2222222222222222, 1: 0.7777777777777778}; total time=   0.0s\n",
            "[CV] END C=1e-05, class_weight={0: 0.2222222222222222, 1: 0.7777777777777778}; total time=   0.0s\n",
            "[CV] END C=1e-05, class_weight={0: 0.2222222222222222, 1: 0.7777777777777778}; total time=   0.0s\n",
            "[CV] END C=1e-05, class_weight={0: 0.2222222222222222, 1: 0.7777777777777778}; total time=   0.0s\n",
            "[CV] END C=1e-05, class_weight={0: 0.2222222222222222, 1: 0.7777777777777778}; total time=   0.0s\n",
            "[CV] END C=1e-05, class_weight={0: 0.2777777777777778, 1: 0.7222222222222222}; total time=   0.0s\n",
            "[CV] END C=1e-05, class_weight={0: 0.2777777777777778, 1: 0.7222222222222222}; total time=   0.0s\n",
            "[CV] END C=1e-05, class_weight={0: 0.2777777777777778, 1: 0.7222222222222222}; total time=   0.0s\n",
            "[CV] END C=1e-05, class_weight={0: 0.2777777777777778, 1: 0.7222222222222222}; total time=   0.0s\n",
            "[CV] END C=1e-05, class_weight={0: 0.2777777777777778, 1: 0.7222222222222222}; total time=   0.0s\n",
            "[CV] END C=1e-05, class_weight={0: 0.3333333333333333, 1: 0.6666666666666667}; total time=   0.0s\n",
            "[CV] END C=1e-05, class_weight={0: 0.3333333333333333, 1: 0.6666666666666667}; total time=   0.0s\n",
            "[CV] END C=1e-05, class_weight={0: 0.3333333333333333, 1: 0.6666666666666667}; total time=   0.0s\n",
            "[CV] END C=1e-05, class_weight={0: 0.3333333333333333, 1: 0.6666666666666667}; total time=   0.0s\n",
            "[CV] END C=1e-05, class_weight={0: 0.3333333333333333, 1: 0.6666666666666667}; total time=   0.0s\n",
            "[CV] END C=1e-05, class_weight={0: 0.38888888888888884, 1: 0.6111111111111112}; total time=   0.0s\n",
            "[CV] END C=1e-05, class_weight={0: 0.38888888888888884, 1: 0.6111111111111112}; total time=   0.0s\n",
            "[CV] END C=1e-05, class_weight={0: 0.38888888888888884, 1: 0.6111111111111112}; total time=   0.0s\n",
            "[CV] END C=1e-05, class_weight={0: 0.38888888888888884, 1: 0.6111111111111112}; total time=   0.0s\n",
            "[CV] END C=1e-05, class_weight={0: 0.38888888888888884, 1: 0.6111111111111112}; total time=   0.0s\n",
            "[CV] END C=1e-05, class_weight={0: 0.4444444444444444, 1: 0.5555555555555556}; total time=   0.0s\n",
            "[CV] END C=1e-05, class_weight={0: 0.4444444444444444, 1: 0.5555555555555556}; total time=   0.0s\n",
            "[CV] END C=1e-05, class_weight={0: 0.4444444444444444, 1: 0.5555555555555556}; total time=   0.0s\n",
            "[CV] END C=1e-05, class_weight={0: 0.4444444444444444, 1: 0.5555555555555556}; total time=   0.0s\n",
            "[CV] END C=1e-05, class_weight={0: 0.4444444444444444, 1: 0.5555555555555556}; total time=   0.0s\n",
            "[CV] END .............C=1e-05, class_weight={0: 0.5, 1: 0.5}; total time=   0.0s\n",
            "[CV] END .............C=1e-05, class_weight={0: 0.5, 1: 0.5}; total time=   0.0s\n",
            "[CV] END .............C=1e-05, class_weight={0: 0.5, 1: 0.5}; total time=   0.0s\n",
            "[CV] END .............C=1e-05, class_weight={0: 0.5, 1: 0.5}; total time=   0.0s\n",
            "[CV] END .............C=1e-05, class_weight={0: 0.5, 1: 0.5}; total time=   0.0s\n",
            "[CV] END C=3.359818286283781e-05, class_weight={0: 0.0, 1: 1.0}; total time=   0.0s\n",
            "[CV] END C=3.359818286283781e-05, class_weight={0: 0.0, 1: 1.0}; total time=   0.0s\n",
            "[CV] END C=3.359818286283781e-05, class_weight={0: 0.0, 1: 1.0}; total time=   0.0s\n",
            "[CV] END C=3.359818286283781e-05, class_weight={0: 0.0, 1: 1.0}; total time=   0.0s\n",
            "[CV] END C=3.359818286283781e-05, class_weight={0: 0.0, 1: 1.0}; total time=   0.0s\n",
            "[CV] END C=3.359818286283781e-05, class_weight={0: 0.05555555555555555, 1: 0.9444444444444444}; total time=   0.0s\n",
            "[CV] END C=3.359818286283781e-05, class_weight={0: 0.05555555555555555, 1: 0.9444444444444444}; total time=   0.0s\n",
            "[CV] END C=3.359818286283781e-05, class_weight={0: 0.05555555555555555, 1: 0.9444444444444444}; total time=   0.0s\n",
            "[CV] END C=3.359818286283781e-05, class_weight={0: 0.05555555555555555, 1: 0.9444444444444444}; total time=   0.0s\n",
            "[CV] END C=3.359818286283781e-05, class_weight={0: 0.05555555555555555, 1: 0.9444444444444444}; total time=   0.0s\n",
            "[CV] END C=3.359818286283781e-05, class_weight={0: 0.1111111111111111, 1: 0.8888888888888888}; total time=   0.0s\n",
            "[CV] END C=3.359818286283781e-05, class_weight={0: 0.1111111111111111, 1: 0.8888888888888888}; total time=   0.0s\n",
            "[CV] END C=3.359818286283781e-05, class_weight={0: 0.1111111111111111, 1: 0.8888888888888888}; total time=   0.0s\n",
            "[CV] END C=3.359818286283781e-05, class_weight={0: 0.1111111111111111, 1: 0.8888888888888888}; total time=   0.0s\n",
            "[CV] END C=3.359818286283781e-05, class_weight={0: 0.1111111111111111, 1: 0.8888888888888888}; total time=   0.0s\n",
            "[CV] END C=3.359818286283781e-05, class_weight={0: 0.16666666666666666, 1: 0.8333333333333334}; total time=   0.0s\n",
            "[CV] END C=3.359818286283781e-05, class_weight={0: 0.16666666666666666, 1: 0.8333333333333334}; total time=   0.0s\n",
            "[CV] END C=3.359818286283781e-05, class_weight={0: 0.16666666666666666, 1: 0.8333333333333334}; total time=   0.0s\n",
            "[CV] END C=3.359818286283781e-05, class_weight={0: 0.16666666666666666, 1: 0.8333333333333334}; total time=   0.0s\n",
            "[CV] END C=3.359818286283781e-05, class_weight={0: 0.16666666666666666, 1: 0.8333333333333334}; total time=   0.0s\n",
            "[CV] END C=3.359818286283781e-05, class_weight={0: 0.2222222222222222, 1: 0.7777777777777778}; total time=   0.0s\n",
            "[CV] END C=3.359818286283781e-05, class_weight={0: 0.2222222222222222, 1: 0.7777777777777778}; total time=   0.0s\n",
            "[CV] END C=3.359818286283781e-05, class_weight={0: 0.2222222222222222, 1: 0.7777777777777778}; total time=   0.0s\n",
            "[CV] END C=3.359818286283781e-05, class_weight={0: 0.2222222222222222, 1: 0.7777777777777778}; total time=   0.0s\n",
            "[CV] END C=3.359818286283781e-05, class_weight={0: 0.2222222222222222, 1: 0.7777777777777778}; total time=   0.0s\n",
            "[CV] END C=3.359818286283781e-05, class_weight={0: 0.2777777777777778, 1: 0.7222222222222222}; total time=   0.0s\n",
            "[CV] END C=3.359818286283781e-05, class_weight={0: 0.2777777777777778, 1: 0.7222222222222222}; total time=   0.0s\n",
            "[CV] END C=3.359818286283781e-05, class_weight={0: 0.2777777777777778, 1: 0.7222222222222222}; total time=   0.0s\n",
            "[CV] END C=3.359818286283781e-05, class_weight={0: 0.2777777777777778, 1: 0.7222222222222222}; total time=   0.0s\n",
            "[CV] END C=3.359818286283781e-05, class_weight={0: 0.2777777777777778, 1: 0.7222222222222222}; total time=   0.0s\n",
            "[CV] END C=3.359818286283781e-05, class_weight={0: 0.3333333333333333, 1: 0.6666666666666667}; total time=   0.0s\n",
            "[CV] END C=3.359818286283781e-05, class_weight={0: 0.3333333333333333, 1: 0.6666666666666667}; total time=   0.0s\n",
            "[CV] END C=3.359818286283781e-05, class_weight={0: 0.3333333333333333, 1: 0.6666666666666667}; total time=   0.0s\n",
            "[CV] END C=3.359818286283781e-05, class_weight={0: 0.3333333333333333, 1: 0.6666666666666667}; total time=   0.0s\n",
            "[CV] END C=3.359818286283781e-05, class_weight={0: 0.3333333333333333, 1: 0.6666666666666667}; total time=   0.0s\n",
            "[CV] END C=3.359818286283781e-05, class_weight={0: 0.38888888888888884, 1: 0.6111111111111112}; total time=   0.0s\n",
            "[CV] END C=3.359818286283781e-05, class_weight={0: 0.38888888888888884, 1: 0.6111111111111112}; total time=   0.0s\n",
            "[CV] END C=3.359818286283781e-05, class_weight={0: 0.38888888888888884, 1: 0.6111111111111112}; total time=   0.0s\n",
            "[CV] END C=3.359818286283781e-05, class_weight={0: 0.38888888888888884, 1: 0.6111111111111112}; total time=   0.0s\n",
            "[CV] END C=3.359818286283781e-05, class_weight={0: 0.38888888888888884, 1: 0.6111111111111112}; total time=   0.0s\n",
            "[CV] END C=3.359818286283781e-05, class_weight={0: 0.4444444444444444, 1: 0.5555555555555556}; total time=   0.0s\n",
            "[CV] END C=3.359818286283781e-05, class_weight={0: 0.4444444444444444, 1: 0.5555555555555556}; total time=   0.0s\n",
            "[CV] END C=3.359818286283781e-05, class_weight={0: 0.4444444444444444, 1: 0.5555555555555556}; total time=   0.0s\n",
            "[CV] END C=3.359818286283781e-05, class_weight={0: 0.4444444444444444, 1: 0.5555555555555556}; total time=   0.0s\n",
            "[CV] END C=3.359818286283781e-05, class_weight={0: 0.4444444444444444, 1: 0.5555555555555556}; total time=   0.0s\n",
            "[CV] END C=3.359818286283781e-05, class_weight={0: 0.5, 1: 0.5}; total time=   0.0s\n",
            "[CV] END C=3.359818286283781e-05, class_weight={0: 0.5, 1: 0.5}; total time=   0.0s\n",
            "[CV] END C=3.359818286283781e-05, class_weight={0: 0.5, 1: 0.5}; total time=   0.0s\n",
            "[CV] END C=3.359818286283781e-05, class_weight={0: 0.5, 1: 0.5}; total time=   0.0s\n",
            "[CV] END C=3.359818286283781e-05, class_weight={0: 0.5, 1: 0.5}; total time=   0.0s\n",
            "[CV] END C=0.00011288378916846884, class_weight={0: 0.0, 1: 1.0}; total time=   0.0s\n",
            "[CV] END C=0.00011288378916846884, class_weight={0: 0.0, 1: 1.0}; total time=   0.0s\n",
            "[CV] END C=0.00011288378916846884, class_weight={0: 0.0, 1: 1.0}; total time=   0.0s\n",
            "[CV] END C=0.00011288378916846884, class_weight={0: 0.0, 1: 1.0}; total time=   0.0s\n",
            "[CV] END C=0.00011288378916846884, class_weight={0: 0.0, 1: 1.0}; total time=   0.0s\n",
            "[CV] END C=0.00011288378916846884, class_weight={0: 0.05555555555555555, 1: 0.9444444444444444}; total time=   0.0s\n",
            "[CV] END C=0.00011288378916846884, class_weight={0: 0.05555555555555555, 1: 0.9444444444444444}; total time=   0.0s\n",
            "[CV] END C=0.00011288378916846884, class_weight={0: 0.05555555555555555, 1: 0.9444444444444444}; total time=   0.0s\n",
            "[CV] END C=0.00011288378916846884, class_weight={0: 0.05555555555555555, 1: 0.9444444444444444}; total time=   0.0s\n",
            "[CV] END C=0.00011288378916846884, class_weight={0: 0.05555555555555555, 1: 0.9444444444444444}; total time=   0.0s\n",
            "[CV] END C=0.00011288378916846884, class_weight={0: 0.1111111111111111, 1: 0.8888888888888888}; total time=   0.0s\n",
            "[CV] END C=0.00011288378916846884, class_weight={0: 0.1111111111111111, 1: 0.8888888888888888}; total time=   0.0s\n",
            "[CV] END C=0.00011288378916846884, class_weight={0: 0.1111111111111111, 1: 0.8888888888888888}; total time=   0.0s\n",
            "[CV] END C=0.00011288378916846884, class_weight={0: 0.1111111111111111, 1: 0.8888888888888888}; total time=   0.0s\n",
            "[CV] END C=0.00011288378916846884, class_weight={0: 0.1111111111111111, 1: 0.8888888888888888}; total time=   0.0s\n",
            "[CV] END C=0.00011288378916846884, class_weight={0: 0.16666666666666666, 1: 0.8333333333333334}; total time=   0.0s\n",
            "[CV] END C=0.00011288378916846884, class_weight={0: 0.16666666666666666, 1: 0.8333333333333334}; total time=   0.0s\n",
            "[CV] END C=0.00011288378916846884, class_weight={0: 0.16666666666666666, 1: 0.8333333333333334}; total time=   0.0s\n",
            "[CV] END C=0.00011288378916846884, class_weight={0: 0.16666666666666666, 1: 0.8333333333333334}; total time=   0.0s\n",
            "[CV] END C=0.00011288378916846884, class_weight={0: 0.16666666666666666, 1: 0.8333333333333334}; total time=   0.0s\n",
            "[CV] END C=0.00011288378916846884, class_weight={0: 0.2222222222222222, 1: 0.7777777777777778}; total time=   0.0s\n",
            "[CV] END C=0.00011288378916846884, class_weight={0: 0.2222222222222222, 1: 0.7777777777777778}; total time=   0.0s\n",
            "[CV] END C=0.00011288378916846884, class_weight={0: 0.2222222222222222, 1: 0.7777777777777778}; total time=   0.0s\n",
            "[CV] END C=0.00011288378916846884, class_weight={0: 0.2222222222222222, 1: 0.7777777777777778}; total time=   0.0s\n",
            "[CV] END C=0.00011288378916846884, class_weight={0: 0.2222222222222222, 1: 0.7777777777777778}; total time=   0.0s\n",
            "[CV] END C=0.00011288378916846884, class_weight={0: 0.2777777777777778, 1: 0.7222222222222222}; total time=   0.0s\n",
            "[CV] END C=0.00011288378916846884, class_weight={0: 0.2777777777777778, 1: 0.7222222222222222}; total time=   0.0s\n",
            "[CV] END C=0.00011288378916846884, class_weight={0: 0.2777777777777778, 1: 0.7222222222222222}; total time=   0.0s\n",
            "[CV] END C=0.00011288378916846884, class_weight={0: 0.2777777777777778, 1: 0.7222222222222222}; total time=   0.0s\n",
            "[CV] END C=0.00011288378916846884, class_weight={0: 0.2777777777777778, 1: 0.7222222222222222}; total time=   0.0s\n",
            "[CV] END C=0.00011288378916846884, class_weight={0: 0.3333333333333333, 1: 0.6666666666666667}; total time=   0.1s\n",
            "[CV] END C=0.00011288378916846884, class_weight={0: 0.3333333333333333, 1: 0.6666666666666667}; total time=   0.1s\n",
            "[CV] END C=0.00011288378916846884, class_weight={0: 0.3333333333333333, 1: 0.6666666666666667}; total time=   0.1s\n",
            "[CV] END C=0.00011288378916846884, class_weight={0: 0.3333333333333333, 1: 0.6666666666666667}; total time=   0.0s\n",
            "[CV] END C=0.00011288378916846884, class_weight={0: 0.3333333333333333, 1: 0.6666666666666667}; total time=   0.0s\n",
            "[CV] END C=0.00011288378916846884, class_weight={0: 0.38888888888888884, 1: 0.6111111111111112}; total time=   0.0s\n",
            "[CV] END C=0.00011288378916846884, class_weight={0: 0.38888888888888884, 1: 0.6111111111111112}; total time=   0.0s\n",
            "[CV] END C=0.00011288378916846884, class_weight={0: 0.38888888888888884, 1: 0.6111111111111112}; total time=   0.0s\n",
            "[CV] END C=0.00011288378916846884, class_weight={0: 0.38888888888888884, 1: 0.6111111111111112}; total time=   0.0s\n",
            "[CV] END C=0.00011288378916846884, class_weight={0: 0.38888888888888884, 1: 0.6111111111111112}; total time=   0.0s\n",
            "[CV] END C=0.00011288378916846884, class_weight={0: 0.4444444444444444, 1: 0.5555555555555556}; total time=   0.0s\n",
            "[CV] END C=0.00011288378916846884, class_weight={0: 0.4444444444444444, 1: 0.5555555555555556}; total time=   0.0s\n",
            "[CV] END C=0.00011288378916846884, class_weight={0: 0.4444444444444444, 1: 0.5555555555555556}; total time=   0.0s\n",
            "[CV] END C=0.00011288378916846884, class_weight={0: 0.4444444444444444, 1: 0.5555555555555556}; total time=   0.0s\n",
            "[CV] END C=0.00011288378916846884, class_weight={0: 0.4444444444444444, 1: 0.5555555555555556}; total time=   0.0s\n",
            "[CV] END C=0.00011288378916846884, class_weight={0: 0.5, 1: 0.5}; total time=   0.0s\n",
            "[CV] END C=0.00011288378916846884, class_weight={0: 0.5, 1: 0.5}; total time=   0.0s\n",
            "[CV] END C=0.00011288378916846884, class_weight={0: 0.5, 1: 0.5}; total time=   0.0s\n",
            "[CV] END C=0.00011288378916846884, class_weight={0: 0.5, 1: 0.5}; total time=   0.0s\n",
            "[CV] END C=0.00011288378916846884, class_weight={0: 0.5, 1: 0.5}; total time=   0.0s\n",
            "[CV] END C=0.000379269019073225, class_weight={0: 0.0, 1: 1.0}; total time=   0.0s\n",
            "[CV] END C=0.000379269019073225, class_weight={0: 0.0, 1: 1.0}; total time=   0.0s\n",
            "[CV] END C=0.000379269019073225, class_weight={0: 0.0, 1: 1.0}; total time=   0.0s\n",
            "[CV] END C=0.000379269019073225, class_weight={0: 0.0, 1: 1.0}; total time=   0.0s\n",
            "[CV] END C=0.000379269019073225, class_weight={0: 0.0, 1: 1.0}; total time=   0.0s\n",
            "[CV] END C=0.000379269019073225, class_weight={0: 0.05555555555555555, 1: 0.9444444444444444}; total time=   0.0s\n",
            "[CV] END C=0.000379269019073225, class_weight={0: 0.05555555555555555, 1: 0.9444444444444444}; total time=   0.0s\n",
            "[CV] END C=0.000379269019073225, class_weight={0: 0.05555555555555555, 1: 0.9444444444444444}; total time=   0.0s\n",
            "[CV] END C=0.000379269019073225, class_weight={0: 0.05555555555555555, 1: 0.9444444444444444}; total time=   0.0s\n",
            "[CV] END C=0.000379269019073225, class_weight={0: 0.05555555555555555, 1: 0.9444444444444444}; total time=   0.0s\n",
            "[CV] END C=0.000379269019073225, class_weight={0: 0.1111111111111111, 1: 0.8888888888888888}; total time=   0.1s\n",
            "[CV] END C=0.000379269019073225, class_weight={0: 0.1111111111111111, 1: 0.8888888888888888}; total time=   0.0s\n",
            "[CV] END C=0.000379269019073225, class_weight={0: 0.1111111111111111, 1: 0.8888888888888888}; total time=   0.0s\n",
            "[CV] END C=0.000379269019073225, class_weight={0: 0.1111111111111111, 1: 0.8888888888888888}; total time=   0.1s\n",
            "[CV] END C=0.000379269019073225, class_weight={0: 0.1111111111111111, 1: 0.8888888888888888}; total time=   0.0s\n",
            "[CV] END C=0.000379269019073225, class_weight={0: 0.16666666666666666, 1: 0.8333333333333334}; total time=   0.0s\n",
            "[CV] END C=0.000379269019073225, class_weight={0: 0.16666666666666666, 1: 0.8333333333333334}; total time=   0.0s\n",
            "[CV] END C=0.000379269019073225, class_weight={0: 0.16666666666666666, 1: 0.8333333333333334}; total time=   0.0s\n",
            "[CV] END C=0.000379269019073225, class_weight={0: 0.16666666666666666, 1: 0.8333333333333334}; total time=   0.0s\n",
            "[CV] END C=0.000379269019073225, class_weight={0: 0.16666666666666666, 1: 0.8333333333333334}; total time=   0.0s\n",
            "[CV] END C=0.000379269019073225, class_weight={0: 0.2222222222222222, 1: 0.7777777777777778}; total time=   0.0s\n",
            "[CV] END C=0.000379269019073225, class_weight={0: 0.2222222222222222, 1: 0.7777777777777778}; total time=   0.0s\n",
            "[CV] END C=0.000379269019073225, class_weight={0: 0.2222222222222222, 1: 0.7777777777777778}; total time=   0.0s\n",
            "[CV] END C=0.000379269019073225, class_weight={0: 0.2222222222222222, 1: 0.7777777777777778}; total time=   0.0s\n",
            "[CV] END C=0.000379269019073225, class_weight={0: 0.2222222222222222, 1: 0.7777777777777778}; total time=   0.0s\n",
            "[CV] END C=0.000379269019073225, class_weight={0: 0.2777777777777778, 1: 0.7222222222222222}; total time=   0.0s\n",
            "[CV] END C=0.000379269019073225, class_weight={0: 0.2777777777777778, 1: 0.7222222222222222}; total time=   0.0s\n",
            "[CV] END C=0.000379269019073225, class_weight={0: 0.2777777777777778, 1: 0.7222222222222222}; total time=   0.0s\n",
            "[CV] END C=0.000379269019073225, class_weight={0: 0.2777777777777778, 1: 0.7222222222222222}; total time=   0.0s\n",
            "[CV] END C=0.000379269019073225, class_weight={0: 0.2777777777777778, 1: 0.7222222222222222}; total time=   0.0s\n",
            "[CV] END C=0.000379269019073225, class_weight={0: 0.3333333333333333, 1: 0.6666666666666667}; total time=   0.0s\n",
            "[CV] END C=0.000379269019073225, class_weight={0: 0.3333333333333333, 1: 0.6666666666666667}; total time=   0.1s\n",
            "[CV] END C=0.000379269019073225, class_weight={0: 0.3333333333333333, 1: 0.6666666666666667}; total time=   0.1s\n",
            "[CV] END C=0.000379269019073225, class_weight={0: 0.3333333333333333, 1: 0.6666666666666667}; total time=   0.0s\n",
            "[CV] END C=0.000379269019073225, class_weight={0: 0.3333333333333333, 1: 0.6666666666666667}; total time=   0.0s\n",
            "[CV] END C=0.000379269019073225, class_weight={0: 0.38888888888888884, 1: 0.6111111111111112}; total time=   0.0s\n",
            "[CV] END C=0.000379269019073225, class_weight={0: 0.38888888888888884, 1: 0.6111111111111112}; total time=   0.0s\n",
            "[CV] END C=0.000379269019073225, class_weight={0: 0.38888888888888884, 1: 0.6111111111111112}; total time=   0.0s\n",
            "[CV] END C=0.000379269019073225, class_weight={0: 0.38888888888888884, 1: 0.6111111111111112}; total time=   0.0s\n",
            "[CV] END C=0.000379269019073225, class_weight={0: 0.38888888888888884, 1: 0.6111111111111112}; total time=   0.0s\n",
            "[CV] END C=0.000379269019073225, class_weight={0: 0.4444444444444444, 1: 0.5555555555555556}; total time=   0.0s\n",
            "[CV] END C=0.000379269019073225, class_weight={0: 0.4444444444444444, 1: 0.5555555555555556}; total time=   0.0s\n",
            "[CV] END C=0.000379269019073225, class_weight={0: 0.4444444444444444, 1: 0.5555555555555556}; total time=   0.0s\n",
            "[CV] END C=0.000379269019073225, class_weight={0: 0.4444444444444444, 1: 0.5555555555555556}; total time=   0.0s\n",
            "[CV] END C=0.000379269019073225, class_weight={0: 0.4444444444444444, 1: 0.5555555555555556}; total time=   0.0s\n",
            "[CV] END C=0.000379269019073225, class_weight={0: 0.5, 1: 0.5}; total time=   0.0s\n",
            "[CV] END C=0.000379269019073225, class_weight={0: 0.5, 1: 0.5}; total time=   0.0s\n",
            "[CV] END C=0.000379269019073225, class_weight={0: 0.5, 1: 0.5}; total time=   0.0s\n",
            "[CV] END C=0.000379269019073225, class_weight={0: 0.5, 1: 0.5}; total time=   0.0s\n",
            "[CV] END C=0.000379269019073225, class_weight={0: 0.5, 1: 0.5}; total time=   0.0s\n",
            "[CV] END C=0.0012742749857031334, class_weight={0: 0.0, 1: 1.0}; total time=   0.0s\n",
            "[CV] END C=0.0012742749857031334, class_weight={0: 0.0, 1: 1.0}; total time=   0.1s\n",
            "[CV] END C=0.0012742749857031334, class_weight={0: 0.0, 1: 1.0}; total time=   0.0s\n",
            "[CV] END C=0.0012742749857031334, class_weight={0: 0.0, 1: 1.0}; total time=   0.0s\n",
            "[CV] END C=0.0012742749857031334, class_weight={0: 0.0, 1: 1.0}; total time=   0.0s\n",
            "[CV] END C=0.0012742749857031334, class_weight={0: 0.05555555555555555, 1: 0.9444444444444444}; total time=   0.0s\n",
            "[CV] END C=0.0012742749857031334, class_weight={0: 0.05555555555555555, 1: 0.9444444444444444}; total time=   0.0s\n",
            "[CV] END C=0.0012742749857031334, class_weight={0: 0.05555555555555555, 1: 0.9444444444444444}; total time=   0.1s\n",
            "[CV] END C=0.0012742749857031334, class_weight={0: 0.05555555555555555, 1: 0.9444444444444444}; total time=   0.0s\n",
            "[CV] END C=0.0012742749857031334, class_weight={0: 0.05555555555555555, 1: 0.9444444444444444}; total time=   0.0s\n",
            "[CV] END C=0.0012742749857031334, class_weight={0: 0.1111111111111111, 1: 0.8888888888888888}; total time=   0.0s\n",
            "[CV] END C=0.0012742749857031334, class_weight={0: 0.1111111111111111, 1: 0.8888888888888888}; total time=   0.0s\n",
            "[CV] END C=0.0012742749857031334, class_weight={0: 0.1111111111111111, 1: 0.8888888888888888}; total time=   0.1s\n",
            "[CV] END C=0.0012742749857031334, class_weight={0: 0.1111111111111111, 1: 0.8888888888888888}; total time=   0.0s\n",
            "[CV] END C=0.0012742749857031334, class_weight={0: 0.1111111111111111, 1: 0.8888888888888888}; total time=   0.0s\n",
            "[CV] END C=0.0012742749857031334, class_weight={0: 0.16666666666666666, 1: 0.8333333333333334}; total time=   0.0s\n",
            "[CV] END C=0.0012742749857031334, class_weight={0: 0.16666666666666666, 1: 0.8333333333333334}; total time=   0.0s\n",
            "[CV] END C=0.0012742749857031334, class_weight={0: 0.16666666666666666, 1: 0.8333333333333334}; total time=   0.0s\n",
            "[CV] END C=0.0012742749857031334, class_weight={0: 0.16666666666666666, 1: 0.8333333333333334}; total time=   0.1s\n",
            "[CV] END C=0.0012742749857031334, class_weight={0: 0.16666666666666666, 1: 0.8333333333333334}; total time=   0.1s\n",
            "[CV] END C=0.0012742749857031334, class_weight={0: 0.2222222222222222, 1: 0.7777777777777778}; total time=   0.1s\n",
            "[CV] END C=0.0012742749857031334, class_weight={0: 0.2222222222222222, 1: 0.7777777777777778}; total time=   0.1s\n",
            "[CV] END C=0.0012742749857031334, class_weight={0: 0.2222222222222222, 1: 0.7777777777777778}; total time=   0.0s\n",
            "[CV] END C=0.0012742749857031334, class_weight={0: 0.2222222222222222, 1: 0.7777777777777778}; total time=   0.0s\n",
            "[CV] END C=0.0012742749857031334, class_weight={0: 0.2222222222222222, 1: 0.7777777777777778}; total time=   0.0s\n",
            "[CV] END C=0.0012742749857031334, class_weight={0: 0.2777777777777778, 1: 0.7222222222222222}; total time=   0.1s\n",
            "[CV] END C=0.0012742749857031334, class_weight={0: 0.2777777777777778, 1: 0.7222222222222222}; total time=   0.0s\n",
            "[CV] END C=0.0012742749857031334, class_weight={0: 0.2777777777777778, 1: 0.7222222222222222}; total time=   0.0s\n",
            "[CV] END C=0.0012742749857031334, class_weight={0: 0.2777777777777778, 1: 0.7222222222222222}; total time=   0.0s\n",
            "[CV] END C=0.0012742749857031334, class_weight={0: 0.2777777777777778, 1: 0.7222222222222222}; total time=   0.1s\n",
            "[CV] END C=0.0012742749857031334, class_weight={0: 0.3333333333333333, 1: 0.6666666666666667}; total time=   0.0s\n",
            "[CV] END C=0.0012742749857031334, class_weight={0: 0.3333333333333333, 1: 0.6666666666666667}; total time=   0.1s\n",
            "[CV] END C=0.0012742749857031334, class_weight={0: 0.3333333333333333, 1: 0.6666666666666667}; total time=   0.0s\n",
            "[CV] END C=0.0012742749857031334, class_weight={0: 0.3333333333333333, 1: 0.6666666666666667}; total time=   0.0s\n",
            "[CV] END C=0.0012742749857031334, class_weight={0: 0.3333333333333333, 1: 0.6666666666666667}; total time=   0.0s\n",
            "[CV] END C=0.0012742749857031334, class_weight={0: 0.38888888888888884, 1: 0.6111111111111112}; total time=   0.0s\n",
            "[CV] END C=0.0012742749857031334, class_weight={0: 0.38888888888888884, 1: 0.6111111111111112}; total time=   0.0s\n",
            "[CV] END C=0.0012742749857031334, class_weight={0: 0.38888888888888884, 1: 0.6111111111111112}; total time=   0.1s\n",
            "[CV] END C=0.0012742749857031334, class_weight={0: 0.38888888888888884, 1: 0.6111111111111112}; total time=   0.1s\n",
            "[CV] END C=0.0012742749857031334, class_weight={0: 0.38888888888888884, 1: 0.6111111111111112}; total time=   0.0s\n",
            "[CV] END C=0.0012742749857031334, class_weight={0: 0.4444444444444444, 1: 0.5555555555555556}; total time=   0.0s\n",
            "[CV] END C=0.0012742749857031334, class_weight={0: 0.4444444444444444, 1: 0.5555555555555556}; total time=   0.1s\n",
            "[CV] END C=0.0012742749857031334, class_weight={0: 0.4444444444444444, 1: 0.5555555555555556}; total time=   0.0s\n",
            "[CV] END C=0.0012742749857031334, class_weight={0: 0.4444444444444444, 1: 0.5555555555555556}; total time=   0.1s\n",
            "[CV] END C=0.0012742749857031334, class_weight={0: 0.4444444444444444, 1: 0.5555555555555556}; total time=   0.0s\n",
            "[CV] END C=0.0012742749857031334, class_weight={0: 0.5, 1: 0.5}; total time=   0.1s\n",
            "[CV] END C=0.0012742749857031334, class_weight={0: 0.5, 1: 0.5}; total time=   0.1s\n",
            "[CV] END C=0.0012742749857031334, class_weight={0: 0.5, 1: 0.5}; total time=   0.0s\n",
            "[CV] END C=0.0012742749857031334, class_weight={0: 0.5, 1: 0.5}; total time=   0.1s\n",
            "[CV] END C=0.0012742749857031334, class_weight={0: 0.5, 1: 0.5}; total time=   0.1s\n",
            "[CV] END C=0.004281332398719391, class_weight={0: 0.0, 1: 1.0}; total time=   0.1s\n",
            "[CV] END C=0.004281332398719391, class_weight={0: 0.0, 1: 1.0}; total time=   0.1s\n",
            "[CV] END C=0.004281332398719391, class_weight={0: 0.0, 1: 1.0}; total time=   0.1s\n",
            "[CV] END C=0.004281332398719391, class_weight={0: 0.0, 1: 1.0}; total time=   0.1s\n",
            "[CV] END C=0.004281332398719391, class_weight={0: 0.0, 1: 1.0}; total time=   0.1s\n",
            "[CV] END C=0.004281332398719391, class_weight={0: 0.05555555555555555, 1: 0.9444444444444444}; total time=   0.1s\n",
            "[CV] END C=0.004281332398719391, class_weight={0: 0.05555555555555555, 1: 0.9444444444444444}; total time=   0.0s\n",
            "[CV] END C=0.004281332398719391, class_weight={0: 0.05555555555555555, 1: 0.9444444444444444}; total time=   0.0s\n",
            "[CV] END C=0.004281332398719391, class_weight={0: 0.05555555555555555, 1: 0.9444444444444444}; total time=   0.0s\n",
            "[CV] END C=0.004281332398719391, class_weight={0: 0.05555555555555555, 1: 0.9444444444444444}; total time=   0.0s\n",
            "[CV] END C=0.004281332398719391, class_weight={0: 0.1111111111111111, 1: 0.8888888888888888}; total time=   0.0s\n",
            "[CV] END C=0.004281332398719391, class_weight={0: 0.1111111111111111, 1: 0.8888888888888888}; total time=   0.0s\n",
            "[CV] END C=0.004281332398719391, class_weight={0: 0.1111111111111111, 1: 0.8888888888888888}; total time=   0.0s\n",
            "[CV] END C=0.004281332398719391, class_weight={0: 0.1111111111111111, 1: 0.8888888888888888}; total time=   0.0s\n",
            "[CV] END C=0.004281332398719391, class_weight={0: 0.1111111111111111, 1: 0.8888888888888888}; total time=   0.0s\n",
            "[CV] END C=0.004281332398719391, class_weight={0: 0.16666666666666666, 1: 0.8333333333333334}; total time=   0.0s\n",
            "[CV] END C=0.004281332398719391, class_weight={0: 0.16666666666666666, 1: 0.8333333333333334}; total time=   0.0s\n",
            "[CV] END C=0.004281332398719391, class_weight={0: 0.16666666666666666, 1: 0.8333333333333334}; total time=   0.0s\n",
            "[CV] END C=0.004281332398719391, class_weight={0: 0.16666666666666666, 1: 0.8333333333333334}; total time=   0.0s\n",
            "[CV] END C=0.004281332398719391, class_weight={0: 0.16666666666666666, 1: 0.8333333333333334}; total time=   0.0s\n",
            "[CV] END C=0.004281332398719391, class_weight={0: 0.2222222222222222, 1: 0.7777777777777778}; total time=   0.1s\n",
            "[CV] END C=0.004281332398719391, class_weight={0: 0.2222222222222222, 1: 0.7777777777777778}; total time=   0.1s\n",
            "[CV] END C=0.004281332398719391, class_weight={0: 0.2222222222222222, 1: 0.7777777777777778}; total time=   0.1s\n",
            "[CV] END C=0.004281332398719391, class_weight={0: 0.2222222222222222, 1: 0.7777777777777778}; total time=   0.0s\n",
            "[CV] END C=0.004281332398719391, class_weight={0: 0.2222222222222222, 1: 0.7777777777777778}; total time=   0.1s\n",
            "[CV] END C=0.004281332398719391, class_weight={0: 0.2777777777777778, 1: 0.7222222222222222}; total time=   0.1s\n",
            "[CV] END C=0.004281332398719391, class_weight={0: 0.2777777777777778, 1: 0.7222222222222222}; total time=   0.1s\n",
            "[CV] END C=0.004281332398719391, class_weight={0: 0.2777777777777778, 1: 0.7222222222222222}; total time=   0.1s\n",
            "[CV] END C=0.004281332398719391, class_weight={0: 0.2777777777777778, 1: 0.7222222222222222}; total time=   0.1s\n",
            "[CV] END C=0.004281332398719391, class_weight={0: 0.2777777777777778, 1: 0.7222222222222222}; total time=   0.1s\n",
            "[CV] END C=0.004281332398719391, class_weight={0: 0.3333333333333333, 1: 0.6666666666666667}; total time=   0.1s\n",
            "[CV] END C=0.004281332398719391, class_weight={0: 0.3333333333333333, 1: 0.6666666666666667}; total time=   0.1s\n",
            "[CV] END C=0.004281332398719391, class_weight={0: 0.3333333333333333, 1: 0.6666666666666667}; total time=   0.1s\n",
            "[CV] END C=0.004281332398719391, class_weight={0: 0.3333333333333333, 1: 0.6666666666666667}; total time=   0.1s\n",
            "[CV] END C=0.004281332398719391, class_weight={0: 0.3333333333333333, 1: 0.6666666666666667}; total time=   0.1s\n",
            "[CV] END C=0.004281332398719391, class_weight={0: 0.38888888888888884, 1: 0.6111111111111112}; total time=   0.1s\n",
            "[CV] END C=0.004281332398719391, class_weight={0: 0.38888888888888884, 1: 0.6111111111111112}; total time=   0.1s\n",
            "[CV] END C=0.004281332398719391, class_weight={0: 0.38888888888888884, 1: 0.6111111111111112}; total time=   0.1s\n",
            "[CV] END C=0.004281332398719391, class_weight={0: 0.38888888888888884, 1: 0.6111111111111112}; total time=   0.0s\n",
            "[CV] END C=0.004281332398719391, class_weight={0: 0.38888888888888884, 1: 0.6111111111111112}; total time=   0.1s\n",
            "[CV] END C=0.004281332398719391, class_weight={0: 0.4444444444444444, 1: 0.5555555555555556}; total time=   0.0s\n",
            "[CV] END C=0.004281332398719391, class_weight={0: 0.4444444444444444, 1: 0.5555555555555556}; total time=   0.0s\n",
            "[CV] END C=0.004281332398719391, class_weight={0: 0.4444444444444444, 1: 0.5555555555555556}; total time=   0.0s\n",
            "[CV] END C=0.004281332398719391, class_weight={0: 0.4444444444444444, 1: 0.5555555555555556}; total time=   0.0s\n",
            "[CV] END C=0.004281332398719391, class_weight={0: 0.4444444444444444, 1: 0.5555555555555556}; total time=   0.0s\n",
            "[CV] END C=0.004281332398719391, class_weight={0: 0.5, 1: 0.5}; total time=   0.0s\n",
            "[CV] END C=0.004281332398719391, class_weight={0: 0.5, 1: 0.5}; total time=   0.0s\n",
            "[CV] END C=0.004281332398719391, class_weight={0: 0.5, 1: 0.5}; total time=   0.0s\n",
            "[CV] END C=0.004281332398719391, class_weight={0: 0.5, 1: 0.5}; total time=   0.1s\n",
            "[CV] END C=0.004281332398719391, class_weight={0: 0.5, 1: 0.5}; total time=   0.0s\n",
            "[CV] END C=0.01438449888287663, class_weight={0: 0.0, 1: 1.0}; total time=   0.0s\n",
            "[CV] END C=0.01438449888287663, class_weight={0: 0.0, 1: 1.0}; total time=   0.0s\n",
            "[CV] END C=0.01438449888287663, class_weight={0: 0.0, 1: 1.0}; total time=   0.0s\n",
            "[CV] END C=0.01438449888287663, class_weight={0: 0.0, 1: 1.0}; total time=   0.0s\n",
            "[CV] END C=0.01438449888287663, class_weight={0: 0.0, 1: 1.0}; total time=   0.0s\n",
            "[CV] END C=0.01438449888287663, class_weight={0: 0.05555555555555555, 1: 0.9444444444444444}; total time=   0.2s\n",
            "[CV] END C=0.01438449888287663, class_weight={0: 0.05555555555555555, 1: 0.9444444444444444}; total time=   0.2s\n",
            "[CV] END C=0.01438449888287663, class_weight={0: 0.05555555555555555, 1: 0.9444444444444444}; total time=   0.1s\n",
            "[CV] END C=0.01438449888287663, class_weight={0: 0.05555555555555555, 1: 0.9444444444444444}; total time=   0.2s\n",
            "[CV] END C=0.01438449888287663, class_weight={0: 0.05555555555555555, 1: 0.9444444444444444}; total time=   0.2s\n",
            "[CV] END C=0.01438449888287663, class_weight={0: 0.1111111111111111, 1: 0.8888888888888888}; total time=   0.2s\n",
            "[CV] END C=0.01438449888287663, class_weight={0: 0.1111111111111111, 1: 0.8888888888888888}; total time=   0.2s\n",
            "[CV] END C=0.01438449888287663, class_weight={0: 0.1111111111111111, 1: 0.8888888888888888}; total time=   0.1s\n",
            "[CV] END C=0.01438449888287663, class_weight={0: 0.1111111111111111, 1: 0.8888888888888888}; total time=   0.2s\n",
            "[CV] END C=0.01438449888287663, class_weight={0: 0.1111111111111111, 1: 0.8888888888888888}; total time=   0.2s\n",
            "[CV] END C=0.01438449888287663, class_weight={0: 0.16666666666666666, 1: 0.8333333333333334}; total time=   0.1s\n",
            "[CV] END C=0.01438449888287663, class_weight={0: 0.16666666666666666, 1: 0.8333333333333334}; total time=   0.1s\n",
            "[CV] END C=0.01438449888287663, class_weight={0: 0.16666666666666666, 1: 0.8333333333333334}; total time=   0.1s\n",
            "[CV] END C=0.01438449888287663, class_weight={0: 0.16666666666666666, 1: 0.8333333333333334}; total time=   0.1s\n",
            "[CV] END C=0.01438449888287663, class_weight={0: 0.16666666666666666, 1: 0.8333333333333334}; total time=   0.2s\n",
            "[CV] END C=0.01438449888287663, class_weight={0: 0.2222222222222222, 1: 0.7777777777777778}; total time=   0.1s\n",
            "[CV] END C=0.01438449888287663, class_weight={0: 0.2222222222222222, 1: 0.7777777777777778}; total time=   0.1s\n",
            "[CV] END C=0.01438449888287663, class_weight={0: 0.2222222222222222, 1: 0.7777777777777778}; total time=   0.1s\n",
            "[CV] END C=0.01438449888287663, class_weight={0: 0.2222222222222222, 1: 0.7777777777777778}; total time=   0.1s\n",
            "[CV] END C=0.01438449888287663, class_weight={0: 0.2222222222222222, 1: 0.7777777777777778}; total time=   0.1s\n",
            "[CV] END C=0.01438449888287663, class_weight={0: 0.2777777777777778, 1: 0.7222222222222222}; total time=   0.1s\n",
            "[CV] END C=0.01438449888287663, class_weight={0: 0.2777777777777778, 1: 0.7222222222222222}; total time=   0.1s\n",
            "[CV] END C=0.01438449888287663, class_weight={0: 0.2777777777777778, 1: 0.7222222222222222}; total time=   0.1s\n",
            "[CV] END C=0.01438449888287663, class_weight={0: 0.2777777777777778, 1: 0.7222222222222222}; total time=   0.1s\n",
            "[CV] END C=0.01438449888287663, class_weight={0: 0.2777777777777778, 1: 0.7222222222222222}; total time=   0.1s\n",
            "[CV] END C=0.01438449888287663, class_weight={0: 0.3333333333333333, 1: 0.6666666666666667}; total time=   0.1s\n",
            "[CV] END C=0.01438449888287663, class_weight={0: 0.3333333333333333, 1: 0.6666666666666667}; total time=   0.1s\n",
            "[CV] END C=0.01438449888287663, class_weight={0: 0.3333333333333333, 1: 0.6666666666666667}; total time=   0.1s\n",
            "[CV] END C=0.01438449888287663, class_weight={0: 0.3333333333333333, 1: 0.6666666666666667}; total time=   0.1s\n",
            "[CV] END C=0.01438449888287663, class_weight={0: 0.3333333333333333, 1: 0.6666666666666667}; total time=   0.1s\n",
            "[CV] END C=0.01438449888287663, class_weight={0: 0.38888888888888884, 1: 0.6111111111111112}; total time=   0.1s\n",
            "[CV] END C=0.01438449888287663, class_weight={0: 0.38888888888888884, 1: 0.6111111111111112}; total time=   0.1s\n",
            "[CV] END C=0.01438449888287663, class_weight={0: 0.38888888888888884, 1: 0.6111111111111112}; total time=   0.1s\n",
            "[CV] END C=0.01438449888287663, class_weight={0: 0.38888888888888884, 1: 0.6111111111111112}; total time=   0.1s\n",
            "[CV] END C=0.01438449888287663, class_weight={0: 0.38888888888888884, 1: 0.6111111111111112}; total time=   0.1s\n",
            "[CV] END C=0.01438449888287663, class_weight={0: 0.4444444444444444, 1: 0.5555555555555556}; total time=   0.1s\n",
            "[CV] END C=0.01438449888287663, class_weight={0: 0.4444444444444444, 1: 0.5555555555555556}; total time=   0.1s\n",
            "[CV] END C=0.01438449888287663, class_weight={0: 0.4444444444444444, 1: 0.5555555555555556}; total time=   0.1s\n",
            "[CV] END C=0.01438449888287663, class_weight={0: 0.4444444444444444, 1: 0.5555555555555556}; total time=   0.1s\n",
            "[CV] END C=0.01438449888287663, class_weight={0: 0.4444444444444444, 1: 0.5555555555555556}; total time=   0.1s\n",
            "[CV] END C=0.01438449888287663, class_weight={0: 0.5, 1: 0.5}; total time=   0.1s\n",
            "[CV] END C=0.01438449888287663, class_weight={0: 0.5, 1: 0.5}; total time=   0.1s\n",
            "[CV] END C=0.01438449888287663, class_weight={0: 0.5, 1: 0.5}; total time=   0.1s\n",
            "[CV] END C=0.01438449888287663, class_weight={0: 0.5, 1: 0.5}; total time=   0.1s\n",
            "[CV] END C=0.01438449888287663, class_weight={0: 0.5, 1: 0.5}; total time=   0.1s\n",
            "[CV] END C=0.04832930238571752, class_weight={0: 0.0, 1: 1.0}; total time=   0.1s\n",
            "[CV] END C=0.04832930238571752, class_weight={0: 0.0, 1: 1.0}; total time=   0.1s\n",
            "[CV] END C=0.04832930238571752, class_weight={0: 0.0, 1: 1.0}; total time=   0.1s\n",
            "[CV] END C=0.04832930238571752, class_weight={0: 0.0, 1: 1.0}; total time=   0.1s\n",
            "[CV] END C=0.04832930238571752, class_weight={0: 0.0, 1: 1.0}; total time=   0.1s\n",
            "[CV] END C=0.04832930238571752, class_weight={0: 0.05555555555555555, 1: 0.9444444444444444}; total time=   0.2s\n",
            "[CV] END C=0.04832930238571752, class_weight={0: 0.05555555555555555, 1: 0.9444444444444444}; total time=   0.2s\n",
            "[CV] END C=0.04832930238571752, class_weight={0: 0.05555555555555555, 1: 0.9444444444444444}; total time=   0.2s\n",
            "[CV] END C=0.04832930238571752, class_weight={0: 0.05555555555555555, 1: 0.9444444444444444}; total time=   0.3s\n",
            "[CV] END C=0.04832930238571752, class_weight={0: 0.05555555555555555, 1: 0.9444444444444444}; total time=   0.2s\n",
            "[CV] END C=0.04832930238571752, class_weight={0: 0.1111111111111111, 1: 0.8888888888888888}; total time=   0.2s\n",
            "[CV] END C=0.04832930238571752, class_weight={0: 0.1111111111111111, 1: 0.8888888888888888}; total time=   0.2s\n",
            "[CV] END C=0.04832930238571752, class_weight={0: 0.1111111111111111, 1: 0.8888888888888888}; total time=   0.1s\n",
            "[CV] END C=0.04832930238571752, class_weight={0: 0.1111111111111111, 1: 0.8888888888888888}; total time=   0.2s\n",
            "[CV] END C=0.04832930238571752, class_weight={0: 0.1111111111111111, 1: 0.8888888888888888}; total time=   0.2s\n",
            "[CV] END C=0.04832930238571752, class_weight={0: 0.16666666666666666, 1: 0.8333333333333334}; total time=   0.2s\n",
            "[CV] END C=0.04832930238571752, class_weight={0: 0.16666666666666666, 1: 0.8333333333333334}; total time=   0.2s\n",
            "[CV] END C=0.04832930238571752, class_weight={0: 0.16666666666666666, 1: 0.8333333333333334}; total time=   0.1s\n",
            "[CV] END C=0.04832930238571752, class_weight={0: 0.16666666666666666, 1: 0.8333333333333334}; total time=   0.2s\n",
            "[CV] END C=0.04832930238571752, class_weight={0: 0.16666666666666666, 1: 0.8333333333333334}; total time=   0.2s\n",
            "[CV] END C=0.04832930238571752, class_weight={0: 0.2222222222222222, 1: 0.7777777777777778}; total time=   0.2s\n",
            "[CV] END C=0.04832930238571752, class_weight={0: 0.2222222222222222, 1: 0.7777777777777778}; total time=   0.2s\n",
            "[CV] END C=0.04832930238571752, class_weight={0: 0.2222222222222222, 1: 0.7777777777777778}; total time=   0.1s\n",
            "[CV] END C=0.04832930238571752, class_weight={0: 0.2222222222222222, 1: 0.7777777777777778}; total time=   0.2s\n",
            "[CV] END C=0.04832930238571752, class_weight={0: 0.2222222222222222, 1: 0.7777777777777778}; total time=   0.2s\n",
            "[CV] END C=0.04832930238571752, class_weight={0: 0.2777777777777778, 1: 0.7222222222222222}; total time=   0.2s\n",
            "[CV] END C=0.04832930238571752, class_weight={0: 0.2777777777777778, 1: 0.7222222222222222}; total time=   0.2s\n",
            "[CV] END C=0.04832930238571752, class_weight={0: 0.2777777777777778, 1: 0.7222222222222222}; total time=   0.1s\n",
            "[CV] END C=0.04832930238571752, class_weight={0: 0.2777777777777778, 1: 0.7222222222222222}; total time=   0.2s\n",
            "[CV] END C=0.04832930238571752, class_weight={0: 0.2777777777777778, 1: 0.7222222222222222}; total time=   0.2s\n",
            "[CV] END C=0.04832930238571752, class_weight={0: 0.3333333333333333, 1: 0.6666666666666667}; total time=   0.2s\n",
            "[CV] END C=0.04832930238571752, class_weight={0: 0.3333333333333333, 1: 0.6666666666666667}; total time=   0.2s\n",
            "[CV] END C=0.04832930238571752, class_weight={0: 0.3333333333333333, 1: 0.6666666666666667}; total time=   0.1s\n",
            "[CV] END C=0.04832930238571752, class_weight={0: 0.3333333333333333, 1: 0.6666666666666667}; total time=   0.2s\n",
            "[CV] END C=0.04832930238571752, class_weight={0: 0.3333333333333333, 1: 0.6666666666666667}; total time=   0.2s\n",
            "[CV] END C=0.04832930238571752, class_weight={0: 0.38888888888888884, 1: 0.6111111111111112}; total time=   0.2s\n",
            "[CV] END C=0.04832930238571752, class_weight={0: 0.38888888888888884, 1: 0.6111111111111112}; total time=   0.2s\n",
            "[CV] END C=0.04832930238571752, class_weight={0: 0.38888888888888884, 1: 0.6111111111111112}; total time=   0.1s\n",
            "[CV] END C=0.04832930238571752, class_weight={0: 0.38888888888888884, 1: 0.6111111111111112}; total time=   0.2s\n",
            "[CV] END C=0.04832930238571752, class_weight={0: 0.38888888888888884, 1: 0.6111111111111112}; total time=   0.2s\n",
            "[CV] END C=0.04832930238571752, class_weight={0: 0.4444444444444444, 1: 0.5555555555555556}; total time=   0.2s\n",
            "[CV] END C=0.04832930238571752, class_weight={0: 0.4444444444444444, 1: 0.5555555555555556}; total time=   0.2s\n",
            "[CV] END C=0.04832930238571752, class_weight={0: 0.4444444444444444, 1: 0.5555555555555556}; total time=   0.1s\n",
            "[CV] END C=0.04832930238571752, class_weight={0: 0.4444444444444444, 1: 0.5555555555555556}; total time=   0.2s\n",
            "[CV] END C=0.04832930238571752, class_weight={0: 0.4444444444444444, 1: 0.5555555555555556}; total time=   0.2s\n",
            "[CV] END C=0.04832930238571752, class_weight={0: 0.5, 1: 0.5}; total time=   0.2s\n",
            "[CV] END C=0.04832930238571752, class_weight={0: 0.5, 1: 0.5}; total time=   0.2s\n",
            "[CV] END C=0.04832930238571752, class_weight={0: 0.5, 1: 0.5}; total time=   0.1s\n",
            "[CV] END C=0.04832930238571752, class_weight={0: 0.5, 1: 0.5}; total time=   0.2s\n",
            "[CV] END C=0.04832930238571752, class_weight={0: 0.5, 1: 0.5}; total time=   0.2s\n",
            "[CV] END C=0.1623776739188721, class_weight={0: 0.0, 1: 1.0}; total time=   0.2s\n",
            "[CV] END C=0.1623776739188721, class_weight={0: 0.0, 1: 1.0}; total time=   0.2s\n",
            "[CV] END C=0.1623776739188721, class_weight={0: 0.0, 1: 1.0}; total time=   0.1s\n",
            "[CV] END C=0.1623776739188721, class_weight={0: 0.0, 1: 1.0}; total time=   0.2s\n",
            "[CV] END C=0.1623776739188721, class_weight={0: 0.0, 1: 1.0}; total time=   0.2s\n",
            "[CV] END C=0.1623776739188721, class_weight={0: 0.05555555555555555, 1: 0.9444444444444444}; total time=   0.3s\n",
            "[CV] END C=0.1623776739188721, class_weight={0: 0.05555555555555555, 1: 0.9444444444444444}; total time=   0.3s\n",
            "[CV] END C=0.1623776739188721, class_weight={0: 0.05555555555555555, 1: 0.9444444444444444}; total time=   0.2s\n",
            "[CV] END C=0.1623776739188721, class_weight={0: 0.05555555555555555, 1: 0.9444444444444444}; total time=   0.3s\n",
            "[CV] END C=0.1623776739188721, class_weight={0: 0.05555555555555555, 1: 0.9444444444444444}; total time=   0.3s\n",
            "[CV] END C=0.1623776739188721, class_weight={0: 0.1111111111111111, 1: 0.8888888888888888}; total time=   0.2s\n",
            "[CV] END C=0.1623776739188721, class_weight={0: 0.1111111111111111, 1: 0.8888888888888888}; total time=   0.2s\n",
            "[CV] END C=0.1623776739188721, class_weight={0: 0.1111111111111111, 1: 0.8888888888888888}; total time=   0.1s\n",
            "[CV] END C=0.1623776739188721, class_weight={0: 0.1111111111111111, 1: 0.8888888888888888}; total time=   0.2s\n",
            "[CV] END C=0.1623776739188721, class_weight={0: 0.1111111111111111, 1: 0.8888888888888888}; total time=   0.2s\n",
            "[CV] END C=0.1623776739188721, class_weight={0: 0.16666666666666666, 1: 0.8333333333333334}; total time=   0.2s\n",
            "[CV] END C=0.1623776739188721, class_weight={0: 0.16666666666666666, 1: 0.8333333333333334}; total time=   0.2s\n",
            "[CV] END C=0.1623776739188721, class_weight={0: 0.16666666666666666, 1: 0.8333333333333334}; total time=   0.1s\n",
            "[CV] END C=0.1623776739188721, class_weight={0: 0.16666666666666666, 1: 0.8333333333333334}; total time=   0.2s\n",
            "[CV] END C=0.1623776739188721, class_weight={0: 0.16666666666666666, 1: 0.8333333333333334}; total time=   0.2s\n",
            "[CV] END C=0.1623776739188721, class_weight={0: 0.2222222222222222, 1: 0.7777777777777778}; total time=   0.2s\n",
            "[CV] END C=0.1623776739188721, class_weight={0: 0.2222222222222222, 1: 0.7777777777777778}; total time=   0.2s\n",
            "[CV] END C=0.1623776739188721, class_weight={0: 0.2222222222222222, 1: 0.7777777777777778}; total time=   0.1s\n",
            "[CV] END C=0.1623776739188721, class_weight={0: 0.2222222222222222, 1: 0.7777777777777778}; total time=   0.2s\n",
            "[CV] END C=0.1623776739188721, class_weight={0: 0.2222222222222222, 1: 0.7777777777777778}; total time=   0.2s\n",
            "[CV] END C=0.1623776739188721, class_weight={0: 0.2777777777777778, 1: 0.7222222222222222}; total time=   0.2s\n",
            "[CV] END C=0.1623776739188721, class_weight={0: 0.2777777777777778, 1: 0.7222222222222222}; total time=   0.2s\n",
            "[CV] END C=0.1623776739188721, class_weight={0: 0.2777777777777778, 1: 0.7222222222222222}; total time=   0.1s\n",
            "[CV] END C=0.1623776739188721, class_weight={0: 0.2777777777777778, 1: 0.7222222222222222}; total time=   0.2s\n",
            "[CV] END C=0.1623776739188721, class_weight={0: 0.2777777777777778, 1: 0.7222222222222222}; total time=   0.2s\n",
            "[CV] END C=0.1623776739188721, class_weight={0: 0.3333333333333333, 1: 0.6666666666666667}; total time=   0.2s\n",
            "[CV] END C=0.1623776739188721, class_weight={0: 0.3333333333333333, 1: 0.6666666666666667}; total time=   0.2s\n",
            "[CV] END C=0.1623776739188721, class_weight={0: 0.3333333333333333, 1: 0.6666666666666667}; total time=   0.1s\n",
            "[CV] END C=0.1623776739188721, class_weight={0: 0.3333333333333333, 1: 0.6666666666666667}; total time=   0.2s\n",
            "[CV] END C=0.1623776739188721, class_weight={0: 0.3333333333333333, 1: 0.6666666666666667}; total time=   0.2s\n",
            "[CV] END C=0.1623776739188721, class_weight={0: 0.38888888888888884, 1: 0.6111111111111112}; total time=   0.1s\n",
            "[CV] END C=0.1623776739188721, class_weight={0: 0.38888888888888884, 1: 0.6111111111111112}; total time=   0.2s\n",
            "[CV] END C=0.1623776739188721, class_weight={0: 0.38888888888888884, 1: 0.6111111111111112}; total time=   0.1s\n",
            "[CV] END C=0.1623776739188721, class_weight={0: 0.38888888888888884, 1: 0.6111111111111112}; total time=   0.2s\n",
            "[CV] END C=0.1623776739188721, class_weight={0: 0.38888888888888884, 1: 0.6111111111111112}; total time=   0.2s\n",
            "[CV] END C=0.1623776739188721, class_weight={0: 0.4444444444444444, 1: 0.5555555555555556}; total time=   0.2s\n",
            "[CV] END C=0.1623776739188721, class_weight={0: 0.4444444444444444, 1: 0.5555555555555556}; total time=   0.2s\n",
            "[CV] END C=0.1623776739188721, class_weight={0: 0.4444444444444444, 1: 0.5555555555555556}; total time=   0.1s\n",
            "[CV] END C=0.1623776739188721, class_weight={0: 0.4444444444444444, 1: 0.5555555555555556}; total time=   0.2s\n",
            "[CV] END C=0.1623776739188721, class_weight={0: 0.4444444444444444, 1: 0.5555555555555556}; total time=   0.2s\n",
            "[CV] END C=0.1623776739188721, class_weight={0: 0.5, 1: 0.5}; total time=   0.2s\n",
            "[CV] END C=0.1623776739188721, class_weight={0: 0.5, 1: 0.5}; total time=   0.2s\n",
            "[CV] END C=0.1623776739188721, class_weight={0: 0.5, 1: 0.5}; total time=   0.1s\n",
            "[CV] END C=0.1623776739188721, class_weight={0: 0.5, 1: 0.5}; total time=   0.2s\n",
            "[CV] END C=0.1623776739188721, class_weight={0: 0.5, 1: 0.5}; total time=   0.2s\n"
          ]
        },
        {
          "output_type": "stream",
          "name": "stderr",
          "text": [
            "/usr/local/lib/python3.7/dist-packages/sklearn/linear_model/_sag.py:354: ConvergenceWarning: The max_iter was reached which means the coef_ did not converge\n",
            "  ConvergenceWarning,\n"
          ]
        },
        {
          "output_type": "stream",
          "name": "stdout",
          "text": [
            "[CV] END C=0.5455594781168515, class_weight={0: 0.0, 1: 1.0}; total time=   0.3s\n"
          ]
        },
        {
          "output_type": "stream",
          "name": "stderr",
          "text": [
            "/usr/local/lib/python3.7/dist-packages/sklearn/linear_model/_sag.py:354: ConvergenceWarning: The max_iter was reached which means the coef_ did not converge\n",
            "  ConvergenceWarning,\n"
          ]
        },
        {
          "output_type": "stream",
          "name": "stdout",
          "text": [
            "[CV] END C=0.5455594781168515, class_weight={0: 0.0, 1: 1.0}; total time=   0.3s\n"
          ]
        },
        {
          "output_type": "stream",
          "name": "stderr",
          "text": [
            "/usr/local/lib/python3.7/dist-packages/sklearn/linear_model/_sag.py:354: ConvergenceWarning: The max_iter was reached which means the coef_ did not converge\n",
            "  ConvergenceWarning,\n"
          ]
        },
        {
          "output_type": "stream",
          "name": "stdout",
          "text": [
            "[CV] END C=0.5455594781168515, class_weight={0: 0.0, 1: 1.0}; total time=   0.3s\n"
          ]
        },
        {
          "output_type": "stream",
          "name": "stderr",
          "text": [
            "/usr/local/lib/python3.7/dist-packages/sklearn/linear_model/_sag.py:354: ConvergenceWarning: The max_iter was reached which means the coef_ did not converge\n",
            "  ConvergenceWarning,\n"
          ]
        },
        {
          "output_type": "stream",
          "name": "stdout",
          "text": [
            "[CV] END C=0.5455594781168515, class_weight={0: 0.0, 1: 1.0}; total time=   0.3s\n"
          ]
        },
        {
          "output_type": "stream",
          "name": "stderr",
          "text": [
            "/usr/local/lib/python3.7/dist-packages/sklearn/linear_model/_sag.py:354: ConvergenceWarning: The max_iter was reached which means the coef_ did not converge\n",
            "  ConvergenceWarning,\n"
          ]
        },
        {
          "output_type": "stream",
          "name": "stdout",
          "text": [
            "[CV] END C=0.5455594781168515, class_weight={0: 0.0, 1: 1.0}; total time=   0.3s\n",
            "[CV] END C=0.5455594781168515, class_weight={0: 0.05555555555555555, 1: 0.9444444444444444}; total time=   0.3s\n",
            "[CV] END C=0.5455594781168515, class_weight={0: 0.05555555555555555, 1: 0.9444444444444444}; total time=   0.3s\n",
            "[CV] END C=0.5455594781168515, class_weight={0: 0.05555555555555555, 1: 0.9444444444444444}; total time=   0.2s\n",
            "[CV] END C=0.5455594781168515, class_weight={0: 0.05555555555555555, 1: 0.9444444444444444}; total time=   0.3s\n",
            "[CV] END C=0.5455594781168515, class_weight={0: 0.05555555555555555, 1: 0.9444444444444444}; total time=   0.3s\n",
            "[CV] END C=0.5455594781168515, class_weight={0: 0.1111111111111111, 1: 0.8888888888888888}; total time=   0.2s\n",
            "[CV] END C=0.5455594781168515, class_weight={0: 0.1111111111111111, 1: 0.8888888888888888}; total time=   0.3s\n",
            "[CV] END C=0.5455594781168515, class_weight={0: 0.1111111111111111, 1: 0.8888888888888888}; total time=   0.1s\n",
            "[CV] END C=0.5455594781168515, class_weight={0: 0.1111111111111111, 1: 0.8888888888888888}; total time=   0.2s\n",
            "[CV] END C=0.5455594781168515, class_weight={0: 0.1111111111111111, 1: 0.8888888888888888}; total time=   0.2s\n",
            "[CV] END C=0.5455594781168515, class_weight={0: 0.16666666666666666, 1: 0.8333333333333334}; total time=   0.2s\n",
            "[CV] END C=0.5455594781168515, class_weight={0: 0.16666666666666666, 1: 0.8333333333333334}; total time=   0.2s\n",
            "[CV] END C=0.5455594781168515, class_weight={0: 0.16666666666666666, 1: 0.8333333333333334}; total time=   0.1s\n",
            "[CV] END C=0.5455594781168515, class_weight={0: 0.16666666666666666, 1: 0.8333333333333334}; total time=   0.2s\n",
            "[CV] END C=0.5455594781168515, class_weight={0: 0.16666666666666666, 1: 0.8333333333333334}; total time=   0.2s\n",
            "[CV] END C=0.5455594781168515, class_weight={0: 0.2222222222222222, 1: 0.7777777777777778}; total time=   0.2s\n",
            "[CV] END C=0.5455594781168515, class_weight={0: 0.2222222222222222, 1: 0.7777777777777778}; total time=   0.2s\n",
            "[CV] END C=0.5455594781168515, class_weight={0: 0.2222222222222222, 1: 0.7777777777777778}; total time=   0.1s\n",
            "[CV] END C=0.5455594781168515, class_weight={0: 0.2222222222222222, 1: 0.7777777777777778}; total time=   0.2s\n",
            "[CV] END C=0.5455594781168515, class_weight={0: 0.2222222222222222, 1: 0.7777777777777778}; total time=   0.2s\n",
            "[CV] END C=0.5455594781168515, class_weight={0: 0.2777777777777778, 1: 0.7222222222222222}; total time=   0.2s\n",
            "[CV] END C=0.5455594781168515, class_weight={0: 0.2777777777777778, 1: 0.7222222222222222}; total time=   0.2s\n",
            "[CV] END C=0.5455594781168515, class_weight={0: 0.2777777777777778, 1: 0.7222222222222222}; total time=   0.1s\n",
            "[CV] END C=0.5455594781168515, class_weight={0: 0.2777777777777778, 1: 0.7222222222222222}; total time=   0.2s\n",
            "[CV] END C=0.5455594781168515, class_weight={0: 0.2777777777777778, 1: 0.7222222222222222}; total time=   0.2s\n",
            "[CV] END C=0.5455594781168515, class_weight={0: 0.3333333333333333, 1: 0.6666666666666667}; total time=   0.2s\n",
            "[CV] END C=0.5455594781168515, class_weight={0: 0.3333333333333333, 1: 0.6666666666666667}; total time=   0.2s\n",
            "[CV] END C=0.5455594781168515, class_weight={0: 0.3333333333333333, 1: 0.6666666666666667}; total time=   0.1s\n",
            "[CV] END C=0.5455594781168515, class_weight={0: 0.3333333333333333, 1: 0.6666666666666667}; total time=   0.2s\n",
            "[CV] END C=0.5455594781168515, class_weight={0: 0.3333333333333333, 1: 0.6666666666666667}; total time=   0.2s\n",
            "[CV] END C=0.5455594781168515, class_weight={0: 0.38888888888888884, 1: 0.6111111111111112}; total time=   0.2s\n",
            "[CV] END C=0.5455594781168515, class_weight={0: 0.38888888888888884, 1: 0.6111111111111112}; total time=   0.2s\n",
            "[CV] END C=0.5455594781168515, class_weight={0: 0.38888888888888884, 1: 0.6111111111111112}; total time=   0.1s\n",
            "[CV] END C=0.5455594781168515, class_weight={0: 0.38888888888888884, 1: 0.6111111111111112}; total time=   0.2s\n",
            "[CV] END C=0.5455594781168515, class_weight={0: 0.38888888888888884, 1: 0.6111111111111112}; total time=   0.2s\n",
            "[CV] END C=0.5455594781168515, class_weight={0: 0.4444444444444444, 1: 0.5555555555555556}; total time=   0.2s\n",
            "[CV] END C=0.5455594781168515, class_weight={0: 0.4444444444444444, 1: 0.5555555555555556}; total time=   0.2s\n",
            "[CV] END C=0.5455594781168515, class_weight={0: 0.4444444444444444, 1: 0.5555555555555556}; total time=   0.1s\n",
            "[CV] END C=0.5455594781168515, class_weight={0: 0.4444444444444444, 1: 0.5555555555555556}; total time=   0.2s\n",
            "[CV] END C=0.5455594781168515, class_weight={0: 0.4444444444444444, 1: 0.5555555555555556}; total time=   0.2s\n",
            "[CV] END C=0.5455594781168515, class_weight={0: 0.5, 1: 0.5}; total time=   0.2s\n",
            "[CV] END C=0.5455594781168515, class_weight={0: 0.5, 1: 0.5}; total time=   0.2s\n",
            "[CV] END C=0.5455594781168515, class_weight={0: 0.5, 1: 0.5}; total time=   0.1s\n",
            "[CV] END C=0.5455594781168515, class_weight={0: 0.5, 1: 0.5}; total time=   0.2s\n",
            "[CV] END C=0.5455594781168515, class_weight={0: 0.5, 1: 0.5}; total time=   0.2s\n"
          ]
        },
        {
          "output_type": "stream",
          "name": "stderr",
          "text": [
            "/usr/local/lib/python3.7/dist-packages/sklearn/linear_model/_sag.py:354: ConvergenceWarning: The max_iter was reached which means the coef_ did not converge\n",
            "  ConvergenceWarning,\n"
          ]
        },
        {
          "output_type": "stream",
          "name": "stdout",
          "text": [
            "[CV] END C=1.8329807108324339, class_weight={0: 0.0, 1: 1.0}; total time=   0.3s\n"
          ]
        },
        {
          "output_type": "stream",
          "name": "stderr",
          "text": [
            "/usr/local/lib/python3.7/dist-packages/sklearn/linear_model/_sag.py:354: ConvergenceWarning: The max_iter was reached which means the coef_ did not converge\n",
            "  ConvergenceWarning,\n"
          ]
        },
        {
          "output_type": "stream",
          "name": "stdout",
          "text": [
            "[CV] END C=1.8329807108324339, class_weight={0: 0.0, 1: 1.0}; total time=   0.3s\n"
          ]
        },
        {
          "output_type": "stream",
          "name": "stderr",
          "text": [
            "/usr/local/lib/python3.7/dist-packages/sklearn/linear_model/_sag.py:354: ConvergenceWarning: The max_iter was reached which means the coef_ did not converge\n",
            "  ConvergenceWarning,\n"
          ]
        },
        {
          "output_type": "stream",
          "name": "stdout",
          "text": [
            "[CV] END C=1.8329807108324339, class_weight={0: 0.0, 1: 1.0}; total time=   0.3s\n"
          ]
        },
        {
          "output_type": "stream",
          "name": "stderr",
          "text": [
            "/usr/local/lib/python3.7/dist-packages/sklearn/linear_model/_sag.py:354: ConvergenceWarning: The max_iter was reached which means the coef_ did not converge\n",
            "  ConvergenceWarning,\n"
          ]
        },
        {
          "output_type": "stream",
          "name": "stdout",
          "text": [
            "[CV] END C=1.8329807108324339, class_weight={0: 0.0, 1: 1.0}; total time=   0.3s\n"
          ]
        },
        {
          "output_type": "stream",
          "name": "stderr",
          "text": [
            "/usr/local/lib/python3.7/dist-packages/sklearn/linear_model/_sag.py:354: ConvergenceWarning: The max_iter was reached which means the coef_ did not converge\n",
            "  ConvergenceWarning,\n"
          ]
        },
        {
          "output_type": "stream",
          "name": "stdout",
          "text": [
            "[CV] END C=1.8329807108324339, class_weight={0: 0.0, 1: 1.0}; total time=   0.3s\n",
            "[CV] END C=1.8329807108324339, class_weight={0: 0.05555555555555555, 1: 0.9444444444444444}; total time=   0.3s\n"
          ]
        },
        {
          "output_type": "stream",
          "name": "stderr",
          "text": [
            "/usr/local/lib/python3.7/dist-packages/sklearn/linear_model/_sag.py:354: ConvergenceWarning: The max_iter was reached which means the coef_ did not converge\n",
            "  ConvergenceWarning,\n"
          ]
        },
        {
          "output_type": "stream",
          "name": "stdout",
          "text": [
            "[CV] END C=1.8329807108324339, class_weight={0: 0.05555555555555555, 1: 0.9444444444444444}; total time=   0.3s\n",
            "[CV] END C=1.8329807108324339, class_weight={0: 0.05555555555555555, 1: 0.9444444444444444}; total time=   0.2s\n",
            "[CV] END C=1.8329807108324339, class_weight={0: 0.05555555555555555, 1: 0.9444444444444444}; total time=   0.3s\n",
            "[CV] END C=1.8329807108324339, class_weight={0: 0.05555555555555555, 1: 0.9444444444444444}; total time=   0.3s\n",
            "[CV] END C=1.8329807108324339, class_weight={0: 0.1111111111111111, 1: 0.8888888888888888}; total time=   0.2s\n",
            "[CV] END C=1.8329807108324339, class_weight={0: 0.1111111111111111, 1: 0.8888888888888888}; total time=   0.2s\n",
            "[CV] END C=1.8329807108324339, class_weight={0: 0.1111111111111111, 1: 0.8888888888888888}; total time=   0.1s\n",
            "[CV] END C=1.8329807108324339, class_weight={0: 0.1111111111111111, 1: 0.8888888888888888}; total time=   0.2s\n",
            "[CV] END C=1.8329807108324339, class_weight={0: 0.1111111111111111, 1: 0.8888888888888888}; total time=   0.2s\n",
            "[CV] END C=1.8329807108324339, class_weight={0: 0.16666666666666666, 1: 0.8333333333333334}; total time=   0.2s\n",
            "[CV] END C=1.8329807108324339, class_weight={0: 0.16666666666666666, 1: 0.8333333333333334}; total time=   0.2s\n",
            "[CV] END C=1.8329807108324339, class_weight={0: 0.16666666666666666, 1: 0.8333333333333334}; total time=   0.1s\n",
            "[CV] END C=1.8329807108324339, class_weight={0: 0.16666666666666666, 1: 0.8333333333333334}; total time=   0.2s\n",
            "[CV] END C=1.8329807108324339, class_weight={0: 0.16666666666666666, 1: 0.8333333333333334}; total time=   0.2s\n",
            "[CV] END C=1.8329807108324339, class_weight={0: 0.2222222222222222, 1: 0.7777777777777778}; total time=   0.2s\n",
            "[CV] END C=1.8329807108324339, class_weight={0: 0.2222222222222222, 1: 0.7777777777777778}; total time=   0.2s\n",
            "[CV] END C=1.8329807108324339, class_weight={0: 0.2222222222222222, 1: 0.7777777777777778}; total time=   0.1s\n",
            "[CV] END C=1.8329807108324339, class_weight={0: 0.2222222222222222, 1: 0.7777777777777778}; total time=   0.2s\n",
            "[CV] END C=1.8329807108324339, class_weight={0: 0.2222222222222222, 1: 0.7777777777777778}; total time=   0.2s\n",
            "[CV] END C=1.8329807108324339, class_weight={0: 0.2777777777777778, 1: 0.7222222222222222}; total time=   0.2s\n",
            "[CV] END C=1.8329807108324339, class_weight={0: 0.2777777777777778, 1: 0.7222222222222222}; total time=   0.2s\n",
            "[CV] END C=1.8329807108324339, class_weight={0: 0.2777777777777778, 1: 0.7222222222222222}; total time=   0.1s\n",
            "[CV] END C=1.8329807108324339, class_weight={0: 0.2777777777777778, 1: 0.7222222222222222}; total time=   0.2s\n",
            "[CV] END C=1.8329807108324339, class_weight={0: 0.2777777777777778, 1: 0.7222222222222222}; total time=   0.2s\n",
            "[CV] END C=1.8329807108324339, class_weight={0: 0.3333333333333333, 1: 0.6666666666666667}; total time=   0.2s\n",
            "[CV] END C=1.8329807108324339, class_weight={0: 0.3333333333333333, 1: 0.6666666666666667}; total time=   0.2s\n",
            "[CV] END C=1.8329807108324339, class_weight={0: 0.3333333333333333, 1: 0.6666666666666667}; total time=   0.1s\n",
            "[CV] END C=1.8329807108324339, class_weight={0: 0.3333333333333333, 1: 0.6666666666666667}; total time=   0.2s\n",
            "[CV] END C=1.8329807108324339, class_weight={0: 0.3333333333333333, 1: 0.6666666666666667}; total time=   0.2s\n",
            "[CV] END C=1.8329807108324339, class_weight={0: 0.38888888888888884, 1: 0.6111111111111112}; total time=   0.2s\n",
            "[CV] END C=1.8329807108324339, class_weight={0: 0.38888888888888884, 1: 0.6111111111111112}; total time=   0.2s\n",
            "[CV] END C=1.8329807108324339, class_weight={0: 0.38888888888888884, 1: 0.6111111111111112}; total time=   0.1s\n",
            "[CV] END C=1.8329807108324339, class_weight={0: 0.38888888888888884, 1: 0.6111111111111112}; total time=   0.2s\n",
            "[CV] END C=1.8329807108324339, class_weight={0: 0.38888888888888884, 1: 0.6111111111111112}; total time=   0.2s\n",
            "[CV] END C=1.8329807108324339, class_weight={0: 0.4444444444444444, 1: 0.5555555555555556}; total time=   0.2s\n",
            "[CV] END C=1.8329807108324339, class_weight={0: 0.4444444444444444, 1: 0.5555555555555556}; total time=   0.2s\n",
            "[CV] END C=1.8329807108324339, class_weight={0: 0.4444444444444444, 1: 0.5555555555555556}; total time=   0.1s\n",
            "[CV] END C=1.8329807108324339, class_weight={0: 0.4444444444444444, 1: 0.5555555555555556}; total time=   0.2s\n",
            "[CV] END C=1.8329807108324339, class_weight={0: 0.4444444444444444, 1: 0.5555555555555556}; total time=   0.2s\n",
            "[CV] END C=1.8329807108324339, class_weight={0: 0.5, 1: 0.5}; total time=   0.2s\n",
            "[CV] END C=1.8329807108324339, class_weight={0: 0.5, 1: 0.5}; total time=   0.2s\n",
            "[CV] END C=1.8329807108324339, class_weight={0: 0.5, 1: 0.5}; total time=   0.1s\n",
            "[CV] END C=1.8329807108324339, class_weight={0: 0.5, 1: 0.5}; total time=   0.2s\n",
            "[CV] END C=1.8329807108324339, class_weight={0: 0.5, 1: 0.5}; total time=   0.2s\n"
          ]
        },
        {
          "output_type": "stream",
          "name": "stderr",
          "text": [
            "/usr/local/lib/python3.7/dist-packages/sklearn/linear_model/_sag.py:354: ConvergenceWarning: The max_iter was reached which means the coef_ did not converge\n",
            "  ConvergenceWarning,\n"
          ]
        },
        {
          "output_type": "stream",
          "name": "stdout",
          "text": [
            "[CV] END C=6.1584821106602545, class_weight={0: 0.0, 1: 1.0}; total time=   0.3s\n"
          ]
        },
        {
          "output_type": "stream",
          "name": "stderr",
          "text": [
            "/usr/local/lib/python3.7/dist-packages/sklearn/linear_model/_sag.py:354: ConvergenceWarning: The max_iter was reached which means the coef_ did not converge\n",
            "  ConvergenceWarning,\n"
          ]
        },
        {
          "output_type": "stream",
          "name": "stdout",
          "text": [
            "[CV] END C=6.1584821106602545, class_weight={0: 0.0, 1: 1.0}; total time=   0.3s\n"
          ]
        },
        {
          "output_type": "stream",
          "name": "stderr",
          "text": [
            "/usr/local/lib/python3.7/dist-packages/sklearn/linear_model/_sag.py:354: ConvergenceWarning: The max_iter was reached which means the coef_ did not converge\n",
            "  ConvergenceWarning,\n"
          ]
        },
        {
          "output_type": "stream",
          "name": "stdout",
          "text": [
            "[CV] END C=6.1584821106602545, class_weight={0: 0.0, 1: 1.0}; total time=   0.3s\n"
          ]
        },
        {
          "output_type": "stream",
          "name": "stderr",
          "text": [
            "/usr/local/lib/python3.7/dist-packages/sklearn/linear_model/_sag.py:354: ConvergenceWarning: The max_iter was reached which means the coef_ did not converge\n",
            "  ConvergenceWarning,\n"
          ]
        },
        {
          "output_type": "stream",
          "name": "stdout",
          "text": [
            "[CV] END C=6.1584821106602545, class_weight={0: 0.0, 1: 1.0}; total time=   0.3s\n"
          ]
        },
        {
          "output_type": "stream",
          "name": "stderr",
          "text": [
            "/usr/local/lib/python3.7/dist-packages/sklearn/linear_model/_sag.py:354: ConvergenceWarning: The max_iter was reached which means the coef_ did not converge\n",
            "  ConvergenceWarning,\n"
          ]
        },
        {
          "output_type": "stream",
          "name": "stdout",
          "text": [
            "[CV] END C=6.1584821106602545, class_weight={0: 0.0, 1: 1.0}; total time=   0.3s\n",
            "[CV] END C=6.1584821106602545, class_weight={0: 0.05555555555555555, 1: 0.9444444444444444}; total time=   0.3s\n"
          ]
        },
        {
          "output_type": "stream",
          "name": "stderr",
          "text": [
            "/usr/local/lib/python3.7/dist-packages/sklearn/linear_model/_sag.py:354: ConvergenceWarning: The max_iter was reached which means the coef_ did not converge\n",
            "  ConvergenceWarning,\n"
          ]
        },
        {
          "output_type": "stream",
          "name": "stdout",
          "text": [
            "[CV] END C=6.1584821106602545, class_weight={0: 0.05555555555555555, 1: 0.9444444444444444}; total time=   0.3s\n",
            "[CV] END C=6.1584821106602545, class_weight={0: 0.05555555555555555, 1: 0.9444444444444444}; total time=   0.2s\n",
            "[CV] END C=6.1584821106602545, class_weight={0: 0.05555555555555555, 1: 0.9444444444444444}; total time=   0.3s\n",
            "[CV] END C=6.1584821106602545, class_weight={0: 0.05555555555555555, 1: 0.9444444444444444}; total time=   0.3s\n",
            "[CV] END C=6.1584821106602545, class_weight={0: 0.1111111111111111, 1: 0.8888888888888888}; total time=   0.3s\n",
            "[CV] END C=6.1584821106602545, class_weight={0: 0.1111111111111111, 1: 0.8888888888888888}; total time=   0.2s\n",
            "[CV] END C=6.1584821106602545, class_weight={0: 0.1111111111111111, 1: 0.8888888888888888}; total time=   0.1s\n",
            "[CV] END C=6.1584821106602545, class_weight={0: 0.1111111111111111, 1: 0.8888888888888888}; total time=   0.2s\n",
            "[CV] END C=6.1584821106602545, class_weight={0: 0.1111111111111111, 1: 0.8888888888888888}; total time=   0.2s\n",
            "[CV] END C=6.1584821106602545, class_weight={0: 0.16666666666666666, 1: 0.8333333333333334}; total time=   0.2s\n",
            "[CV] END C=6.1584821106602545, class_weight={0: 0.16666666666666666, 1: 0.8333333333333334}; total time=   0.2s\n",
            "[CV] END C=6.1584821106602545, class_weight={0: 0.16666666666666666, 1: 0.8333333333333334}; total time=   0.1s\n",
            "[CV] END C=6.1584821106602545, class_weight={0: 0.16666666666666666, 1: 0.8333333333333334}; total time=   0.2s\n",
            "[CV] END C=6.1584821106602545, class_weight={0: 0.16666666666666666, 1: 0.8333333333333334}; total time=   0.2s\n",
            "[CV] END C=6.1584821106602545, class_weight={0: 0.2222222222222222, 1: 0.7777777777777778}; total time=   0.2s\n",
            "[CV] END C=6.1584821106602545, class_weight={0: 0.2222222222222222, 1: 0.7777777777777778}; total time=   0.2s\n",
            "[CV] END C=6.1584821106602545, class_weight={0: 0.2222222222222222, 1: 0.7777777777777778}; total time=   0.1s\n",
            "[CV] END C=6.1584821106602545, class_weight={0: 0.2222222222222222, 1: 0.7777777777777778}; total time=   0.2s\n",
            "[CV] END C=6.1584821106602545, class_weight={0: 0.2222222222222222, 1: 0.7777777777777778}; total time=   0.2s\n",
            "[CV] END C=6.1584821106602545, class_weight={0: 0.2777777777777778, 1: 0.7222222222222222}; total time=   0.2s\n",
            "[CV] END C=6.1584821106602545, class_weight={0: 0.2777777777777778, 1: 0.7222222222222222}; total time=   0.2s\n",
            "[CV] END C=6.1584821106602545, class_weight={0: 0.2777777777777778, 1: 0.7222222222222222}; total time=   0.1s\n",
            "[CV] END C=6.1584821106602545, class_weight={0: 0.2777777777777778, 1: 0.7222222222222222}; total time=   0.2s\n",
            "[CV] END C=6.1584821106602545, class_weight={0: 0.2777777777777778, 1: 0.7222222222222222}; total time=   0.2s\n",
            "[CV] END C=6.1584821106602545, class_weight={0: 0.3333333333333333, 1: 0.6666666666666667}; total time=   0.2s\n",
            "[CV] END C=6.1584821106602545, class_weight={0: 0.3333333333333333, 1: 0.6666666666666667}; total time=   0.2s\n",
            "[CV] END C=6.1584821106602545, class_weight={0: 0.3333333333333333, 1: 0.6666666666666667}; total time=   0.1s\n",
            "[CV] END C=6.1584821106602545, class_weight={0: 0.3333333333333333, 1: 0.6666666666666667}; total time=   0.2s\n",
            "[CV] END C=6.1584821106602545, class_weight={0: 0.3333333333333333, 1: 0.6666666666666667}; total time=   0.2s\n",
            "[CV] END C=6.1584821106602545, class_weight={0: 0.38888888888888884, 1: 0.6111111111111112}; total time=   0.2s\n",
            "[CV] END C=6.1584821106602545, class_weight={0: 0.38888888888888884, 1: 0.6111111111111112}; total time=   0.2s\n",
            "[CV] END C=6.1584821106602545, class_weight={0: 0.38888888888888884, 1: 0.6111111111111112}; total time=   0.1s\n",
            "[CV] END C=6.1584821106602545, class_weight={0: 0.38888888888888884, 1: 0.6111111111111112}; total time=   0.2s\n",
            "[CV] END C=6.1584821106602545, class_weight={0: 0.38888888888888884, 1: 0.6111111111111112}; total time=   0.2s\n",
            "[CV] END C=6.1584821106602545, class_weight={0: 0.4444444444444444, 1: 0.5555555555555556}; total time=   0.2s\n",
            "[CV] END C=6.1584821106602545, class_weight={0: 0.4444444444444444, 1: 0.5555555555555556}; total time=   0.2s\n",
            "[CV] END C=6.1584821106602545, class_weight={0: 0.4444444444444444, 1: 0.5555555555555556}; total time=   0.1s\n",
            "[CV] END C=6.1584821106602545, class_weight={0: 0.4444444444444444, 1: 0.5555555555555556}; total time=   0.2s\n",
            "[CV] END C=6.1584821106602545, class_weight={0: 0.4444444444444444, 1: 0.5555555555555556}; total time=   0.2s\n",
            "[CV] END C=6.1584821106602545, class_weight={0: 0.5, 1: 0.5}; total time=   0.2s\n",
            "[CV] END C=6.1584821106602545, class_weight={0: 0.5, 1: 0.5}; total time=   0.2s\n",
            "[CV] END C=6.1584821106602545, class_weight={0: 0.5, 1: 0.5}; total time=   0.1s\n",
            "[CV] END C=6.1584821106602545, class_weight={0: 0.5, 1: 0.5}; total time=   0.2s\n",
            "[CV] END C=6.1584821106602545, class_weight={0: 0.5, 1: 0.5}; total time=   0.2s\n"
          ]
        },
        {
          "output_type": "stream",
          "name": "stderr",
          "text": [
            "/usr/local/lib/python3.7/dist-packages/sklearn/linear_model/_sag.py:354: ConvergenceWarning: The max_iter was reached which means the coef_ did not converge\n",
            "  ConvergenceWarning,\n"
          ]
        },
        {
          "output_type": "stream",
          "name": "stdout",
          "text": [
            "[CV] END ..C=20.6913808111479, class_weight={0: 0.0, 1: 1.0}; total time=   0.3s\n"
          ]
        },
        {
          "output_type": "stream",
          "name": "stderr",
          "text": [
            "/usr/local/lib/python3.7/dist-packages/sklearn/linear_model/_sag.py:354: ConvergenceWarning: The max_iter was reached which means the coef_ did not converge\n",
            "  ConvergenceWarning,\n"
          ]
        },
        {
          "output_type": "stream",
          "name": "stdout",
          "text": [
            "[CV] END ..C=20.6913808111479, class_weight={0: 0.0, 1: 1.0}; total time=   0.3s\n"
          ]
        },
        {
          "output_type": "stream",
          "name": "stderr",
          "text": [
            "/usr/local/lib/python3.7/dist-packages/sklearn/linear_model/_sag.py:354: ConvergenceWarning: The max_iter was reached which means the coef_ did not converge\n",
            "  ConvergenceWarning,\n"
          ]
        },
        {
          "output_type": "stream",
          "name": "stdout",
          "text": [
            "[CV] END ..C=20.6913808111479, class_weight={0: 0.0, 1: 1.0}; total time=   0.3s\n"
          ]
        },
        {
          "output_type": "stream",
          "name": "stderr",
          "text": [
            "/usr/local/lib/python3.7/dist-packages/sklearn/linear_model/_sag.py:354: ConvergenceWarning: The max_iter was reached which means the coef_ did not converge\n",
            "  ConvergenceWarning,\n"
          ]
        },
        {
          "output_type": "stream",
          "name": "stdout",
          "text": [
            "[CV] END ..C=20.6913808111479, class_weight={0: 0.0, 1: 1.0}; total time=   0.3s\n"
          ]
        },
        {
          "output_type": "stream",
          "name": "stderr",
          "text": [
            "/usr/local/lib/python3.7/dist-packages/sklearn/linear_model/_sag.py:354: ConvergenceWarning: The max_iter was reached which means the coef_ did not converge\n",
            "  ConvergenceWarning,\n"
          ]
        },
        {
          "output_type": "stream",
          "name": "stdout",
          "text": [
            "[CV] END ..C=20.6913808111479, class_weight={0: 0.0, 1: 1.0}; total time=   0.3s\n"
          ]
        },
        {
          "output_type": "stream",
          "name": "stderr",
          "text": [
            "/usr/local/lib/python3.7/dist-packages/sklearn/linear_model/_sag.py:354: ConvergenceWarning: The max_iter was reached which means the coef_ did not converge\n",
            "  ConvergenceWarning,\n"
          ]
        },
        {
          "output_type": "stream",
          "name": "stdout",
          "text": [
            "[CV] END C=20.6913808111479, class_weight={0: 0.05555555555555555, 1: 0.9444444444444444}; total time=   0.3s\n"
          ]
        },
        {
          "output_type": "stream",
          "name": "stderr",
          "text": [
            "/usr/local/lib/python3.7/dist-packages/sklearn/linear_model/_sag.py:354: ConvergenceWarning: The max_iter was reached which means the coef_ did not converge\n",
            "  ConvergenceWarning,\n"
          ]
        },
        {
          "output_type": "stream",
          "name": "stdout",
          "text": [
            "[CV] END C=20.6913808111479, class_weight={0: 0.05555555555555555, 1: 0.9444444444444444}; total time=   0.3s\n",
            "[CV] END C=20.6913808111479, class_weight={0: 0.05555555555555555, 1: 0.9444444444444444}; total time=   0.2s\n",
            "[CV] END C=20.6913808111479, class_weight={0: 0.05555555555555555, 1: 0.9444444444444444}; total time=   0.3s\n",
            "[CV] END C=20.6913808111479, class_weight={0: 0.05555555555555555, 1: 0.9444444444444444}; total time=   0.3s\n",
            "[CV] END C=20.6913808111479, class_weight={0: 0.1111111111111111, 1: 0.8888888888888888}; total time=   0.2s\n",
            "[CV] END C=20.6913808111479, class_weight={0: 0.1111111111111111, 1: 0.8888888888888888}; total time=   0.2s\n",
            "[CV] END C=20.6913808111479, class_weight={0: 0.1111111111111111, 1: 0.8888888888888888}; total time=   0.1s\n",
            "[CV] END C=20.6913808111479, class_weight={0: 0.1111111111111111, 1: 0.8888888888888888}; total time=   0.2s\n",
            "[CV] END C=20.6913808111479, class_weight={0: 0.1111111111111111, 1: 0.8888888888888888}; total time=   0.2s\n",
            "[CV] END C=20.6913808111479, class_weight={0: 0.16666666666666666, 1: 0.8333333333333334}; total time=   0.2s\n",
            "[CV] END C=20.6913808111479, class_weight={0: 0.16666666666666666, 1: 0.8333333333333334}; total time=   0.2s\n",
            "[CV] END C=20.6913808111479, class_weight={0: 0.16666666666666666, 1: 0.8333333333333334}; total time=   0.1s\n",
            "[CV] END C=20.6913808111479, class_weight={0: 0.16666666666666666, 1: 0.8333333333333334}; total time=   0.2s\n",
            "[CV] END C=20.6913808111479, class_weight={0: 0.16666666666666666, 1: 0.8333333333333334}; total time=   0.2s\n",
            "[CV] END C=20.6913808111479, class_weight={0: 0.2222222222222222, 1: 0.7777777777777778}; total time=   0.2s\n",
            "[CV] END C=20.6913808111479, class_weight={0: 0.2222222222222222, 1: 0.7777777777777778}; total time=   0.2s\n",
            "[CV] END C=20.6913808111479, class_weight={0: 0.2222222222222222, 1: 0.7777777777777778}; total time=   0.1s\n",
            "[CV] END C=20.6913808111479, class_weight={0: 0.2222222222222222, 1: 0.7777777777777778}; total time=   0.2s\n",
            "[CV] END C=20.6913808111479, class_weight={0: 0.2222222222222222, 1: 0.7777777777777778}; total time=   0.2s\n",
            "[CV] END C=20.6913808111479, class_weight={0: 0.2777777777777778, 1: 0.7222222222222222}; total time=   0.2s\n",
            "[CV] END C=20.6913808111479, class_weight={0: 0.2777777777777778, 1: 0.7222222222222222}; total time=   0.2s\n",
            "[CV] END C=20.6913808111479, class_weight={0: 0.2777777777777778, 1: 0.7222222222222222}; total time=   0.1s\n",
            "[CV] END C=20.6913808111479, class_weight={0: 0.2777777777777778, 1: 0.7222222222222222}; total time=   0.2s\n",
            "[CV] END C=20.6913808111479, class_weight={0: 0.2777777777777778, 1: 0.7222222222222222}; total time=   0.2s\n",
            "[CV] END C=20.6913808111479, class_weight={0: 0.3333333333333333, 1: 0.6666666666666667}; total time=   0.2s\n",
            "[CV] END C=20.6913808111479, class_weight={0: 0.3333333333333333, 1: 0.6666666666666667}; total time=   0.2s\n",
            "[CV] END C=20.6913808111479, class_weight={0: 0.3333333333333333, 1: 0.6666666666666667}; total time=   0.1s\n",
            "[CV] END C=20.6913808111479, class_weight={0: 0.3333333333333333, 1: 0.6666666666666667}; total time=   0.2s\n",
            "[CV] END C=20.6913808111479, class_weight={0: 0.3333333333333333, 1: 0.6666666666666667}; total time=   0.2s\n",
            "[CV] END C=20.6913808111479, class_weight={0: 0.38888888888888884, 1: 0.6111111111111112}; total time=   0.2s\n",
            "[CV] END C=20.6913808111479, class_weight={0: 0.38888888888888884, 1: 0.6111111111111112}; total time=   0.2s\n",
            "[CV] END C=20.6913808111479, class_weight={0: 0.38888888888888884, 1: 0.6111111111111112}; total time=   0.1s\n",
            "[CV] END C=20.6913808111479, class_weight={0: 0.38888888888888884, 1: 0.6111111111111112}; total time=   0.2s\n",
            "[CV] END C=20.6913808111479, class_weight={0: 0.38888888888888884, 1: 0.6111111111111112}; total time=   0.2s\n",
            "[CV] END C=20.6913808111479, class_weight={0: 0.4444444444444444, 1: 0.5555555555555556}; total time=   0.2s\n",
            "[CV] END C=20.6913808111479, class_weight={0: 0.4444444444444444, 1: 0.5555555555555556}; total time=   0.2s\n",
            "[CV] END C=20.6913808111479, class_weight={0: 0.4444444444444444, 1: 0.5555555555555556}; total time=   0.1s\n",
            "[CV] END C=20.6913808111479, class_weight={0: 0.4444444444444444, 1: 0.5555555555555556}; total time=   0.2s\n",
            "[CV] END C=20.6913808111479, class_weight={0: 0.4444444444444444, 1: 0.5555555555555556}; total time=   0.2s\n",
            "[CV] END ..C=20.6913808111479, class_weight={0: 0.5, 1: 0.5}; total time=   0.2s\n",
            "[CV] END ..C=20.6913808111479, class_weight={0: 0.5, 1: 0.5}; total time=   0.2s\n",
            "[CV] END ..C=20.6913808111479, class_weight={0: 0.5, 1: 0.5}; total time=   0.1s\n",
            "[CV] END ..C=20.6913808111479, class_weight={0: 0.5, 1: 0.5}; total time=   0.2s\n",
            "[CV] END ..C=20.6913808111479, class_weight={0: 0.5, 1: 0.5}; total time=   0.2s\n"
          ]
        },
        {
          "output_type": "stream",
          "name": "stderr",
          "text": [
            "/usr/local/lib/python3.7/dist-packages/sklearn/linear_model/_sag.py:354: ConvergenceWarning: The max_iter was reached which means the coef_ did not converge\n",
            "  ConvergenceWarning,\n"
          ]
        },
        {
          "output_type": "stream",
          "name": "stdout",
          "text": [
            "[CV] END .C=69.51927961775606, class_weight={0: 0.0, 1: 1.0}; total time=   0.3s\n"
          ]
        },
        {
          "output_type": "stream",
          "name": "stderr",
          "text": [
            "/usr/local/lib/python3.7/dist-packages/sklearn/linear_model/_sag.py:354: ConvergenceWarning: The max_iter was reached which means the coef_ did not converge\n",
            "  ConvergenceWarning,\n"
          ]
        },
        {
          "output_type": "stream",
          "name": "stdout",
          "text": [
            "[CV] END .C=69.51927961775606, class_weight={0: 0.0, 1: 1.0}; total time=   0.3s\n"
          ]
        },
        {
          "output_type": "stream",
          "name": "stderr",
          "text": [
            "/usr/local/lib/python3.7/dist-packages/sklearn/linear_model/_sag.py:354: ConvergenceWarning: The max_iter was reached which means the coef_ did not converge\n",
            "  ConvergenceWarning,\n"
          ]
        },
        {
          "output_type": "stream",
          "name": "stdout",
          "text": [
            "[CV] END .C=69.51927961775606, class_weight={0: 0.0, 1: 1.0}; total time=   0.3s\n"
          ]
        },
        {
          "output_type": "stream",
          "name": "stderr",
          "text": [
            "/usr/local/lib/python3.7/dist-packages/sklearn/linear_model/_sag.py:354: ConvergenceWarning: The max_iter was reached which means the coef_ did not converge\n",
            "  ConvergenceWarning,\n"
          ]
        },
        {
          "output_type": "stream",
          "name": "stdout",
          "text": [
            "[CV] END .C=69.51927961775606, class_weight={0: 0.0, 1: 1.0}; total time=   0.3s\n"
          ]
        },
        {
          "output_type": "stream",
          "name": "stderr",
          "text": [
            "/usr/local/lib/python3.7/dist-packages/sklearn/linear_model/_sag.py:354: ConvergenceWarning: The max_iter was reached which means the coef_ did not converge\n",
            "  ConvergenceWarning,\n"
          ]
        },
        {
          "output_type": "stream",
          "name": "stdout",
          "text": [
            "[CV] END .C=69.51927961775606, class_weight={0: 0.0, 1: 1.0}; total time=   0.3s\n"
          ]
        },
        {
          "output_type": "stream",
          "name": "stderr",
          "text": [
            "/usr/local/lib/python3.7/dist-packages/sklearn/linear_model/_sag.py:354: ConvergenceWarning: The max_iter was reached which means the coef_ did not converge\n",
            "  ConvergenceWarning,\n"
          ]
        },
        {
          "output_type": "stream",
          "name": "stdout",
          "text": [
            "[CV] END C=69.51927961775606, class_weight={0: 0.05555555555555555, 1: 0.9444444444444444}; total time=   0.3s\n"
          ]
        },
        {
          "output_type": "stream",
          "name": "stderr",
          "text": [
            "/usr/local/lib/python3.7/dist-packages/sklearn/linear_model/_sag.py:354: ConvergenceWarning: The max_iter was reached which means the coef_ did not converge\n",
            "  ConvergenceWarning,\n"
          ]
        },
        {
          "output_type": "stream",
          "name": "stdout",
          "text": [
            "[CV] END C=69.51927961775606, class_weight={0: 0.05555555555555555, 1: 0.9444444444444444}; total time=   0.3s\n",
            "[CV] END C=69.51927961775606, class_weight={0: 0.05555555555555555, 1: 0.9444444444444444}; total time=   0.2s\n",
            "[CV] END C=69.51927961775606, class_weight={0: 0.05555555555555555, 1: 0.9444444444444444}; total time=   0.3s\n",
            "[CV] END C=69.51927961775606, class_weight={0: 0.05555555555555555, 1: 0.9444444444444444}; total time=   0.3s\n",
            "[CV] END C=69.51927961775606, class_weight={0: 0.1111111111111111, 1: 0.8888888888888888}; total time=   0.2s\n",
            "[CV] END C=69.51927961775606, class_weight={0: 0.1111111111111111, 1: 0.8888888888888888}; total time=   0.2s\n",
            "[CV] END C=69.51927961775606, class_weight={0: 0.1111111111111111, 1: 0.8888888888888888}; total time=   0.1s\n",
            "[CV] END C=69.51927961775606, class_weight={0: 0.1111111111111111, 1: 0.8888888888888888}; total time=   0.2s\n",
            "[CV] END C=69.51927961775606, class_weight={0: 0.1111111111111111, 1: 0.8888888888888888}; total time=   0.2s\n",
            "[CV] END C=69.51927961775606, class_weight={0: 0.16666666666666666, 1: 0.8333333333333334}; total time=   0.2s\n",
            "[CV] END C=69.51927961775606, class_weight={0: 0.16666666666666666, 1: 0.8333333333333334}; total time=   0.2s\n",
            "[CV] END C=69.51927961775606, class_weight={0: 0.16666666666666666, 1: 0.8333333333333334}; total time=   0.1s\n",
            "[CV] END C=69.51927961775606, class_weight={0: 0.16666666666666666, 1: 0.8333333333333334}; total time=   0.2s\n",
            "[CV] END C=69.51927961775606, class_weight={0: 0.16666666666666666, 1: 0.8333333333333334}; total time=   0.2s\n",
            "[CV] END C=69.51927961775606, class_weight={0: 0.2222222222222222, 1: 0.7777777777777778}; total time=   0.2s\n",
            "[CV] END C=69.51927961775606, class_weight={0: 0.2222222222222222, 1: 0.7777777777777778}; total time=   0.2s\n",
            "[CV] END C=69.51927961775606, class_weight={0: 0.2222222222222222, 1: 0.7777777777777778}; total time=   0.1s\n",
            "[CV] END C=69.51927961775606, class_weight={0: 0.2222222222222222, 1: 0.7777777777777778}; total time=   0.2s\n",
            "[CV] END C=69.51927961775606, class_weight={0: 0.2222222222222222, 1: 0.7777777777777778}; total time=   0.2s\n",
            "[CV] END C=69.51927961775606, class_weight={0: 0.2777777777777778, 1: 0.7222222222222222}; total time=   0.2s\n",
            "[CV] END C=69.51927961775606, class_weight={0: 0.2777777777777778, 1: 0.7222222222222222}; total time=   0.2s\n",
            "[CV] END C=69.51927961775606, class_weight={0: 0.2777777777777778, 1: 0.7222222222222222}; total time=   0.1s\n",
            "[CV] END C=69.51927961775606, class_weight={0: 0.2777777777777778, 1: 0.7222222222222222}; total time=   0.2s\n",
            "[CV] END C=69.51927961775606, class_weight={0: 0.2777777777777778, 1: 0.7222222222222222}; total time=   0.2s\n",
            "[CV] END C=69.51927961775606, class_weight={0: 0.3333333333333333, 1: 0.6666666666666667}; total time=   0.2s\n",
            "[CV] END C=69.51927961775606, class_weight={0: 0.3333333333333333, 1: 0.6666666666666667}; total time=   0.2s\n",
            "[CV] END C=69.51927961775606, class_weight={0: 0.3333333333333333, 1: 0.6666666666666667}; total time=   0.1s\n",
            "[CV] END C=69.51927961775606, class_weight={0: 0.3333333333333333, 1: 0.6666666666666667}; total time=   0.2s\n",
            "[CV] END C=69.51927961775606, class_weight={0: 0.3333333333333333, 1: 0.6666666666666667}; total time=   0.2s\n",
            "[CV] END C=69.51927961775606, class_weight={0: 0.38888888888888884, 1: 0.6111111111111112}; total time=   0.2s\n",
            "[CV] END C=69.51927961775606, class_weight={0: 0.38888888888888884, 1: 0.6111111111111112}; total time=   0.2s\n",
            "[CV] END C=69.51927961775606, class_weight={0: 0.38888888888888884, 1: 0.6111111111111112}; total time=   0.1s\n",
            "[CV] END C=69.51927961775606, class_weight={0: 0.38888888888888884, 1: 0.6111111111111112}; total time=   0.2s\n",
            "[CV] END C=69.51927961775606, class_weight={0: 0.38888888888888884, 1: 0.6111111111111112}; total time=   0.2s\n",
            "[CV] END C=69.51927961775606, class_weight={0: 0.4444444444444444, 1: 0.5555555555555556}; total time=   0.2s\n",
            "[CV] END C=69.51927961775606, class_weight={0: 0.4444444444444444, 1: 0.5555555555555556}; total time=   0.2s\n",
            "[CV] END C=69.51927961775606, class_weight={0: 0.4444444444444444, 1: 0.5555555555555556}; total time=   0.1s\n",
            "[CV] END C=69.51927961775606, class_weight={0: 0.4444444444444444, 1: 0.5555555555555556}; total time=   0.2s\n",
            "[CV] END C=69.51927961775606, class_weight={0: 0.4444444444444444, 1: 0.5555555555555556}; total time=   0.2s\n",
            "[CV] END .C=69.51927961775606, class_weight={0: 0.5, 1: 0.5}; total time=   0.2s\n",
            "[CV] END .C=69.51927961775606, class_weight={0: 0.5, 1: 0.5}; total time=   0.2s\n",
            "[CV] END .C=69.51927961775606, class_weight={0: 0.5, 1: 0.5}; total time=   0.1s\n",
            "[CV] END .C=69.51927961775606, class_weight={0: 0.5, 1: 0.5}; total time=   0.2s\n",
            "[CV] END .C=69.51927961775606, class_weight={0: 0.5, 1: 0.5}; total time=   0.2s\n"
          ]
        },
        {
          "output_type": "stream",
          "name": "stderr",
          "text": [
            "/usr/local/lib/python3.7/dist-packages/sklearn/linear_model/_sag.py:354: ConvergenceWarning: The max_iter was reached which means the coef_ did not converge\n",
            "  ConvergenceWarning,\n"
          ]
        },
        {
          "output_type": "stream",
          "name": "stdout",
          "text": [
            "[CV] END C=233.57214690901213, class_weight={0: 0.0, 1: 1.0}; total time=   0.3s\n"
          ]
        },
        {
          "output_type": "stream",
          "name": "stderr",
          "text": [
            "/usr/local/lib/python3.7/dist-packages/sklearn/linear_model/_sag.py:354: ConvergenceWarning: The max_iter was reached which means the coef_ did not converge\n",
            "  ConvergenceWarning,\n"
          ]
        },
        {
          "output_type": "stream",
          "name": "stdout",
          "text": [
            "[CV] END C=233.57214690901213, class_weight={0: 0.0, 1: 1.0}; total time=   0.3s\n"
          ]
        },
        {
          "output_type": "stream",
          "name": "stderr",
          "text": [
            "/usr/local/lib/python3.7/dist-packages/sklearn/linear_model/_sag.py:354: ConvergenceWarning: The max_iter was reached which means the coef_ did not converge\n",
            "  ConvergenceWarning,\n"
          ]
        },
        {
          "output_type": "stream",
          "name": "stdout",
          "text": [
            "[CV] END C=233.57214690901213, class_weight={0: 0.0, 1: 1.0}; total time=   0.3s\n"
          ]
        },
        {
          "output_type": "stream",
          "name": "stderr",
          "text": [
            "/usr/local/lib/python3.7/dist-packages/sklearn/linear_model/_sag.py:354: ConvergenceWarning: The max_iter was reached which means the coef_ did not converge\n",
            "  ConvergenceWarning,\n"
          ]
        },
        {
          "output_type": "stream",
          "name": "stdout",
          "text": [
            "[CV] END C=233.57214690901213, class_weight={0: 0.0, 1: 1.0}; total time=   0.3s\n"
          ]
        },
        {
          "output_type": "stream",
          "name": "stderr",
          "text": [
            "/usr/local/lib/python3.7/dist-packages/sklearn/linear_model/_sag.py:354: ConvergenceWarning: The max_iter was reached which means the coef_ did not converge\n",
            "  ConvergenceWarning,\n"
          ]
        },
        {
          "output_type": "stream",
          "name": "stdout",
          "text": [
            "[CV] END C=233.57214690901213, class_weight={0: 0.0, 1: 1.0}; total time=   0.3s\n",
            "[CV] END C=233.57214690901213, class_weight={0: 0.05555555555555555, 1: 0.9444444444444444}; total time=   0.3s\n"
          ]
        },
        {
          "output_type": "stream",
          "name": "stderr",
          "text": [
            "/usr/local/lib/python3.7/dist-packages/sklearn/linear_model/_sag.py:354: ConvergenceWarning: The max_iter was reached which means the coef_ did not converge\n",
            "  ConvergenceWarning,\n"
          ]
        },
        {
          "output_type": "stream",
          "name": "stdout",
          "text": [
            "[CV] END C=233.57214690901213, class_weight={0: 0.05555555555555555, 1: 0.9444444444444444}; total time=   0.3s\n",
            "[CV] END C=233.57214690901213, class_weight={0: 0.05555555555555555, 1: 0.9444444444444444}; total time=   0.2s\n",
            "[CV] END C=233.57214690901213, class_weight={0: 0.05555555555555555, 1: 0.9444444444444444}; total time=   0.3s\n",
            "[CV] END C=233.57214690901213, class_weight={0: 0.05555555555555555, 1: 0.9444444444444444}; total time=   0.3s\n",
            "[CV] END C=233.57214690901213, class_weight={0: 0.1111111111111111, 1: 0.8888888888888888}; total time=   0.5s\n",
            "[CV] END C=233.57214690901213, class_weight={0: 0.1111111111111111, 1: 0.8888888888888888}; total time=   0.4s\n",
            "[CV] END C=233.57214690901213, class_weight={0: 0.1111111111111111, 1: 0.8888888888888888}; total time=   0.1s\n",
            "[CV] END C=233.57214690901213, class_weight={0: 0.1111111111111111, 1: 0.8888888888888888}; total time=   0.2s\n",
            "[CV] END C=233.57214690901213, class_weight={0: 0.1111111111111111, 1: 0.8888888888888888}; total time=   0.2s\n",
            "[CV] END C=233.57214690901213, class_weight={0: 0.16666666666666666, 1: 0.8333333333333334}; total time=   0.2s\n",
            "[CV] END C=233.57214690901213, class_weight={0: 0.16666666666666666, 1: 0.8333333333333334}; total time=   0.2s\n",
            "[CV] END C=233.57214690901213, class_weight={0: 0.16666666666666666, 1: 0.8333333333333334}; total time=   0.1s\n",
            "[CV] END C=233.57214690901213, class_weight={0: 0.16666666666666666, 1: 0.8333333333333334}; total time=   0.2s\n",
            "[CV] END C=233.57214690901213, class_weight={0: 0.16666666666666666, 1: 0.8333333333333334}; total time=   0.2s\n",
            "[CV] END C=233.57214690901213, class_weight={0: 0.2222222222222222, 1: 0.7777777777777778}; total time=   0.2s\n",
            "[CV] END C=233.57214690901213, class_weight={0: 0.2222222222222222, 1: 0.7777777777777778}; total time=   0.2s\n",
            "[CV] END C=233.57214690901213, class_weight={0: 0.2222222222222222, 1: 0.7777777777777778}; total time=   0.1s\n",
            "[CV] END C=233.57214690901213, class_weight={0: 0.2222222222222222, 1: 0.7777777777777778}; total time=   0.2s\n",
            "[CV] END C=233.57214690901213, class_weight={0: 0.2222222222222222, 1: 0.7777777777777778}; total time=   0.2s\n",
            "[CV] END C=233.57214690901213, class_weight={0: 0.2777777777777778, 1: 0.7222222222222222}; total time=   0.2s\n",
            "[CV] END C=233.57214690901213, class_weight={0: 0.2777777777777778, 1: 0.7222222222222222}; total time=   0.2s\n",
            "[CV] END C=233.57214690901213, class_weight={0: 0.2777777777777778, 1: 0.7222222222222222}; total time=   0.1s\n",
            "[CV] END C=233.57214690901213, class_weight={0: 0.2777777777777778, 1: 0.7222222222222222}; total time=   0.2s\n",
            "[CV] END C=233.57214690901213, class_weight={0: 0.2777777777777778, 1: 0.7222222222222222}; total time=   0.2s\n",
            "[CV] END C=233.57214690901213, class_weight={0: 0.3333333333333333, 1: 0.6666666666666667}; total time=   0.2s\n",
            "[CV] END C=233.57214690901213, class_weight={0: 0.3333333333333333, 1: 0.6666666666666667}; total time=   0.2s\n",
            "[CV] END C=233.57214690901213, class_weight={0: 0.3333333333333333, 1: 0.6666666666666667}; total time=   0.1s\n",
            "[CV] END C=233.57214690901213, class_weight={0: 0.3333333333333333, 1: 0.6666666666666667}; total time=   0.2s\n",
            "[CV] END C=233.57214690901213, class_weight={0: 0.3333333333333333, 1: 0.6666666666666667}; total time=   0.2s\n",
            "[CV] END C=233.57214690901213, class_weight={0: 0.38888888888888884, 1: 0.6111111111111112}; total time=   0.2s\n",
            "[CV] END C=233.57214690901213, class_weight={0: 0.38888888888888884, 1: 0.6111111111111112}; total time=   0.2s\n",
            "[CV] END C=233.57214690901213, class_weight={0: 0.38888888888888884, 1: 0.6111111111111112}; total time=   0.1s\n",
            "[CV] END C=233.57214690901213, class_weight={0: 0.38888888888888884, 1: 0.6111111111111112}; total time=   0.2s\n",
            "[CV] END C=233.57214690901213, class_weight={0: 0.38888888888888884, 1: 0.6111111111111112}; total time=   0.2s\n",
            "[CV] END C=233.57214690901213, class_weight={0: 0.4444444444444444, 1: 0.5555555555555556}; total time=   0.2s\n",
            "[CV] END C=233.57214690901213, class_weight={0: 0.4444444444444444, 1: 0.5555555555555556}; total time=   0.2s\n",
            "[CV] END C=233.57214690901213, class_weight={0: 0.4444444444444444, 1: 0.5555555555555556}; total time=   0.1s\n",
            "[CV] END C=233.57214690901213, class_weight={0: 0.4444444444444444, 1: 0.5555555555555556}; total time=   0.2s\n",
            "[CV] END C=233.57214690901213, class_weight={0: 0.4444444444444444, 1: 0.5555555555555556}; total time=   0.2s\n",
            "[CV] END C=233.57214690901213, class_weight={0: 0.5, 1: 0.5}; total time=   0.2s\n",
            "[CV] END C=233.57214690901213, class_weight={0: 0.5, 1: 0.5}; total time=   0.2s\n",
            "[CV] END C=233.57214690901213, class_weight={0: 0.5, 1: 0.5}; total time=   0.1s\n",
            "[CV] END C=233.57214690901213, class_weight={0: 0.5, 1: 0.5}; total time=   0.2s\n",
            "[CV] END C=233.57214690901213, class_weight={0: 0.5, 1: 0.5}; total time=   0.2s\n"
          ]
        },
        {
          "output_type": "stream",
          "name": "stderr",
          "text": [
            "/usr/local/lib/python3.7/dist-packages/sklearn/linear_model/_sag.py:354: ConvergenceWarning: The max_iter was reached which means the coef_ did not converge\n",
            "  ConvergenceWarning,\n"
          ]
        },
        {
          "output_type": "stream",
          "name": "stdout",
          "text": [
            "[CV] END .C=784.7599703514607, class_weight={0: 0.0, 1: 1.0}; total time=   0.3s\n"
          ]
        },
        {
          "output_type": "stream",
          "name": "stderr",
          "text": [
            "/usr/local/lib/python3.7/dist-packages/sklearn/linear_model/_sag.py:354: ConvergenceWarning: The max_iter was reached which means the coef_ did not converge\n",
            "  ConvergenceWarning,\n"
          ]
        },
        {
          "output_type": "stream",
          "name": "stdout",
          "text": [
            "[CV] END .C=784.7599703514607, class_weight={0: 0.0, 1: 1.0}; total time=   0.3s\n"
          ]
        },
        {
          "output_type": "stream",
          "name": "stderr",
          "text": [
            "/usr/local/lib/python3.7/dist-packages/sklearn/linear_model/_sag.py:354: ConvergenceWarning: The max_iter was reached which means the coef_ did not converge\n",
            "  ConvergenceWarning,\n"
          ]
        },
        {
          "output_type": "stream",
          "name": "stdout",
          "text": [
            "[CV] END .C=784.7599703514607, class_weight={0: 0.0, 1: 1.0}; total time=   0.3s\n"
          ]
        },
        {
          "output_type": "stream",
          "name": "stderr",
          "text": [
            "/usr/local/lib/python3.7/dist-packages/sklearn/linear_model/_sag.py:354: ConvergenceWarning: The max_iter was reached which means the coef_ did not converge\n",
            "  ConvergenceWarning,\n"
          ]
        },
        {
          "output_type": "stream",
          "name": "stdout",
          "text": [
            "[CV] END .C=784.7599703514607, class_weight={0: 0.0, 1: 1.0}; total time=   0.3s\n"
          ]
        },
        {
          "output_type": "stream",
          "name": "stderr",
          "text": [
            "/usr/local/lib/python3.7/dist-packages/sklearn/linear_model/_sag.py:354: ConvergenceWarning: The max_iter was reached which means the coef_ did not converge\n",
            "  ConvergenceWarning,\n"
          ]
        },
        {
          "output_type": "stream",
          "name": "stdout",
          "text": [
            "[CV] END .C=784.7599703514607, class_weight={0: 0.0, 1: 1.0}; total time=   0.3s\n"
          ]
        },
        {
          "output_type": "stream",
          "name": "stderr",
          "text": [
            "/usr/local/lib/python3.7/dist-packages/sklearn/linear_model/_sag.py:354: ConvergenceWarning: The max_iter was reached which means the coef_ did not converge\n",
            "  ConvergenceWarning,\n"
          ]
        },
        {
          "output_type": "stream",
          "name": "stdout",
          "text": [
            "[CV] END C=784.7599703514607, class_weight={0: 0.05555555555555555, 1: 0.9444444444444444}; total time=   0.3s\n"
          ]
        },
        {
          "output_type": "stream",
          "name": "stderr",
          "text": [
            "/usr/local/lib/python3.7/dist-packages/sklearn/linear_model/_sag.py:354: ConvergenceWarning: The max_iter was reached which means the coef_ did not converge\n",
            "  ConvergenceWarning,\n"
          ]
        },
        {
          "output_type": "stream",
          "name": "stdout",
          "text": [
            "[CV] END C=784.7599703514607, class_weight={0: 0.05555555555555555, 1: 0.9444444444444444}; total time=   0.3s\n",
            "[CV] END C=784.7599703514607, class_weight={0: 0.05555555555555555, 1: 0.9444444444444444}; total time=   0.2s\n",
            "[CV] END C=784.7599703514607, class_weight={0: 0.05555555555555555, 1: 0.9444444444444444}; total time=   0.3s\n",
            "[CV] END C=784.7599703514607, class_weight={0: 0.05555555555555555, 1: 0.9444444444444444}; total time=   0.3s\n",
            "[CV] END C=784.7599703514607, class_weight={0: 0.1111111111111111, 1: 0.8888888888888888}; total time=   0.2s\n",
            "[CV] END C=784.7599703514607, class_weight={0: 0.1111111111111111, 1: 0.8888888888888888}; total time=   0.2s\n",
            "[CV] END C=784.7599703514607, class_weight={0: 0.1111111111111111, 1: 0.8888888888888888}; total time=   0.1s\n",
            "[CV] END C=784.7599703514607, class_weight={0: 0.1111111111111111, 1: 0.8888888888888888}; total time=   0.2s\n",
            "[CV] END C=784.7599703514607, class_weight={0: 0.1111111111111111, 1: 0.8888888888888888}; total time=   0.2s\n",
            "[CV] END C=784.7599703514607, class_weight={0: 0.16666666666666666, 1: 0.8333333333333334}; total time=   0.2s\n",
            "[CV] END C=784.7599703514607, class_weight={0: 0.16666666666666666, 1: 0.8333333333333334}; total time=   0.2s\n",
            "[CV] END C=784.7599703514607, class_weight={0: 0.16666666666666666, 1: 0.8333333333333334}; total time=   0.1s\n",
            "[CV] END C=784.7599703514607, class_weight={0: 0.16666666666666666, 1: 0.8333333333333334}; total time=   0.2s\n",
            "[CV] END C=784.7599703514607, class_weight={0: 0.16666666666666666, 1: 0.8333333333333334}; total time=   0.2s\n",
            "[CV] END C=784.7599703514607, class_weight={0: 0.2222222222222222, 1: 0.7777777777777778}; total time=   0.2s\n",
            "[CV] END C=784.7599703514607, class_weight={0: 0.2222222222222222, 1: 0.7777777777777778}; total time=   0.2s\n",
            "[CV] END C=784.7599703514607, class_weight={0: 0.2222222222222222, 1: 0.7777777777777778}; total time=   0.1s\n",
            "[CV] END C=784.7599703514607, class_weight={0: 0.2222222222222222, 1: 0.7777777777777778}; total time=   0.2s\n",
            "[CV] END C=784.7599703514607, class_weight={0: 0.2222222222222222, 1: 0.7777777777777778}; total time=   0.2s\n",
            "[CV] END C=784.7599703514607, class_weight={0: 0.2777777777777778, 1: 0.7222222222222222}; total time=   0.2s\n",
            "[CV] END C=784.7599703514607, class_weight={0: 0.2777777777777778, 1: 0.7222222222222222}; total time=   0.2s\n",
            "[CV] END C=784.7599703514607, class_weight={0: 0.2777777777777778, 1: 0.7222222222222222}; total time=   0.1s\n",
            "[CV] END C=784.7599703514607, class_weight={0: 0.2777777777777778, 1: 0.7222222222222222}; total time=   0.2s\n",
            "[CV] END C=784.7599703514607, class_weight={0: 0.2777777777777778, 1: 0.7222222222222222}; total time=   0.2s\n",
            "[CV] END C=784.7599703514607, class_weight={0: 0.3333333333333333, 1: 0.6666666666666667}; total time=   0.2s\n",
            "[CV] END C=784.7599703514607, class_weight={0: 0.3333333333333333, 1: 0.6666666666666667}; total time=   0.2s\n",
            "[CV] END C=784.7599703514607, class_weight={0: 0.3333333333333333, 1: 0.6666666666666667}; total time=   0.1s\n",
            "[CV] END C=784.7599703514607, class_weight={0: 0.3333333333333333, 1: 0.6666666666666667}; total time=   0.2s\n",
            "[CV] END C=784.7599703514607, class_weight={0: 0.3333333333333333, 1: 0.6666666666666667}; total time=   0.2s\n",
            "[CV] END C=784.7599703514607, class_weight={0: 0.38888888888888884, 1: 0.6111111111111112}; total time=   0.2s\n",
            "[CV] END C=784.7599703514607, class_weight={0: 0.38888888888888884, 1: 0.6111111111111112}; total time=   0.2s\n",
            "[CV] END C=784.7599703514607, class_weight={0: 0.38888888888888884, 1: 0.6111111111111112}; total time=   0.1s\n",
            "[CV] END C=784.7599703514607, class_weight={0: 0.38888888888888884, 1: 0.6111111111111112}; total time=   0.2s\n",
            "[CV] END C=784.7599703514607, class_weight={0: 0.38888888888888884, 1: 0.6111111111111112}; total time=   0.2s\n",
            "[CV] END C=784.7599703514607, class_weight={0: 0.4444444444444444, 1: 0.5555555555555556}; total time=   0.2s\n",
            "[CV] END C=784.7599703514607, class_weight={0: 0.4444444444444444, 1: 0.5555555555555556}; total time=   0.2s\n",
            "[CV] END C=784.7599703514607, class_weight={0: 0.4444444444444444, 1: 0.5555555555555556}; total time=   0.1s\n",
            "[CV] END C=784.7599703514607, class_weight={0: 0.4444444444444444, 1: 0.5555555555555556}; total time=   0.2s\n",
            "[CV] END C=784.7599703514607, class_weight={0: 0.4444444444444444, 1: 0.5555555555555556}; total time=   0.2s\n",
            "[CV] END .C=784.7599703514607, class_weight={0: 0.5, 1: 0.5}; total time=   0.2s\n",
            "[CV] END .C=784.7599703514607, class_weight={0: 0.5, 1: 0.5}; total time=   0.2s\n",
            "[CV] END .C=784.7599703514607, class_weight={0: 0.5, 1: 0.5}; total time=   0.1s\n",
            "[CV] END .C=784.7599703514607, class_weight={0: 0.5, 1: 0.5}; total time=   0.2s\n",
            "[CV] END .C=784.7599703514607, class_weight={0: 0.5, 1: 0.5}; total time=   0.2s\n"
          ]
        },
        {
          "output_type": "stream",
          "name": "stderr",
          "text": [
            "/usr/local/lib/python3.7/dist-packages/sklearn/linear_model/_sag.py:354: ConvergenceWarning: The max_iter was reached which means the coef_ did not converge\n",
            "  ConvergenceWarning,\n"
          ]
        },
        {
          "output_type": "stream",
          "name": "stdout",
          "text": [
            "[CV] END C=2636.6508987303555, class_weight={0: 0.0, 1: 1.0}; total time=   0.3s\n"
          ]
        },
        {
          "output_type": "stream",
          "name": "stderr",
          "text": [
            "/usr/local/lib/python3.7/dist-packages/sklearn/linear_model/_sag.py:354: ConvergenceWarning: The max_iter was reached which means the coef_ did not converge\n",
            "  ConvergenceWarning,\n"
          ]
        },
        {
          "output_type": "stream",
          "name": "stdout",
          "text": [
            "[CV] END C=2636.6508987303555, class_weight={0: 0.0, 1: 1.0}; total time=   0.3s\n"
          ]
        },
        {
          "output_type": "stream",
          "name": "stderr",
          "text": [
            "/usr/local/lib/python3.7/dist-packages/sklearn/linear_model/_sag.py:354: ConvergenceWarning: The max_iter was reached which means the coef_ did not converge\n",
            "  ConvergenceWarning,\n"
          ]
        },
        {
          "output_type": "stream",
          "name": "stdout",
          "text": [
            "[CV] END C=2636.6508987303555, class_weight={0: 0.0, 1: 1.0}; total time=   0.3s\n"
          ]
        },
        {
          "output_type": "stream",
          "name": "stderr",
          "text": [
            "/usr/local/lib/python3.7/dist-packages/sklearn/linear_model/_sag.py:354: ConvergenceWarning: The max_iter was reached which means the coef_ did not converge\n",
            "  ConvergenceWarning,\n"
          ]
        },
        {
          "output_type": "stream",
          "name": "stdout",
          "text": [
            "[CV] END C=2636.6508987303555, class_weight={0: 0.0, 1: 1.0}; total time=   0.3s\n"
          ]
        },
        {
          "output_type": "stream",
          "name": "stderr",
          "text": [
            "/usr/local/lib/python3.7/dist-packages/sklearn/linear_model/_sag.py:354: ConvergenceWarning: The max_iter was reached which means the coef_ did not converge\n",
            "  ConvergenceWarning,\n"
          ]
        },
        {
          "output_type": "stream",
          "name": "stdout",
          "text": [
            "[CV] END C=2636.6508987303555, class_weight={0: 0.0, 1: 1.0}; total time=   0.3s\n"
          ]
        },
        {
          "output_type": "stream",
          "name": "stderr",
          "text": [
            "/usr/local/lib/python3.7/dist-packages/sklearn/linear_model/_sag.py:354: ConvergenceWarning: The max_iter was reached which means the coef_ did not converge\n",
            "  ConvergenceWarning,\n"
          ]
        },
        {
          "output_type": "stream",
          "name": "stdout",
          "text": [
            "[CV] END C=2636.6508987303555, class_weight={0: 0.05555555555555555, 1: 0.9444444444444444}; total time=   0.3s\n"
          ]
        },
        {
          "output_type": "stream",
          "name": "stderr",
          "text": [
            "/usr/local/lib/python3.7/dist-packages/sklearn/linear_model/_sag.py:354: ConvergenceWarning: The max_iter was reached which means the coef_ did not converge\n",
            "  ConvergenceWarning,\n"
          ]
        },
        {
          "output_type": "stream",
          "name": "stdout",
          "text": [
            "[CV] END C=2636.6508987303555, class_weight={0: 0.05555555555555555, 1: 0.9444444444444444}; total time=   0.3s\n",
            "[CV] END C=2636.6508987303555, class_weight={0: 0.05555555555555555, 1: 0.9444444444444444}; total time=   0.2s\n",
            "[CV] END C=2636.6508987303555, class_weight={0: 0.05555555555555555, 1: 0.9444444444444444}; total time=   0.3s\n",
            "[CV] END C=2636.6508987303555, class_weight={0: 0.05555555555555555, 1: 0.9444444444444444}; total time=   0.3s\n",
            "[CV] END C=2636.6508987303555, class_weight={0: 0.1111111111111111, 1: 0.8888888888888888}; total time=   0.2s\n",
            "[CV] END C=2636.6508987303555, class_weight={0: 0.1111111111111111, 1: 0.8888888888888888}; total time=   0.2s\n",
            "[CV] END C=2636.6508987303555, class_weight={0: 0.1111111111111111, 1: 0.8888888888888888}; total time=   0.1s\n",
            "[CV] END C=2636.6508987303555, class_weight={0: 0.1111111111111111, 1: 0.8888888888888888}; total time=   0.2s\n",
            "[CV] END C=2636.6508987303555, class_weight={0: 0.1111111111111111, 1: 0.8888888888888888}; total time=   0.2s\n",
            "[CV] END C=2636.6508987303555, class_weight={0: 0.16666666666666666, 1: 0.8333333333333334}; total time=   0.2s\n",
            "[CV] END C=2636.6508987303555, class_weight={0: 0.16666666666666666, 1: 0.8333333333333334}; total time=   0.2s\n",
            "[CV] END C=2636.6508987303555, class_weight={0: 0.16666666666666666, 1: 0.8333333333333334}; total time=   0.1s\n",
            "[CV] END C=2636.6508987303555, class_weight={0: 0.16666666666666666, 1: 0.8333333333333334}; total time=   0.2s\n",
            "[CV] END C=2636.6508987303555, class_weight={0: 0.16666666666666666, 1: 0.8333333333333334}; total time=   0.2s\n",
            "[CV] END C=2636.6508987303555, class_weight={0: 0.2222222222222222, 1: 0.7777777777777778}; total time=   0.2s\n",
            "[CV] END C=2636.6508987303555, class_weight={0: 0.2222222222222222, 1: 0.7777777777777778}; total time=   0.2s\n",
            "[CV] END C=2636.6508987303555, class_weight={0: 0.2222222222222222, 1: 0.7777777777777778}; total time=   0.1s\n",
            "[CV] END C=2636.6508987303555, class_weight={0: 0.2222222222222222, 1: 0.7777777777777778}; total time=   0.2s\n",
            "[CV] END C=2636.6508987303555, class_weight={0: 0.2222222222222222, 1: 0.7777777777777778}; total time=   0.2s\n",
            "[CV] END C=2636.6508987303555, class_weight={0: 0.2777777777777778, 1: 0.7222222222222222}; total time=   0.2s\n",
            "[CV] END C=2636.6508987303555, class_weight={0: 0.2777777777777778, 1: 0.7222222222222222}; total time=   0.2s\n",
            "[CV] END C=2636.6508987303555, class_weight={0: 0.2777777777777778, 1: 0.7222222222222222}; total time=   0.1s\n",
            "[CV] END C=2636.6508987303555, class_weight={0: 0.2777777777777778, 1: 0.7222222222222222}; total time=   0.2s\n",
            "[CV] END C=2636.6508987303555, class_weight={0: 0.2777777777777778, 1: 0.7222222222222222}; total time=   0.2s\n",
            "[CV] END C=2636.6508987303555, class_weight={0: 0.3333333333333333, 1: 0.6666666666666667}; total time=   0.2s\n",
            "[CV] END C=2636.6508987303555, class_weight={0: 0.3333333333333333, 1: 0.6666666666666667}; total time=   0.2s\n",
            "[CV] END C=2636.6508987303555, class_weight={0: 0.3333333333333333, 1: 0.6666666666666667}; total time=   0.1s\n",
            "[CV] END C=2636.6508987303555, class_weight={0: 0.3333333333333333, 1: 0.6666666666666667}; total time=   0.2s\n",
            "[CV] END C=2636.6508987303555, class_weight={0: 0.3333333333333333, 1: 0.6666666666666667}; total time=   0.2s\n",
            "[CV] END C=2636.6508987303555, class_weight={0: 0.38888888888888884, 1: 0.6111111111111112}; total time=   0.2s\n",
            "[CV] END C=2636.6508987303555, class_weight={0: 0.38888888888888884, 1: 0.6111111111111112}; total time=   0.2s\n",
            "[CV] END C=2636.6508987303555, class_weight={0: 0.38888888888888884, 1: 0.6111111111111112}; total time=   0.1s\n",
            "[CV] END C=2636.6508987303555, class_weight={0: 0.38888888888888884, 1: 0.6111111111111112}; total time=   0.2s\n",
            "[CV] END C=2636.6508987303555, class_weight={0: 0.38888888888888884, 1: 0.6111111111111112}; total time=   0.2s\n",
            "[CV] END C=2636.6508987303555, class_weight={0: 0.4444444444444444, 1: 0.5555555555555556}; total time=   0.2s\n",
            "[CV] END C=2636.6508987303555, class_weight={0: 0.4444444444444444, 1: 0.5555555555555556}; total time=   0.2s\n",
            "[CV] END C=2636.6508987303555, class_weight={0: 0.4444444444444444, 1: 0.5555555555555556}; total time=   0.1s\n",
            "[CV] END C=2636.6508987303555, class_weight={0: 0.4444444444444444, 1: 0.5555555555555556}; total time=   0.2s\n",
            "[CV] END C=2636.6508987303555, class_weight={0: 0.4444444444444444, 1: 0.5555555555555556}; total time=   0.2s\n",
            "[CV] END C=2636.6508987303555, class_weight={0: 0.5, 1: 0.5}; total time=   0.2s\n",
            "[CV] END C=2636.6508987303555, class_weight={0: 0.5, 1: 0.5}; total time=   0.2s\n",
            "[CV] END C=2636.6508987303555, class_weight={0: 0.5, 1: 0.5}; total time=   0.1s\n",
            "[CV] END C=2636.6508987303555, class_weight={0: 0.5, 1: 0.5}; total time=   0.2s\n",
            "[CV] END C=2636.6508987303555, class_weight={0: 0.5, 1: 0.5}; total time=   0.2s\n"
          ]
        },
        {
          "output_type": "stream",
          "name": "stderr",
          "text": [
            "/usr/local/lib/python3.7/dist-packages/sklearn/linear_model/_sag.py:354: ConvergenceWarning: The max_iter was reached which means the coef_ did not converge\n",
            "  ConvergenceWarning,\n"
          ]
        },
        {
          "output_type": "stream",
          "name": "stdout",
          "text": [
            "[CV] END .C=8858.667904100832, class_weight={0: 0.0, 1: 1.0}; total time=   0.3s\n"
          ]
        },
        {
          "output_type": "stream",
          "name": "stderr",
          "text": [
            "/usr/local/lib/python3.7/dist-packages/sklearn/linear_model/_sag.py:354: ConvergenceWarning: The max_iter was reached which means the coef_ did not converge\n",
            "  ConvergenceWarning,\n"
          ]
        },
        {
          "output_type": "stream",
          "name": "stdout",
          "text": [
            "[CV] END .C=8858.667904100832, class_weight={0: 0.0, 1: 1.0}; total time=   0.3s\n"
          ]
        },
        {
          "output_type": "stream",
          "name": "stderr",
          "text": [
            "/usr/local/lib/python3.7/dist-packages/sklearn/linear_model/_sag.py:354: ConvergenceWarning: The max_iter was reached which means the coef_ did not converge\n",
            "  ConvergenceWarning,\n"
          ]
        },
        {
          "output_type": "stream",
          "name": "stdout",
          "text": [
            "[CV] END .C=8858.667904100832, class_weight={0: 0.0, 1: 1.0}; total time=   0.3s\n"
          ]
        },
        {
          "output_type": "stream",
          "name": "stderr",
          "text": [
            "/usr/local/lib/python3.7/dist-packages/sklearn/linear_model/_sag.py:354: ConvergenceWarning: The max_iter was reached which means the coef_ did not converge\n",
            "  ConvergenceWarning,\n"
          ]
        },
        {
          "output_type": "stream",
          "name": "stdout",
          "text": [
            "[CV] END .C=8858.667904100832, class_weight={0: 0.0, 1: 1.0}; total time=   0.3s\n"
          ]
        },
        {
          "output_type": "stream",
          "name": "stderr",
          "text": [
            "/usr/local/lib/python3.7/dist-packages/sklearn/linear_model/_sag.py:354: ConvergenceWarning: The max_iter was reached which means the coef_ did not converge\n",
            "  ConvergenceWarning,\n"
          ]
        },
        {
          "output_type": "stream",
          "name": "stdout",
          "text": [
            "[CV] END .C=8858.667904100832, class_weight={0: 0.0, 1: 1.0}; total time=   0.3s\n"
          ]
        },
        {
          "output_type": "stream",
          "name": "stderr",
          "text": [
            "/usr/local/lib/python3.7/dist-packages/sklearn/linear_model/_sag.py:354: ConvergenceWarning: The max_iter was reached which means the coef_ did not converge\n",
            "  ConvergenceWarning,\n"
          ]
        },
        {
          "output_type": "stream",
          "name": "stdout",
          "text": [
            "[CV] END C=8858.667904100832, class_weight={0: 0.05555555555555555, 1: 0.9444444444444444}; total time=   0.3s\n"
          ]
        },
        {
          "output_type": "stream",
          "name": "stderr",
          "text": [
            "/usr/local/lib/python3.7/dist-packages/sklearn/linear_model/_sag.py:354: ConvergenceWarning: The max_iter was reached which means the coef_ did not converge\n",
            "  ConvergenceWarning,\n"
          ]
        },
        {
          "output_type": "stream",
          "name": "stdout",
          "text": [
            "[CV] END C=8858.667904100832, class_weight={0: 0.05555555555555555, 1: 0.9444444444444444}; total time=   0.3s\n",
            "[CV] END C=8858.667904100832, class_weight={0: 0.05555555555555555, 1: 0.9444444444444444}; total time=   0.2s\n",
            "[CV] END C=8858.667904100832, class_weight={0: 0.05555555555555555, 1: 0.9444444444444444}; total time=   0.3s\n",
            "[CV] END C=8858.667904100832, class_weight={0: 0.05555555555555555, 1: 0.9444444444444444}; total time=   0.3s\n",
            "[CV] END C=8858.667904100832, class_weight={0: 0.1111111111111111, 1: 0.8888888888888888}; total time=   0.2s\n",
            "[CV] END C=8858.667904100832, class_weight={0: 0.1111111111111111, 1: 0.8888888888888888}; total time=   0.2s\n",
            "[CV] END C=8858.667904100832, class_weight={0: 0.1111111111111111, 1: 0.8888888888888888}; total time=   0.1s\n",
            "[CV] END C=8858.667904100832, class_weight={0: 0.1111111111111111, 1: 0.8888888888888888}; total time=   0.2s\n",
            "[CV] END C=8858.667904100832, class_weight={0: 0.1111111111111111, 1: 0.8888888888888888}; total time=   0.2s\n",
            "[CV] END C=8858.667904100832, class_weight={0: 0.16666666666666666, 1: 0.8333333333333334}; total time=   0.2s\n",
            "[CV] END C=8858.667904100832, class_weight={0: 0.16666666666666666, 1: 0.8333333333333334}; total time=   0.2s\n",
            "[CV] END C=8858.667904100832, class_weight={0: 0.16666666666666666, 1: 0.8333333333333334}; total time=   0.1s\n",
            "[CV] END C=8858.667904100832, class_weight={0: 0.16666666666666666, 1: 0.8333333333333334}; total time=   0.2s\n",
            "[CV] END C=8858.667904100832, class_weight={0: 0.16666666666666666, 1: 0.8333333333333334}; total time=   0.2s\n",
            "[CV] END C=8858.667904100832, class_weight={0: 0.2222222222222222, 1: 0.7777777777777778}; total time=   0.2s\n",
            "[CV] END C=8858.667904100832, class_weight={0: 0.2222222222222222, 1: 0.7777777777777778}; total time=   0.2s\n",
            "[CV] END C=8858.667904100832, class_weight={0: 0.2222222222222222, 1: 0.7777777777777778}; total time=   0.1s\n",
            "[CV] END C=8858.667904100832, class_weight={0: 0.2222222222222222, 1: 0.7777777777777778}; total time=   0.2s\n",
            "[CV] END C=8858.667904100832, class_weight={0: 0.2222222222222222, 1: 0.7777777777777778}; total time=   0.2s\n",
            "[CV] END C=8858.667904100832, class_weight={0: 0.2777777777777778, 1: 0.7222222222222222}; total time=   0.2s\n",
            "[CV] END C=8858.667904100832, class_weight={0: 0.2777777777777778, 1: 0.7222222222222222}; total time=   0.2s\n",
            "[CV] END C=8858.667904100832, class_weight={0: 0.2777777777777778, 1: 0.7222222222222222}; total time=   0.1s\n",
            "[CV] END C=8858.667904100832, class_weight={0: 0.2777777777777778, 1: 0.7222222222222222}; total time=   0.2s\n",
            "[CV] END C=8858.667904100832, class_weight={0: 0.2777777777777778, 1: 0.7222222222222222}; total time=   0.2s\n",
            "[CV] END C=8858.667904100832, class_weight={0: 0.3333333333333333, 1: 0.6666666666666667}; total time=   0.2s\n",
            "[CV] END C=8858.667904100832, class_weight={0: 0.3333333333333333, 1: 0.6666666666666667}; total time=   0.2s\n",
            "[CV] END C=8858.667904100832, class_weight={0: 0.3333333333333333, 1: 0.6666666666666667}; total time=   0.1s\n",
            "[CV] END C=8858.667904100832, class_weight={0: 0.3333333333333333, 1: 0.6666666666666667}; total time=   0.2s\n",
            "[CV] END C=8858.667904100832, class_weight={0: 0.3333333333333333, 1: 0.6666666666666667}; total time=   0.2s\n",
            "[CV] END C=8858.667904100832, class_weight={0: 0.38888888888888884, 1: 0.6111111111111112}; total time=   0.2s\n",
            "[CV] END C=8858.667904100832, class_weight={0: 0.38888888888888884, 1: 0.6111111111111112}; total time=   0.2s\n",
            "[CV] END C=8858.667904100832, class_weight={0: 0.38888888888888884, 1: 0.6111111111111112}; total time=   0.1s\n",
            "[CV] END C=8858.667904100832, class_weight={0: 0.38888888888888884, 1: 0.6111111111111112}; total time=   0.2s\n",
            "[CV] END C=8858.667904100832, class_weight={0: 0.38888888888888884, 1: 0.6111111111111112}; total time=   0.2s\n",
            "[CV] END C=8858.667904100832, class_weight={0: 0.4444444444444444, 1: 0.5555555555555556}; total time=   0.2s\n",
            "[CV] END C=8858.667904100832, class_weight={0: 0.4444444444444444, 1: 0.5555555555555556}; total time=   0.2s\n",
            "[CV] END C=8858.667904100832, class_weight={0: 0.4444444444444444, 1: 0.5555555555555556}; total time=   0.1s\n",
            "[CV] END C=8858.667904100832, class_weight={0: 0.4444444444444444, 1: 0.5555555555555556}; total time=   0.2s\n",
            "[CV] END C=8858.667904100832, class_weight={0: 0.4444444444444444, 1: 0.5555555555555556}; total time=   0.2s\n",
            "[CV] END .C=8858.667904100832, class_weight={0: 0.5, 1: 0.5}; total time=   0.2s\n",
            "[CV] END .C=8858.667904100832, class_weight={0: 0.5, 1: 0.5}; total time=   0.2s\n",
            "[CV] END .C=8858.667904100832, class_weight={0: 0.5, 1: 0.5}; total time=   0.1s\n",
            "[CV] END .C=8858.667904100832, class_weight={0: 0.5, 1: 0.5}; total time=   0.2s\n",
            "[CV] END .C=8858.667904100832, class_weight={0: 0.5, 1: 0.5}; total time=   0.2s\n"
          ]
        },
        {
          "output_type": "stream",
          "name": "stderr",
          "text": [
            "/usr/local/lib/python3.7/dist-packages/sklearn/linear_model/_sag.py:354: ConvergenceWarning: The max_iter was reached which means the coef_ did not converge\n",
            "  ConvergenceWarning,\n"
          ]
        },
        {
          "output_type": "stream",
          "name": "stdout",
          "text": [
            "[CV] END .C=29763.51441631313, class_weight={0: 0.0, 1: 1.0}; total time=   0.3s\n"
          ]
        },
        {
          "output_type": "stream",
          "name": "stderr",
          "text": [
            "/usr/local/lib/python3.7/dist-packages/sklearn/linear_model/_sag.py:354: ConvergenceWarning: The max_iter was reached which means the coef_ did not converge\n",
            "  ConvergenceWarning,\n"
          ]
        },
        {
          "output_type": "stream",
          "name": "stdout",
          "text": [
            "[CV] END .C=29763.51441631313, class_weight={0: 0.0, 1: 1.0}; total time=   0.3s\n"
          ]
        },
        {
          "output_type": "stream",
          "name": "stderr",
          "text": [
            "/usr/local/lib/python3.7/dist-packages/sklearn/linear_model/_sag.py:354: ConvergenceWarning: The max_iter was reached which means the coef_ did not converge\n",
            "  ConvergenceWarning,\n"
          ]
        },
        {
          "output_type": "stream",
          "name": "stdout",
          "text": [
            "[CV] END .C=29763.51441631313, class_weight={0: 0.0, 1: 1.0}; total time=   0.3s\n"
          ]
        },
        {
          "output_type": "stream",
          "name": "stderr",
          "text": [
            "/usr/local/lib/python3.7/dist-packages/sklearn/linear_model/_sag.py:354: ConvergenceWarning: The max_iter was reached which means the coef_ did not converge\n",
            "  ConvergenceWarning,\n"
          ]
        },
        {
          "output_type": "stream",
          "name": "stdout",
          "text": [
            "[CV] END .C=29763.51441631313, class_weight={0: 0.0, 1: 1.0}; total time=   0.3s\n"
          ]
        },
        {
          "output_type": "stream",
          "name": "stderr",
          "text": [
            "/usr/local/lib/python3.7/dist-packages/sklearn/linear_model/_sag.py:354: ConvergenceWarning: The max_iter was reached which means the coef_ did not converge\n",
            "  ConvergenceWarning,\n"
          ]
        },
        {
          "output_type": "stream",
          "name": "stdout",
          "text": [
            "[CV] END .C=29763.51441631313, class_weight={0: 0.0, 1: 1.0}; total time=   0.3s\n",
            "[CV] END C=29763.51441631313, class_weight={0: 0.05555555555555555, 1: 0.9444444444444444}; total time=   0.3s\n"
          ]
        },
        {
          "output_type": "stream",
          "name": "stderr",
          "text": [
            "/usr/local/lib/python3.7/dist-packages/sklearn/linear_model/_sag.py:354: ConvergenceWarning: The max_iter was reached which means the coef_ did not converge\n",
            "  ConvergenceWarning,\n"
          ]
        },
        {
          "output_type": "stream",
          "name": "stdout",
          "text": [
            "[CV] END C=29763.51441631313, class_weight={0: 0.05555555555555555, 1: 0.9444444444444444}; total time=   0.3s\n",
            "[CV] END C=29763.51441631313, class_weight={0: 0.05555555555555555, 1: 0.9444444444444444}; total time=   0.2s\n",
            "[CV] END C=29763.51441631313, class_weight={0: 0.05555555555555555, 1: 0.9444444444444444}; total time=   0.3s\n",
            "[CV] END C=29763.51441631313, class_weight={0: 0.05555555555555555, 1: 0.9444444444444444}; total time=   0.3s\n",
            "[CV] END C=29763.51441631313, class_weight={0: 0.1111111111111111, 1: 0.8888888888888888}; total time=   0.2s\n",
            "[CV] END C=29763.51441631313, class_weight={0: 0.1111111111111111, 1: 0.8888888888888888}; total time=   0.2s\n",
            "[CV] END C=29763.51441631313, class_weight={0: 0.1111111111111111, 1: 0.8888888888888888}; total time=   0.2s\n",
            "[CV] END C=29763.51441631313, class_weight={0: 0.1111111111111111, 1: 0.8888888888888888}; total time=   0.2s\n",
            "[CV] END C=29763.51441631313, class_weight={0: 0.1111111111111111, 1: 0.8888888888888888}; total time=   0.2s\n",
            "[CV] END C=29763.51441631313, class_weight={0: 0.16666666666666666, 1: 0.8333333333333334}; total time=   0.2s\n",
            "[CV] END C=29763.51441631313, class_weight={0: 0.16666666666666666, 1: 0.8333333333333334}; total time=   0.2s\n",
            "[CV] END C=29763.51441631313, class_weight={0: 0.16666666666666666, 1: 0.8333333333333334}; total time=   0.1s\n",
            "[CV] END C=29763.51441631313, class_weight={0: 0.16666666666666666, 1: 0.8333333333333334}; total time=   0.2s\n",
            "[CV] END C=29763.51441631313, class_weight={0: 0.16666666666666666, 1: 0.8333333333333334}; total time=   0.2s\n",
            "[CV] END C=29763.51441631313, class_weight={0: 0.2222222222222222, 1: 0.7777777777777778}; total time=   0.2s\n",
            "[CV] END C=29763.51441631313, class_weight={0: 0.2222222222222222, 1: 0.7777777777777778}; total time=   0.2s\n",
            "[CV] END C=29763.51441631313, class_weight={0: 0.2222222222222222, 1: 0.7777777777777778}; total time=   0.1s\n",
            "[CV] END C=29763.51441631313, class_weight={0: 0.2222222222222222, 1: 0.7777777777777778}; total time=   0.2s\n",
            "[CV] END C=29763.51441631313, class_weight={0: 0.2222222222222222, 1: 0.7777777777777778}; total time=   0.2s\n",
            "[CV] END C=29763.51441631313, class_weight={0: 0.2777777777777778, 1: 0.7222222222222222}; total time=   0.2s\n",
            "[CV] END C=29763.51441631313, class_weight={0: 0.2777777777777778, 1: 0.7222222222222222}; total time=   0.2s\n",
            "[CV] END C=29763.51441631313, class_weight={0: 0.2777777777777778, 1: 0.7222222222222222}; total time=   0.1s\n",
            "[CV] END C=29763.51441631313, class_weight={0: 0.2777777777777778, 1: 0.7222222222222222}; total time=   0.2s\n",
            "[CV] END C=29763.51441631313, class_weight={0: 0.2777777777777778, 1: 0.7222222222222222}; total time=   0.2s\n",
            "[CV] END C=29763.51441631313, class_weight={0: 0.3333333333333333, 1: 0.6666666666666667}; total time=   0.2s\n",
            "[CV] END C=29763.51441631313, class_weight={0: 0.3333333333333333, 1: 0.6666666666666667}; total time=   0.2s\n",
            "[CV] END C=29763.51441631313, class_weight={0: 0.3333333333333333, 1: 0.6666666666666667}; total time=   0.1s\n",
            "[CV] END C=29763.51441631313, class_weight={0: 0.3333333333333333, 1: 0.6666666666666667}; total time=   0.2s\n",
            "[CV] END C=29763.51441631313, class_weight={0: 0.3333333333333333, 1: 0.6666666666666667}; total time=   0.2s\n",
            "[CV] END C=29763.51441631313, class_weight={0: 0.38888888888888884, 1: 0.6111111111111112}; total time=   0.2s\n",
            "[CV] END C=29763.51441631313, class_weight={0: 0.38888888888888884, 1: 0.6111111111111112}; total time=   0.2s\n",
            "[CV] END C=29763.51441631313, class_weight={0: 0.38888888888888884, 1: 0.6111111111111112}; total time=   0.1s\n",
            "[CV] END C=29763.51441631313, class_weight={0: 0.38888888888888884, 1: 0.6111111111111112}; total time=   0.2s\n",
            "[CV] END C=29763.51441631313, class_weight={0: 0.38888888888888884, 1: 0.6111111111111112}; total time=   0.2s\n",
            "[CV] END C=29763.51441631313, class_weight={0: 0.4444444444444444, 1: 0.5555555555555556}; total time=   0.2s\n",
            "[CV] END C=29763.51441631313, class_weight={0: 0.4444444444444444, 1: 0.5555555555555556}; total time=   0.2s\n",
            "[CV] END C=29763.51441631313, class_weight={0: 0.4444444444444444, 1: 0.5555555555555556}; total time=   0.1s\n",
            "[CV] END C=29763.51441631313, class_weight={0: 0.4444444444444444, 1: 0.5555555555555556}; total time=   0.2s\n",
            "[CV] END C=29763.51441631313, class_weight={0: 0.4444444444444444, 1: 0.5555555555555556}; total time=   0.2s\n",
            "[CV] END .C=29763.51441631313, class_weight={0: 0.5, 1: 0.5}; total time=   0.2s\n",
            "[CV] END .C=29763.51441631313, class_weight={0: 0.5, 1: 0.5}; total time=   0.2s\n",
            "[CV] END .C=29763.51441631313, class_weight={0: 0.5, 1: 0.5}; total time=   0.1s\n",
            "[CV] END .C=29763.51441631313, class_weight={0: 0.5, 1: 0.5}; total time=   0.2s\n",
            "[CV] END .C=29763.51441631313, class_weight={0: 0.5, 1: 0.5}; total time=   0.2s\n"
          ]
        },
        {
          "output_type": "stream",
          "name": "stderr",
          "text": [
            "/usr/local/lib/python3.7/dist-packages/sklearn/linear_model/_sag.py:354: ConvergenceWarning: The max_iter was reached which means the coef_ did not converge\n",
            "  ConvergenceWarning,\n"
          ]
        },
        {
          "output_type": "stream",
          "name": "stdout",
          "text": [
            "[CV] END ..........C=100000.0, class_weight={0: 0.0, 1: 1.0}; total time=   0.3s\n"
          ]
        },
        {
          "output_type": "stream",
          "name": "stderr",
          "text": [
            "/usr/local/lib/python3.7/dist-packages/sklearn/linear_model/_sag.py:354: ConvergenceWarning: The max_iter was reached which means the coef_ did not converge\n",
            "  ConvergenceWarning,\n"
          ]
        },
        {
          "output_type": "stream",
          "name": "stdout",
          "text": [
            "[CV] END ..........C=100000.0, class_weight={0: 0.0, 1: 1.0}; total time=   0.3s\n"
          ]
        },
        {
          "output_type": "stream",
          "name": "stderr",
          "text": [
            "/usr/local/lib/python3.7/dist-packages/sklearn/linear_model/_sag.py:354: ConvergenceWarning: The max_iter was reached which means the coef_ did not converge\n",
            "  ConvergenceWarning,\n"
          ]
        },
        {
          "output_type": "stream",
          "name": "stdout",
          "text": [
            "[CV] END ..........C=100000.0, class_weight={0: 0.0, 1: 1.0}; total time=   0.3s\n"
          ]
        },
        {
          "output_type": "stream",
          "name": "stderr",
          "text": [
            "/usr/local/lib/python3.7/dist-packages/sklearn/linear_model/_sag.py:354: ConvergenceWarning: The max_iter was reached which means the coef_ did not converge\n",
            "  ConvergenceWarning,\n"
          ]
        },
        {
          "output_type": "stream",
          "name": "stdout",
          "text": [
            "[CV] END ..........C=100000.0, class_weight={0: 0.0, 1: 1.0}; total time=   0.3s\n"
          ]
        },
        {
          "output_type": "stream",
          "name": "stderr",
          "text": [
            "/usr/local/lib/python3.7/dist-packages/sklearn/linear_model/_sag.py:354: ConvergenceWarning: The max_iter was reached which means the coef_ did not converge\n",
            "  ConvergenceWarning,\n"
          ]
        },
        {
          "output_type": "stream",
          "name": "stdout",
          "text": [
            "[CV] END ..........C=100000.0, class_weight={0: 0.0, 1: 1.0}; total time=   0.3s\n",
            "[CV] END C=100000.0, class_weight={0: 0.05555555555555555, 1: 0.9444444444444444}; total time=   0.3s\n"
          ]
        },
        {
          "output_type": "stream",
          "name": "stderr",
          "text": [
            "/usr/local/lib/python3.7/dist-packages/sklearn/linear_model/_sag.py:354: ConvergenceWarning: The max_iter was reached which means the coef_ did not converge\n",
            "  ConvergenceWarning,\n"
          ]
        },
        {
          "output_type": "stream",
          "name": "stdout",
          "text": [
            "[CV] END C=100000.0, class_weight={0: 0.05555555555555555, 1: 0.9444444444444444}; total time=   0.3s\n",
            "[CV] END C=100000.0, class_weight={0: 0.05555555555555555, 1: 0.9444444444444444}; total time=   0.2s\n",
            "[CV] END C=100000.0, class_weight={0: 0.05555555555555555, 1: 0.9444444444444444}; total time=   0.3s\n",
            "[CV] END C=100000.0, class_weight={0: 0.05555555555555555, 1: 0.9444444444444444}; total time=   0.3s\n",
            "[CV] END C=100000.0, class_weight={0: 0.1111111111111111, 1: 0.8888888888888888}; total time=   0.3s\n",
            "[CV] END C=100000.0, class_weight={0: 0.1111111111111111, 1: 0.8888888888888888}; total time=   0.2s\n",
            "[CV] END C=100000.0, class_weight={0: 0.1111111111111111, 1: 0.8888888888888888}; total time=   0.1s\n",
            "[CV] END C=100000.0, class_weight={0: 0.1111111111111111, 1: 0.8888888888888888}; total time=   0.2s\n",
            "[CV] END C=100000.0, class_weight={0: 0.1111111111111111, 1: 0.8888888888888888}; total time=   0.2s\n",
            "[CV] END C=100000.0, class_weight={0: 0.16666666666666666, 1: 0.8333333333333334}; total time=   0.2s\n",
            "[CV] END C=100000.0, class_weight={0: 0.16666666666666666, 1: 0.8333333333333334}; total time=   0.2s\n",
            "[CV] END C=100000.0, class_weight={0: 0.16666666666666666, 1: 0.8333333333333334}; total time=   0.1s\n",
            "[CV] END C=100000.0, class_weight={0: 0.16666666666666666, 1: 0.8333333333333334}; total time=   0.2s\n",
            "[CV] END C=100000.0, class_weight={0: 0.16666666666666666, 1: 0.8333333333333334}; total time=   0.2s\n",
            "[CV] END C=100000.0, class_weight={0: 0.2222222222222222, 1: 0.7777777777777778}; total time=   0.2s\n",
            "[CV] END C=100000.0, class_weight={0: 0.2222222222222222, 1: 0.7777777777777778}; total time=   0.2s\n",
            "[CV] END C=100000.0, class_weight={0: 0.2222222222222222, 1: 0.7777777777777778}; total time=   0.1s\n",
            "[CV] END C=100000.0, class_weight={0: 0.2222222222222222, 1: 0.7777777777777778}; total time=   0.2s\n",
            "[CV] END C=100000.0, class_weight={0: 0.2222222222222222, 1: 0.7777777777777778}; total time=   0.2s\n",
            "[CV] END C=100000.0, class_weight={0: 0.2777777777777778, 1: 0.7222222222222222}; total time=   0.2s\n",
            "[CV] END C=100000.0, class_weight={0: 0.2777777777777778, 1: 0.7222222222222222}; total time=   0.2s\n",
            "[CV] END C=100000.0, class_weight={0: 0.2777777777777778, 1: 0.7222222222222222}; total time=   0.1s\n",
            "[CV] END C=100000.0, class_weight={0: 0.2777777777777778, 1: 0.7222222222222222}; total time=   0.2s\n",
            "[CV] END C=100000.0, class_weight={0: 0.2777777777777778, 1: 0.7222222222222222}; total time=   0.2s\n",
            "[CV] END C=100000.0, class_weight={0: 0.3333333333333333, 1: 0.6666666666666667}; total time=   0.2s\n",
            "[CV] END C=100000.0, class_weight={0: 0.3333333333333333, 1: 0.6666666666666667}; total time=   0.2s\n",
            "[CV] END C=100000.0, class_weight={0: 0.3333333333333333, 1: 0.6666666666666667}; total time=   0.1s\n",
            "[CV] END C=100000.0, class_weight={0: 0.3333333333333333, 1: 0.6666666666666667}; total time=   0.2s\n",
            "[CV] END C=100000.0, class_weight={0: 0.3333333333333333, 1: 0.6666666666666667}; total time=   0.2s\n",
            "[CV] END C=100000.0, class_weight={0: 0.38888888888888884, 1: 0.6111111111111112}; total time=   0.2s\n",
            "[CV] END C=100000.0, class_weight={0: 0.38888888888888884, 1: 0.6111111111111112}; total time=   0.2s\n",
            "[CV] END C=100000.0, class_weight={0: 0.38888888888888884, 1: 0.6111111111111112}; total time=   0.1s\n",
            "[CV] END C=100000.0, class_weight={0: 0.38888888888888884, 1: 0.6111111111111112}; total time=   0.2s\n",
            "[CV] END C=100000.0, class_weight={0: 0.38888888888888884, 1: 0.6111111111111112}; total time=   0.2s\n",
            "[CV] END C=100000.0, class_weight={0: 0.4444444444444444, 1: 0.5555555555555556}; total time=   0.2s\n",
            "[CV] END C=100000.0, class_weight={0: 0.4444444444444444, 1: 0.5555555555555556}; total time=   0.2s\n",
            "[CV] END C=100000.0, class_weight={0: 0.4444444444444444, 1: 0.5555555555555556}; total time=   0.1s\n",
            "[CV] END C=100000.0, class_weight={0: 0.4444444444444444, 1: 0.5555555555555556}; total time=   0.2s\n",
            "[CV] END C=100000.0, class_weight={0: 0.4444444444444444, 1: 0.5555555555555556}; total time=   0.2s\n",
            "[CV] END ..........C=100000.0, class_weight={0: 0.5, 1: 0.5}; total time=   0.2s\n",
            "[CV] END ..........C=100000.0, class_weight={0: 0.5, 1: 0.5}; total time=   0.2s\n",
            "[CV] END ..........C=100000.0, class_weight={0: 0.5, 1: 0.5}; total time=   0.1s\n",
            "[CV] END ..........C=100000.0, class_weight={0: 0.5, 1: 0.5}; total time=   0.2s\n",
            "[CV] END ..........C=100000.0, class_weight={0: 0.5, 1: 0.5}; total time=   0.2s\n"
          ]
        }
      ]
    },
    {
      "cell_type": "code",
      "source": [
        "CV_data = pd.DataFrame({ 'score': gridsearch.cv_results_['mean_test_score'],'param': gridsearch.cv_results_['params']})\n",
        "CV_data = CV_data.sort_values('score',ascending=False)\n",
        "print(f'Best f1 score for class 1 is {CV_data.iloc[0][0]:.2f}')\n",
        "print(f'Best hypterparameters are {CV_data.iloc[0][1]}')"
      ],
      "metadata": {
        "colab": {
          "base_uri": "https://localhost:8080/"
        },
        "id": "qL21h1cu29nw",
        "outputId": "ea073960-6b05-4293-efde-3e47327d4941"
      },
      "execution_count": null,
      "outputs": [
        {
          "output_type": "stream",
          "name": "stdout",
          "text": [
            "Best f1 score for class 1 is 0.35\n",
            "Best hypterparameters are {'C': 0.5455594781168515, 'class_weight': {0: 0.16666666666666666, 1: 0.8333333333333334}}\n"
          ]
        }
      ]
    },
    {
      "cell_type": "code",
      "source": [
        "final_lr_model = gridsearch.best_estimator_\n",
        "final_lr_model.get_params()\n",
        "train_pred = final_lr_model.predict(X_train)\n",
        "y_pred = final_lr_model.predict(X_test)\n",
        "# compare performance on train data and val data, no overfitting found.\n",
        "print(classification_report(train_pred,y_train))\n",
        "print(classification_report(y_pred,y_test))\n",
        "print('Training set confusion matrix:')\n",
        "print(confusion_matrix(y_train,train_pred))\n",
        "print('Testing set confusion matrix:')\n",
        "print(confusion_matrix(y_test,y_pred))"
      ],
      "metadata": {
        "colab": {
          "base_uri": "https://localhost:8080/"
        },
        "id": "GCQhdvhE3OVn",
        "outputId": "ebfb673a-d2e4-4445-9b79-7e331e017a70"
      },
      "execution_count": null,
      "outputs": [
        {
          "output_type": "stream",
          "name": "stdout",
          "text": [
            "              precision    recall  f1-score   support\n",
            "\n",
            "           0       0.68      0.89      0.77      5487\n",
            "           1       0.57      0.25      0.35      3133\n",
            "\n",
            "    accuracy                           0.66      8620\n",
            "   macro avg       0.62      0.57      0.56      8620\n",
            "weighted avg       0.64      0.66      0.62      8620\n",
            "\n",
            "              precision    recall  f1-score   support\n",
            "\n",
            "           0       0.69      0.90      0.78       626\n",
            "           1       0.55      0.23      0.33       332\n",
            "\n",
            "    accuracy                           0.67       958\n",
            "   macro avg       0.62      0.57      0.55       958\n",
            "weighted avg       0.64      0.67      0.62       958\n",
            "\n",
            "Training set confusion matrix:\n",
            "[[4892 2337]\n",
            " [ 595  796]]\n",
            "Testing set confusion matrix:\n",
            "[[562 254]\n",
            " [ 64  78]]\n"
          ]
        }
      ]
    },
    {
      "cell_type": "code",
      "source": [
        "lr_coef=pd.DataFrame(final_lr_model.coef_, columns=X.columns)"
      ],
      "metadata": {
        "id": "9-LvKJaD7XEz"
      },
      "execution_count": null,
      "outputs": []
    },
    {
      "cell_type": "code",
      "source": [
        "lr_coef.T"
      ],
      "metadata": {
        "colab": {
          "base_uri": "https://localhost:8080/",
          "height": 614
        },
        "id": "Jcwsqkiu9dB9",
        "outputId": "d1ec9927-13c3-4873-b11e-083dcf353fe0"
      },
      "execution_count": null,
      "outputs": [
        {
          "output_type": "execute_result",
          "data": {
            "text/html": [
              "\n",
              "  <div id=\"df-677e59c6-1927-4236-8cff-7f1892518694\">\n",
              "    <div class=\"colab-df-container\">\n",
              "      <div>\n",
              "<style scoped>\n",
              "    .dataframe tbody tr th:only-of-type {\n",
              "        vertical-align: middle;\n",
              "    }\n",
              "\n",
              "    .dataframe tbody tr th {\n",
              "        vertical-align: top;\n",
              "    }\n",
              "\n",
              "    .dataframe thead th {\n",
              "        text-align: right;\n",
              "    }\n",
              "</style>\n",
              "<table border=\"1\" class=\"dataframe\">\n",
              "  <thead>\n",
              "    <tr style=\"text-align: right;\">\n",
              "      <th></th>\n",
              "      <th>0</th>\n",
              "    </tr>\n",
              "  </thead>\n",
              "  <tbody>\n",
              "    <tr>\n",
              "      <th>credit.policy</th>\n",
              "      <td>-0.117425</td>\n",
              "    </tr>\n",
              "    <tr>\n",
              "      <th>int.rate</th>\n",
              "      <td>0.063172</td>\n",
              "    </tr>\n",
              "    <tr>\n",
              "      <th>installment</th>\n",
              "      <td>0.234738</td>\n",
              "    </tr>\n",
              "    <tr>\n",
              "      <th>log.annual.inc</th>\n",
              "      <td>-0.255390</td>\n",
              "    </tr>\n",
              "    <tr>\n",
              "      <th>dti</th>\n",
              "      <td>-0.022572</td>\n",
              "    </tr>\n",
              "    <tr>\n",
              "      <th>fico</th>\n",
              "      <td>-0.341067</td>\n",
              "    </tr>\n",
              "    <tr>\n",
              "      <th>days.with.cr.line</th>\n",
              "      <td>0.046676</td>\n",
              "    </tr>\n",
              "    <tr>\n",
              "      <th>revol.bal</th>\n",
              "      <td>0.109244</td>\n",
              "    </tr>\n",
              "    <tr>\n",
              "      <th>revol.util</th>\n",
              "      <td>0.075585</td>\n",
              "    </tr>\n",
              "    <tr>\n",
              "      <th>inq.last.6mths</th>\n",
              "      <td>0.238005</td>\n",
              "    </tr>\n",
              "    <tr>\n",
              "      <th>delinq.2yrs</th>\n",
              "      <td>-0.042917</td>\n",
              "    </tr>\n",
              "    <tr>\n",
              "      <th>pub.rec</th>\n",
              "      <td>0.045375</td>\n",
              "    </tr>\n",
              "    <tr>\n",
              "      <th>purpose_credit_card</th>\n",
              "      <td>-0.183343</td>\n",
              "    </tr>\n",
              "    <tr>\n",
              "      <th>purpose_debt_consolidation</th>\n",
              "      <td>-0.161954</td>\n",
              "    </tr>\n",
              "    <tr>\n",
              "      <th>purpose_educational</th>\n",
              "      <td>0.000000</td>\n",
              "    </tr>\n",
              "    <tr>\n",
              "      <th>purpose_home_improvement</th>\n",
              "      <td>0.007960</td>\n",
              "    </tr>\n",
              "    <tr>\n",
              "      <th>purpose_major_purchase</th>\n",
              "      <td>-0.065951</td>\n",
              "    </tr>\n",
              "    <tr>\n",
              "      <th>purpose_small_business</th>\n",
              "      <td>0.138019</td>\n",
              "    </tr>\n",
              "  </tbody>\n",
              "</table>\n",
              "</div>\n",
              "      <button class=\"colab-df-convert\" onclick=\"convertToInteractive('df-677e59c6-1927-4236-8cff-7f1892518694')\"\n",
              "              title=\"Convert this dataframe to an interactive table.\"\n",
              "              style=\"display:none;\">\n",
              "        \n",
              "  <svg xmlns=\"http://www.w3.org/2000/svg\" height=\"24px\"viewBox=\"0 0 24 24\"\n",
              "       width=\"24px\">\n",
              "    <path d=\"M0 0h24v24H0V0z\" fill=\"none\"/>\n",
              "    <path d=\"M18.56 5.44l.94 2.06.94-2.06 2.06-.94-2.06-.94-.94-2.06-.94 2.06-2.06.94zm-11 1L8.5 8.5l.94-2.06 2.06-.94-2.06-.94L8.5 2.5l-.94 2.06-2.06.94zm10 10l.94 2.06.94-2.06 2.06-.94-2.06-.94-.94-2.06-.94 2.06-2.06.94z\"/><path d=\"M17.41 7.96l-1.37-1.37c-.4-.4-.92-.59-1.43-.59-.52 0-1.04.2-1.43.59L10.3 9.45l-7.72 7.72c-.78.78-.78 2.05 0 2.83L4 21.41c.39.39.9.59 1.41.59.51 0 1.02-.2 1.41-.59l7.78-7.78 2.81-2.81c.8-.78.8-2.07 0-2.86zM5.41 20L4 18.59l7.72-7.72 1.47 1.35L5.41 20z\"/>\n",
              "  </svg>\n",
              "      </button>\n",
              "      \n",
              "  <style>\n",
              "    .colab-df-container {\n",
              "      display:flex;\n",
              "      flex-wrap:wrap;\n",
              "      gap: 12px;\n",
              "    }\n",
              "\n",
              "    .colab-df-convert {\n",
              "      background-color: #E8F0FE;\n",
              "      border: none;\n",
              "      border-radius: 50%;\n",
              "      cursor: pointer;\n",
              "      display: none;\n",
              "      fill: #1967D2;\n",
              "      height: 32px;\n",
              "      padding: 0 0 0 0;\n",
              "      width: 32px;\n",
              "    }\n",
              "\n",
              "    .colab-df-convert:hover {\n",
              "      background-color: #E2EBFA;\n",
              "      box-shadow: 0px 1px 2px rgba(60, 64, 67, 0.3), 0px 1px 3px 1px rgba(60, 64, 67, 0.15);\n",
              "      fill: #174EA6;\n",
              "    }\n",
              "\n",
              "    [theme=dark] .colab-df-convert {\n",
              "      background-color: #3B4455;\n",
              "      fill: #D2E3FC;\n",
              "    }\n",
              "\n",
              "    [theme=dark] .colab-df-convert:hover {\n",
              "      background-color: #434B5C;\n",
              "      box-shadow: 0px 1px 3px 1px rgba(0, 0, 0, 0.15);\n",
              "      filter: drop-shadow(0px 1px 2px rgba(0, 0, 0, 0.3));\n",
              "      fill: #FFFFFF;\n",
              "    }\n",
              "  </style>\n",
              "\n",
              "      <script>\n",
              "        const buttonEl =\n",
              "          document.querySelector('#df-677e59c6-1927-4236-8cff-7f1892518694 button.colab-df-convert');\n",
              "        buttonEl.style.display =\n",
              "          google.colab.kernel.accessAllowed ? 'block' : 'none';\n",
              "\n",
              "        async function convertToInteractive(key) {\n",
              "          const element = document.querySelector('#df-677e59c6-1927-4236-8cff-7f1892518694');\n",
              "          const dataTable =\n",
              "            await google.colab.kernel.invokeFunction('convertToInteractive',\n",
              "                                                     [key], {});\n",
              "          if (!dataTable) return;\n",
              "\n",
              "          const docLinkHtml = 'Like what you see? Visit the ' +\n",
              "            '<a target=\"_blank\" href=https://colab.research.google.com/notebooks/data_table.ipynb>data table notebook</a>'\n",
              "            + ' to learn more about interactive tables.';\n",
              "          element.innerHTML = '';\n",
              "          dataTable['output_type'] = 'display_data';\n",
              "          await google.colab.output.renderOutput(dataTable, element);\n",
              "          const docLink = document.createElement('div');\n",
              "          docLink.innerHTML = docLinkHtml;\n",
              "          element.appendChild(docLink);\n",
              "        }\n",
              "      </script>\n",
              "    </div>\n",
              "  </div>\n",
              "  "
            ],
            "text/plain": [
              "                                   0\n",
              "credit.policy              -0.117425\n",
              "int.rate                    0.063172\n",
              "installment                 0.234738\n",
              "log.annual.inc             -0.255390\n",
              "dti                        -0.022572\n",
              "fico                       -0.341067\n",
              "days.with.cr.line           0.046676\n",
              "revol.bal                   0.109244\n",
              "revol.util                  0.075585\n",
              "inq.last.6mths              0.238005\n",
              "delinq.2yrs                -0.042917\n",
              "pub.rec                     0.045375\n",
              "purpose_credit_card        -0.183343\n",
              "purpose_debt_consolidation -0.161954\n",
              "purpose_educational         0.000000\n",
              "purpose_home_improvement    0.007960\n",
              "purpose_major_purchase     -0.065951\n",
              "purpose_small_business      0.138019"
            ]
          },
          "metadata": {},
          "execution_count": 103
        }
      ]
    },
    {
      "cell_type": "code",
      "source": [
        "renamed_df=df.rename(columns={'credit.policy':'policy','int.rate':'int_rate', 'log.annual.inc':'log_income','days.with.cr.line':'days_with_cr_line',\n",
        "                   'revol.bal':'revol_bal','revol.util': 'revol_util','inq.last.6mths': 'inq', 'delinq.2yrs': 'delinq','pub.rec': 'pub_rec',\n",
        "                   'not.fully.paid': 'not_fully_paid'})"
      ],
      "metadata": {
        "id": "tCSYSqNVi4y1"
      },
      "execution_count": 128,
      "outputs": []
    },
    {
      "cell_type": "code",
      "source": [
        "# Fit logistic model using statsmodels\n",
        "from statsmodels.formula.api import logit\n",
        "\n",
        "loan_mod = logit(\n",
        "    'not_fully_paid ~ policy +purpose +int_rate +installment +log_income +dti+fico+days_with_cr_line+revol_bal+revol_util+inq+delinq+pub_rec',\n",
        "     renamed_df\n",
        ").fit()"
      ],
      "metadata": {
        "colab": {
          "base_uri": "https://localhost:8080/"
        },
        "id": "EnVHkNUehCIj",
        "outputId": "1f082520-1858-423c-d9f2-f9e7ccde89eb"
      },
      "execution_count": 218,
      "outputs": [
        {
          "output_type": "stream",
          "name": "stdout",
          "text": [
            "Optimization terminated successfully.\n",
            "         Current function value: 0.409930\n",
            "         Iterations 6\n"
          ]
        }
      ]
    },
    {
      "cell_type": "code",
      "source": [
        "print(loan_mod.summary())"
      ],
      "metadata": {
        "colab": {
          "base_uri": "https://localhost:8080/"
        },
        "id": "hiV8Z4Y8mupU",
        "outputId": "b5546b4e-ca87-4864-8eee-8093b6f3e9b8"
      },
      "execution_count": 219,
      "outputs": [
        {
          "output_type": "stream",
          "name": "stdout",
          "text": [
            "                           Logit Regression Results                           \n",
            "==============================================================================\n",
            "Dep. Variable:         not_fully_paid   No. Observations:                 9578\n",
            "Model:                          Logit   Df Residuals:                     9559\n",
            "Method:                           MLE   Df Model:                           18\n",
            "Date:                Thu, 10 Mar 2022   Pseudo R-squ.:                 0.06783\n",
            "Time:                        23:59:13   Log-Likelihood:                -3926.3\n",
            "converged:                       True   LL-Null:                       -4212.0\n",
            "Covariance Type:            nonrobust   LLR p-value:                9.357e-110\n",
            "=================================================================================================\n",
            "                                    coef    std err          z      P>|z|      [0.025      0.975]\n",
            "-------------------------------------------------------------------------------------------------\n",
            "Intercept                         8.5885      1.290      6.657      0.000       6.060      11.117\n",
            "purpose[T.credit_card]           -0.5321      0.109     -4.871      0.000      -0.746      -0.318\n",
            "purpose[T.debt_consolidation]    -0.3372      0.077     -4.362      0.000      -0.489      -0.186\n",
            "purpose[T.educational]            0.0680      0.152      0.448      0.654      -0.230       0.366\n",
            "purpose[T.home_improvement]       0.0931      0.126      0.737      0.461      -0.155       0.341\n",
            "purpose[T.major_purchase]        -0.3532      0.166     -2.126      0.034      -0.679      -0.028\n",
            "purpose[T.small_business]         0.5376      0.117      4.599      0.000       0.308       0.767\n",
            "policy                           -0.3289      0.084     -3.906      0.000      -0.494      -0.164\n",
            "int_rate                          1.5337      1.727      0.888      0.375      -1.852       4.919\n",
            "installment                       0.0012      0.000      6.900      0.000       0.001       0.002\n",
            "log_income                       -0.4093      0.060     -6.869      0.000      -0.526      -0.293\n",
            "dti                              -0.0003      0.005     -0.071      0.944      -0.009       0.009\n",
            "fico                             -0.0090      0.001     -6.337      0.000      -0.012      -0.006\n",
            "days_with_cr_line              1.303e-05   1.33e-05      0.979      0.327    -1.3e-05    3.91e-05\n",
            "revol_bal                      3.026e-06   9.51e-07      3.184      0.001    1.16e-06    4.89e-06\n",
            "revol_util                        0.0024      0.001      1.880      0.060      -0.000       0.005\n",
            "inq                               0.0866      0.014      6.316      0.000       0.060       0.113\n",
            "delinq                           -0.0881      0.056     -1.586      0.113      -0.197       0.021\n",
            "pub_rec                           0.2469      0.097      2.534      0.011       0.056       0.438\n",
            "=================================================================================================\n"
          ]
        }
      ]
    },
    {
      "cell_type": "code",
      "source": [
        "loan_mod.pred_table()"
      ],
      "metadata": {
        "colab": {
          "base_uri": "https://localhost:8080/"
        },
        "id": "oSSljDAonhDY",
        "outputId": "25ebbaf0-9f65-4c87-979d-7d542738df98"
      },
      "execution_count": 220,
      "outputs": [
        {
          "output_type": "execute_result",
          "data": {
            "text/plain": [
              "array([[8000.,   45.],\n",
              "       [1485.,   48.]])"
            ]
          },
          "metadata": {},
          "execution_count": 220
        }
      ]
    },
    {
      "cell_type": "code",
      "source": [
        "# By changing the threshold, we can find the best tradeoff between specificivity and sensitivity.\n",
        "pred = np.array(loan_mod_glm.predict(renamed_df.iloc[:,:-1]) > 0.18, dtype=float)\n",
        "table = np.histogram2d(renamed_df.iloc[:,-1], pred, bins=2)[0]\n",
        "print(table)"
      ],
      "metadata": {
        "colab": {
          "base_uri": "https://localhost:8080/"
        },
        "id": "tytw2-SVq_Ay",
        "outputId": "eea4e905-af51-4e89-920b-ae2a7f23c567"
      },
      "execution_count": 226,
      "outputs": [
        {
          "output_type": "stream",
          "name": "stdout",
          "text": [
            "[[5851. 2194.]\n",
            " [ 746.  787.]]\n"
          ]
        }
      ]
    },
    {
      "cell_type": "code",
      "source": [
        "mfx = loan_mod.get_margeff()\n",
        "print(mfx.summary())"
      ],
      "metadata": {
        "colab": {
          "base_uri": "https://localhost:8080/"
        },
        "id": "wVHLmlmwo-Rj",
        "outputId": "16d32aee-9432-4535-e704-3b567126b885"
      },
      "execution_count": 139,
      "outputs": [
        {
          "output_type": "stream",
          "name": "stdout",
          "text": [
            "        Logit Marginal Effects       \n",
            "=====================================\n",
            "Dep. Variable:         not_fully_paid\n",
            "Method:                          dydx\n",
            "At:                           overall\n",
            "=================================================================================================\n",
            "                                   dy/dx    std err          z      P>|z|      [0.025      0.975]\n",
            "-------------------------------------------------------------------------------------------------\n",
            "purpose[T.credit_card]           -0.0668      0.014     -4.878      0.000      -0.094      -0.040\n",
            "purpose[T.debt_consolidation]    -0.0424      0.010     -4.368      0.000      -0.061      -0.023\n",
            "purpose[T.educational]            0.0085      0.019      0.448      0.654      -0.029       0.046\n",
            "purpose[T.home_improvement]       0.0117      0.016      0.737      0.461      -0.019       0.043\n",
            "purpose[T.major_purchase]        -0.0444      0.021     -2.126      0.033      -0.085      -0.003\n",
            "purpose[T.small_business]         0.0675      0.015      4.610      0.000       0.039       0.096\n",
            "policy                           -0.0413      0.011     -3.913      0.000      -0.062      -0.021\n",
            "int_rate                          0.1926      0.217      0.888      0.375      -0.233       0.618\n",
            "installment                       0.0002   2.19e-05      6.925      0.000       0.000       0.000\n",
            "log_income                       -0.0514      0.007     -6.894      0.000      -0.066      -0.037\n",
            "dti                           -4.063e-05      0.001     -0.071      0.944      -0.001       0.001\n",
            "fico                             -0.0011      0.000     -6.349      0.000      -0.001      -0.001\n",
            "days_with_cr_line              1.636e-06   1.67e-06      0.980      0.327   -1.64e-06    4.91e-06\n",
            "revol_bal                      3.801e-07   1.19e-07      3.188      0.001    1.46e-07    6.14e-07\n",
            "revol_util                        0.0003      0.000      1.880      0.060   -1.28e-05       0.001\n",
            "inq                               0.0109      0.002      6.351      0.000       0.008       0.014\n",
            "delinq                           -0.0111      0.007     -1.587      0.113      -0.025       0.003\n",
            "pub_rec                           0.0310      0.012      2.536      0.011       0.007       0.055\n",
            "=================================================================================================\n"
          ]
        }
      ]
    },
    {
      "cell_type": "code",
      "source": [
        "# Fit logistic model using statsmodels glm (same model)\n",
        "from statsmodels.formula.api import glm\n",
        "import statsmodels.api as sm\n",
        "\n",
        "loan_mod_glm = glm(\n",
        "    'not_fully_paid ~ policy +purpose +int_rate +installment +log_income +dti+fico+days_with_cr_line+revol_bal+revol_util+inq+delinq+pub_rec',\n",
        "     renamed_df, family=sm.families.Binomial(),\n",
        ").fit()\n",
        "print(loan_mod_glm.summary())"
      ],
      "metadata": {
        "colab": {
          "base_uri": "https://localhost:8080/"
        },
        "id": "PVDYocwewyN7",
        "outputId": "b236d92f-fea5-496b-84f0-911c9a75dcab"
      },
      "execution_count": 229,
      "outputs": [
        {
          "output_type": "stream",
          "name": "stdout",
          "text": [
            "                 Generalized Linear Model Regression Results                  \n",
            "==============================================================================\n",
            "Dep. Variable:         not_fully_paid   No. Observations:                 9578\n",
            "Model:                            GLM   Df Residuals:                     9559\n",
            "Model Family:                Binomial   Df Model:                           18\n",
            "Link Function:                  logit   Scale:                          1.0000\n",
            "Method:                          IRLS   Log-Likelihood:                -3926.3\n",
            "Date:                Fri, 11 Mar 2022   Deviance:                       7852.6\n",
            "Time:                        00:05:20   Pearson chi2:                 9.39e+03\n",
            "No. Iterations:                     5                                         \n",
            "Covariance Type:            nonrobust                                         \n",
            "=================================================================================================\n",
            "                                    coef    std err          z      P>|z|      [0.025      0.975]\n",
            "-------------------------------------------------------------------------------------------------\n",
            "Intercept                         8.5885      1.290      6.657      0.000       6.060      11.117\n",
            "purpose[T.credit_card]           -0.5321      0.109     -4.871      0.000      -0.746      -0.318\n",
            "purpose[T.debt_consolidation]    -0.3372      0.077     -4.362      0.000      -0.489      -0.186\n",
            "purpose[T.educational]            0.0680      0.152      0.448      0.654      -0.230       0.366\n",
            "purpose[T.home_improvement]       0.0931      0.126      0.737      0.461      -0.155       0.341\n",
            "purpose[T.major_purchase]        -0.3532      0.166     -2.126      0.034      -0.679      -0.028\n",
            "purpose[T.small_business]         0.5376      0.117      4.599      0.000       0.308       0.767\n",
            "policy                           -0.3289      0.084     -3.906      0.000      -0.494      -0.164\n",
            "int_rate                          1.5337      1.727      0.888      0.375      -1.852       4.919\n",
            "installment                       0.0012      0.000      6.900      0.000       0.001       0.002\n",
            "log_income                       -0.4093      0.060     -6.869      0.000      -0.526      -0.293\n",
            "dti                              -0.0003      0.005     -0.071      0.944      -0.009       0.009\n",
            "fico                             -0.0090      0.001     -6.337      0.000      -0.012      -0.006\n",
            "days_with_cr_line              1.303e-05   1.33e-05      0.979      0.327    -1.3e-05    3.91e-05\n",
            "revol_bal                      3.026e-06   9.51e-07      3.184      0.001    1.16e-06    4.89e-06\n",
            "revol_util                        0.0024      0.001      1.880      0.060      -0.000       0.005\n",
            "inq                               0.0866      0.014      6.316      0.000       0.060       0.113\n",
            "delinq                           -0.0881      0.056     -1.586      0.113      -0.197       0.021\n",
            "pub_rec                           0.2469      0.097      2.534      0.011       0.056       0.438\n",
            "=================================================================================================\n"
          ]
        }
      ]
    },
    {
      "cell_type": "code",
      "source": [
        ""
      ],
      "metadata": {
        "id": "N1LWEEmypU88"
      },
      "execution_count": null,
      "outputs": []
    },
    {
      "cell_type": "markdown",
      "source": [
        "## Reference\n",
        "1. [Computer Age Statistical Inference, Algorithms, Evidence, and Data Science by Bradley Efron and Trevor Hastie.2016](https://hastie.su.domains/CASI/)\n",
        "2. [The Elements of Statistical Learning, Data Mining, Inference, and Prediction by Trevor Hastie, Robert Tibshirani, Jerome Friedman 2017 ](https://hastie.su.domains/Papers/ESLII.pdf)\n",
        "3. Data from https://www.kaggle.com/itssuru/loan-data?select=loan_data.csv"
      ],
      "metadata": {
        "id": "ahnRbFy3pVkf"
      }
    }
  ]
}